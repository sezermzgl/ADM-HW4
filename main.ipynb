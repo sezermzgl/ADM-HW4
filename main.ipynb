{
 "cells": [
  {
   "cell_type": "code",
   "execution_count": 1,
   "metadata": {},
   "outputs": [],
   "source": [
    "import pandas as pd\n",
    "import random\n"
   ]
  },
  {
   "cell_type": "code",
   "execution_count": 2,
   "metadata": {},
   "outputs": [],
   "source": [
    "def is_prime(n):\n",
    "    if n <= 1:\n",
    "        return False\n",
    "    for i in range(2, int(n**0.5) + 1):\n",
    "        if n % i == 0:\n",
    "            return False\n",
    "    return True\n",
    "\n",
    "def next_prime(n):\n",
    "    while not is_prime(n):\n",
    "        n += 1\n",
    "    return n\n"
   ]
  },
  {
   "cell_type": "code",
   "execution_count": null,
   "metadata": {},
   "outputs": [],
   "source": [
    "ratings = pd.read_csv('rating.csv')  \n",
    "movies = pd.read_csv('movie.csv')    \n",
    "\n",
    "df = pd.merge(ratings, movies, on='movieId', how='inner')\n",
    "\n",
    "print(df.head())"
   ]
  },
  {
   "cell_type": "code",
   "execution_count": null,
   "metadata": {},
   "outputs": [],
   "source": [
    "df.head()"
   ]
  },
  {
   "cell_type": "code",
   "execution_count": null,
   "metadata": {},
   "outputs": [],
   "source": [
    "df.isnull().sum()"
   ]
  },
  {
   "cell_type": "code",
   "execution_count": null,
   "metadata": {},
   "outputs": [],
   "source": [
    "df.info()\n"
   ]
  },
  {
   "cell_type": "code",
   "execution_count": null,
   "metadata": {},
   "outputs": [],
   "source": [
    "df.nunique()"
   ]
  },
  {
   "cell_type": "code",
   "execution_count": 8,
   "metadata": {},
   "outputs": [],
   "source": [
    "def minhash_scratch(user_movie_dict, perm):\n",
    "    all_movies = set(movie for movies in user_movie_dict.values() for movie in movies)\n",
    "\n",
    "    a_vals = [random.randint(1,len(all_movies)) for i in range(perm)]\n",
    "    b_vals = [random.randint(0,len(all_movies)) for i in range(perm)]\n",
    "\n",
    "    p = next_prime(len(all_movies) + 1)\n",
    "\n",
    "    user_sign = {user : [float('inf')] * perm for user in user_movie_dict}\n",
    "\n",
    "    for user, movies in user_movie_dict.items():\n",
    "        for movie in movies:\n",
    "            for i in range(perm):\n",
    "                hash_value = (a_vals[i] * movie + b_vals[i]) % p\n",
    "                if hash_value < user_sign[user][i]:\n",
    "                    user_sign[user][i] = hash_value\n",
    "    \n",
    "    return user_sign"
   ]
  },
  {
   "cell_type": "code",
   "execution_count": 9,
   "metadata": {},
   "outputs": [],
   "source": [
    "user_movie_dict = df.groupby('userId')['movieId'].apply(list).to_dict()"
   ]
  },
  {
   "cell_type": "code",
   "execution_count": null,
   "metadata": {},
   "outputs": [],
   "source": [
    "user_movie_dict"
   ]
  },
  {
   "cell_type": "code",
   "execution_count": 11,
   "metadata": {},
   "outputs": [],
   "source": [
    "from collections import defaultdict\n",
    "\n",
    "def lsh_scratch(minhash_signatures, num_bands, rows_per_band):\n",
    "    assert num_bands * rows_per_band == len(list(minhash_signatures.values())[0]), \\\n",
    "        \"ERROR: num_bands * rows_per_band does not match the signature length.\"\n",
    "\n",
    "    buckets = defaultdict(list)\n",
    "    candidate_pairs = set()\n",
    "\n",
    "    for band_idx in range(num_bands):\n",
    "        band_buckets = defaultdict(list)\n",
    "\n",
    "        for user, signature in minhash_signatures.items():\n",
    "            start_idx = band_idx * rows_per_band\n",
    "            end_idx = start_idx + rows_per_band\n",
    "            band = tuple(signature[start_idx:end_idx])\n",
    "\n",
    "            band_hash = hash(band)  # Built-in Python hash\n",
    "            band_buckets[band_hash].append(user)\n",
    "\n",
    "            print(f\"Band {band_idx}, Hash {band_hash}: {band_buckets[band_hash]}\")\n",
    "\n",
    "        # Add users to general buckets\n",
    "        for band_hash, users in band_buckets.items():\n",
    "            buckets[band_hash].extend(users)\n",
    "\n",
    "        # Check for candidate pairs\n",
    "        for bucket_users in band_buckets.values():\n",
    "            if len(bucket_users) > 1:\n",
    "                for i in range(len(bucket_users)):\n",
    "                    for j in range(i + 1, len(bucket_users)):\n",
    "                        candidate_pairs.add((bucket_users[i], bucket_users[j]))\n",
    "\n",
    "    return buckets, candidate_pairs\n"
   ]
  },
  {
   "cell_type": "code",
   "execution_count": 12,
   "metadata": {},
   "outputs": [],
   "source": [
    "minhash_signatures = minhash_scratch(user_movie_dict, 32)"
   ]
  },
  {
   "cell_type": "code",
   "execution_count": null,
   "metadata": {},
   "outputs": [],
   "source": [
    "minhash_signatures"
   ]
  },
  {
   "cell_type": "code",
   "execution_count": null,
   "metadata": {},
   "outputs": [],
   "source": [
    "num_bands = 8\n",
    "rows_per_band = 4\n",
    "\n",
    "buckets, candidate_pairs = lsh_scratch(minhash_signatures, num_bands, rows_per_band)\n",
    "\n"
   ]
  },
  {
   "cell_type": "code",
   "execution_count": null,
   "metadata": {},
   "outputs": [],
   "source": [
    "buckets"
   ]
  },
  {
   "cell_type": "code",
   "execution_count": null,
   "metadata": {},
   "outputs": [],
   "source": [
    "candidate_pairs"
   ]
  },
  {
   "cell_type": "code",
   "execution_count": null,
   "metadata": {},
   "outputs": [],
   "source": [
    "len(buckets)"
   ]
  },
  {
   "cell_type": "code",
   "execution_count": null,
   "metadata": {},
   "outputs": [],
   "source": [
    "len(candidate_pairs)"
   ]
  },
  {
   "cell_type": "code",
   "execution_count": 18,
   "metadata": {},
   "outputs": [],
   "source": [
    "# for user1, user2 in candidate_pairs:\n",
    "#     movies_user1 = set(user_movie_dict[user1])\n",
    "#     movies_user2 = set(user_movie_dict[user2])\n",
    "#     common_movies = movies_user1.intersection(movies_user2)\n",
    "#     print(f\"Users {user1} and {user2} have {len(common_movies)} movies in common.\")\n"
   ]
  },
  {
   "cell_type": "code",
   "execution_count": 20,
   "metadata": {},
   "outputs": [],
   "source": [
    "def find_similar_users(candidate_pairs, user_movie_dict):\n",
    "    similar_users = defaultdict(list)  \n",
    "\n",
    "    for user1, user2 in candidate_pairs:\n",
    "        movies_user1 = set(user_movie_dict[user1])\n",
    "        movies_user2 = set(user_movie_dict[user2])\n",
    "        \n",
    "        common_movies = movies_user1.intersection(movies_user2)\n",
    "        \n",
    "        if len(common_movies) > 0:\n",
    "            similar_users[user1].append((user2, len(common_movies)))\n",
    "            similar_users[user2].append((user1, len(common_movies)))\n",
    "\n",
    "    for user in similar_users:\n",
    "        similar_users[user] = sorted(similar_users[user], key=lambda x: x[1], reverse=True)\n",
    "    \n",
    "    return similar_users\n"
   ]
  },
  {
   "cell_type": "code",
   "execution_count": 21,
   "metadata": {},
   "outputs": [],
   "source": [
    "def recommend_movies(user, similar_users, user_movie_dict, rating_dict, max_recommendations=5):\n",
    "    user_movies = set(user_movie_dict[user]) \n",
    "    recommendations = {}\n",
    "\n",
    "    if user not in similar_users:\n",
    "        return []  \n",
    "    \n",
    "    for similar_user, _ in similar_users[user]:\n",
    "        similar_user_movies = set(user_movie_dict[similar_user])\n",
    "        \n",
    "        unseen_movies = similar_user_movies - user_movies\n",
    "        \n",
    "        for movie in unseen_movies:\n",
    "            if movie not in recommendations:\n",
    "                recommendations[movie] = rating_dict[similar_user].get(movie, 0)  \n",
    "            else:\n",
    "                recommendations[movie] += rating_dict[similar_user].get(movie, 0) \n",
    "    \n",
    "    sorted_recommendations = sorted(recommendations.items(), key=lambda x: x[1], reverse=True)\n",
    "    \n",
    "    return [movie for movie, _ in sorted_recommendations[:max_recommendations]]\n"
   ]
  },
  {
   "cell_type": "code",
   "execution_count": 25,
   "metadata": {},
   "outputs": [],
   "source": [
    "rating_dict = (\n",
    "    df.groupby('userId')\n",
    "    .apply(lambda x: dict(zip(x['movieId'], x['rating'])))\n",
    "    .to_dict()\n",
    ")\n"
   ]
  },
  {
   "cell_type": "code",
   "execution_count": null,
   "metadata": {},
   "outputs": [],
   "source": [
    "similar_users = find_similar_users(candidate_pairs, user_movie_dict)\n",
    "\n",
    "user_id = 1 \n",
    "recommended_movies = recommend_movies(user_id, similar_users, user_movie_dict, rating_dict)\n",
    "\n",
    "print(f\"Recommended Movies for User {user_id}: {recommended_movies}\")\n"
   ]
  },
  {
   "cell_type": "code",
   "execution_count": null,
   "metadata": {},
   "outputs": [],
   "source": []
  }
 ],
 "metadata": {
  "kernelspec": {
   "display_name": "tf_m1",
   "language": "python",
   "name": "python3"
  },
  "language_info": {
   "codemirror_mode": {
    "name": "ipython",
    "version": 3
   },
   "file_extension": ".py",
   "mimetype": "text/x-python",
   "name": "python",
   "nbconvert_exporter": "python",
   "pygments_lexer": "ipython3",
   "version": "3.10.11"
  }
 },
 "nbformat": 4,
 "nbformat_minor": 2
}
