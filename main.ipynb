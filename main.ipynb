{
 "cells": [
  {
   "cell_type": "code",
   "execution_count": 1,
   "metadata": {},
   "outputs": [],
   "source": [
    "import pandas as pd\n",
    "import random\n"
   ]
  },
  {
   "cell_type": "markdown",
   "metadata": {},
   "source": [
    "### Prime Number Functions\n",
    "\n",
    "**`is_prime(n)`**  \n",
    "- Checks if a number `n` is prime.\n",
    "- Returns `True` if `n > 1` and divisible only by 1 and itself, else `False`.\n",
    "\n",
    "**`next_prime(n)`**  \n",
    "- Finds the next prime number ≥ `n`.\n",
    "- Uses `is_prime` to incrementally check numbers until a prime is found.\n"
   ]
  },
  {
   "cell_type": "code",
   "execution_count": 2,
   "metadata": {},
   "outputs": [],
   "source": [
    "def is_prime(n):\n",
    "    if n <= 1:\n",
    "        return False\n",
    "    for i in range(2, int(n**0.5) + 1):\n",
    "        if n % i == 0:\n",
    "            return False\n",
    "    return True\n",
    "\n",
    "def next_prime(n):\n",
    "    while not is_prime(n):\n",
    "        n += 1\n",
    "    return n\n"
   ]
  },
  {
   "cell_type": "markdown",
   "metadata": {},
   "source": [
    "### Loading and Merging Datasets\n",
    "\n",
    "1. **Load Datasets**  \n",
    "   - `ratings`: Contains user ratings for movies (`rating.csv`).  \n",
    "   - `movies`: Contains movie information (`movie.csv`).\n",
    "\n",
    "2. **Merge Datasets**  \n",
    "   - Combine `ratings` and `movies` on the `movieId` column using an inner join.  \n",
    "   - Result: A unified DataFrame `df` with movie ratings and details.\n",
    "\n",
    "3. **Preview the Data**  \n",
    "   - Display the first few rows of the merged DataFrame using `df.head()`.\n"
   ]
  },
  {
   "cell_type": "code",
   "execution_count": null,
   "metadata": {},
   "outputs": [],
   "source": [
    "ratings = pd.read_csv('rating.csv')  \n",
    "movies = pd.read_csv('movie.csv')    \n",
    "\n",
    "df = pd.merge(ratings, movies, on='movieId', how='inner')\n"
   ]
  },
  {
   "cell_type": "code",
   "execution_count": null,
   "metadata": {},
   "outputs": [],
   "source": [
    "df.head()"
   ]
  },
  {
   "cell_type": "code",
   "execution_count": null,
   "metadata": {},
   "outputs": [],
   "source": [
    "df.isnull().sum()"
   ]
  },
  {
   "cell_type": "code",
   "execution_count": null,
   "metadata": {},
   "outputs": [],
   "source": [
    "df.info()\n"
   ]
  },
  {
   "cell_type": "code",
   "execution_count": null,
   "metadata": {},
   "outputs": [],
   "source": [
    "df.nunique()"
   ]
  },
  {
   "cell_type": "markdown",
   "metadata": {},
   "source": [
    "### MinHash Implementation from Scratch\n",
    "\n",
    "**`minhash_scratch(user_movie_dict, perm)`**\n",
    "\n",
    "1. **Purpose**  \n",
    "   - Generate MinHash signatures for each user based on the movies they have rated.  \n",
    "\n",
    "2. **Parameters**  \n",
    "   - `user_movie_dict`: Dictionary where keys are users and values are lists of movie IDs.  \n",
    "   - `perm`: Number of hash functions (permutations) to use for the MinHash computation.\n",
    "\n",
    "3. **Logic**  \n",
    "   - **Generate Unique Movie Set:** Extract all unique movie IDs across all users.  \n",
    "   - **Hash Functions:**  \n",
    "     - Generate `perm` random coefficients `a` and `b` for hash functions.  \n",
    "     - Use a prime number `p` greater than the total number of movies to ensure good hashing.  \n",
    "   - **Initialization:** Create a dictionary to store MinHash signatures (`user_sign`), initialized with infinity (`float('inf')`) for each permutation.  \n",
    "   - **Hash Computation:**  \n",
    "     - For each user and their rated movies:  \n",
    "       - Compute the hash value for each movie using \\( \\text{hash} = (a \\cdot \\text{movieId} + b) \\% p \\).  \n",
    "       - Update the user's MinHash signature with the smallest hash value for each permutation.\n",
    "\n",
    "4. **Return**  \n",
    "   - `user_sign`: Dictionary containing MinHash signatures for each user.\n",
    "\n"
   ]
  },
  {
   "cell_type": "code",
   "execution_count": 8,
   "metadata": {},
   "outputs": [],
   "source": [
    "def minhash_scratch(user_movie_dict, perm):\n",
    "    all_movies = set(movie for movies in user_movie_dict.values() for movie in movies)\n",
    "\n",
    "    a_vals = [random.randint(1,len(all_movies)) for i in range(perm)]\n",
    "    b_vals = [random.randint(0,len(all_movies)) for i in range(perm)]\n",
    "\n",
    "    p = next_prime(len(all_movies) + 1)\n",
    "\n",
    "    user_sign = {user : [float('inf')] * perm for user in user_movie_dict}\n",
    "\n",
    "    for user, movies in user_movie_dict.items():\n",
    "        for movie in movies:\n",
    "            for i in range(perm):\n",
    "                hash_value = (a_vals[i] * movie + b_vals[i]) % p ## Why we need the smallest hash values??\n",
    "                if hash_value < user_sign[user][i]:\n",
    "                    user_sign[user][i] = hash_value\n",
    "    \n",
    "    return user_sign"
   ]
  },
  {
   "cell_type": "markdown",
   "metadata": {},
   "source": [
    "### Creating `user_movie_dict`\n",
    "\n",
    "- **Group by `userId`:** Groups the DataFrame by users.\n",
    "- **Extract `movieId`:** Collects all movie IDs each user has rated.\n",
    "- **Convert to List:** Combines the movie IDs into lists for each user.\n",
    "- **Convert to Dictionary:** Creates a dictionary where:\n",
    "  - Keys: `userId` (user identifiers).\n",
    "  - Values: Lists of `movieId` (movies rated by the user).\n",
    "\n",
    "**Result:**  \n",
    "A dictionary `user_movie_dict` where each user is associated with the list of movies they have rated.\n"
   ]
  },
  {
   "cell_type": "code",
   "execution_count": 9,
   "metadata": {},
   "outputs": [],
   "source": [
    "user_movie_dict = df.groupby('userId')['movieId'].apply(list).to_dict()"
   ]
  },
  {
   "cell_type": "code",
   "execution_count": null,
   "metadata": {},
   "outputs": [],
   "source": [
    "user_movie_dict"
   ]
  },
  {
   "cell_type": "markdown",
   "metadata": {},
   "source": [
    "### Locality-Sensitive Hashing (LSH) from Scratch\n",
    "\n",
    "**`lsh_scratch(minhash_signatures, num_bands, rows_per_band)`**\n",
    "\n",
    "1. **Purpose**  \n",
    "   - Implements the LSH algorithm to group users with similar MinHash signatures into the same buckets and identify candidate pairs for similarity checks.\n",
    "\n",
    "2. **Parameters**  \n",
    "   - `minhash_signatures`: Dictionary of users and their MinHash signatures.  \n",
    "   - `num_bands`: Number of bands to divide the signatures into.  \n",
    "   - `rows_per_band`: Number of rows in each band.\n",
    "\n",
    "3. **Logic**  \n",
    "   - **Assertion Check:** Ensures the total number of rows in bands matches the signature length.  \n",
    "   - **Initialization:**\n",
    "     - `buckets`: Stores all users grouped by their bucket hash.\n",
    "     - `candidate_pairs`: Holds all user pairs identified as candidates for similarity.  \n",
    "   - **Band Processing:**  \n",
    "     - For each band, slice the signature into sub-sections (`start_idx:end_idx`).  \n",
    "     - Hash each band to a `band_hash` and group users with the same hash into `band_buckets`.\n",
    "     - Print debug information: Band number, hash, and grouped users.\n",
    "   - **Update Buckets:**  \n",
    "     - Add the users in `band_buckets` to the global `buckets` structure.  \n",
    "   - **Identify Candidate Pairs:**  \n",
    "     - For users in the same `band_buckets` group, generate all possible user pairs.\n",
    "\n",
    "4. **Return Values**  \n",
    "   - `buckets`: Dictionary containing users grouped by bucket hash.  \n",
    "   - `candidate_pairs`: Set of user pairs identified as candidates for further similarity evaluation.\n",
    "\n",
    "5. **Key Steps:**\n",
    "   - **Band Hashing:**  \n",
    "     Users with similar MinHash signatures fall into the same bucket, increasing the likelihood of finding similar users.\n",
    "   - **Candidate Pair Generation:**  \n",
    "     User pairs in the same bucket are flagged as potentially similar for detailed similarity checks.\n",
    "\n",
    "**Debugging Output:**  \n",
    "For each band, the band index, hash values, and associated users are printed for tracking progress.\n"
   ]
  },
  {
   "cell_type": "code",
   "execution_count": 13,
   "metadata": {},
   "outputs": [],
   "source": [
    "from collections import defaultdict\n",
    "\n",
    "def lsh_scratch(minhash_signatures, num_bands, rows_per_band):\n",
    "    assert num_bands * rows_per_band == len(list(minhash_signatures.values())[0]), \\\n",
    "        \"ERROR: num_bands * rows_per_band does not match the signature length.\"\n",
    "\n",
    "    buckets = defaultdict(list)\n",
    "    candidate_pairs = set()\n",
    "\n",
    "    for band_idx in range(num_bands):\n",
    "        band_buckets = defaultdict(list)\n",
    "\n",
    "        for user, signature in minhash_signatures.items():\n",
    "            start_idx = band_idx * rows_per_band\n",
    "            end_idx = start_idx + rows_per_band\n",
    "            band = tuple(signature[start_idx:end_idx])\n",
    "\n",
    "            band_hash = hash(band)  # Built-in Python hash\n",
    "            band_buckets[band_hash].append(user)\n",
    "\n",
    "            print(f\"Band {band_idx}, Hash {band_hash}: {band_buckets[band_hash]}\")\n",
    "\n",
    "        # Add users to general buckets\n",
    "        for band_hash, users in band_buckets.items():\n",
    "            buckets[band_hash].extend(users)\n",
    "\n",
    "        # Check for candidate pairs\n",
    "        for bucket_users in band_buckets.values():\n",
    "            if len(bucket_users) > 1:\n",
    "                for i in range(len(bucket_users)):\n",
    "                    for j in range(i + 1, len(bucket_users)):\n",
    "                        candidate_pairs.add((bucket_users[i], bucket_users[j]))\n",
    "\n",
    "    return buckets, candidate_pairs\n"
   ]
  },
  {
   "cell_type": "code",
   "execution_count": 11,
   "metadata": {},
   "outputs": [],
   "source": [
    "minhash_signatures = minhash_scratch(user_movie_dict, 32)"
   ]
  },
  {
   "cell_type": "code",
   "execution_count": null,
   "metadata": {},
   "outputs": [],
   "source": [
    "minhash_signatures"
   ]
  },
  {
   "cell_type": "code",
   "execution_count": null,
   "metadata": {},
   "outputs": [],
   "source": [
    "num_bands = 8\n",
    "rows_per_band = 4\n",
    "\n",
    "buckets, candidate_pairs = lsh_scratch(minhash_signatures, num_bands, rows_per_band)\n",
    "\n"
   ]
  },
  {
   "cell_type": "code",
   "execution_count": null,
   "metadata": {},
   "outputs": [],
   "source": [
    "buckets"
   ]
  },
  {
   "cell_type": "code",
   "execution_count": null,
   "metadata": {},
   "outputs": [],
   "source": [
    "candidate_pairs"
   ]
  },
  {
   "cell_type": "code",
   "execution_count": null,
   "metadata": {},
   "outputs": [],
   "source": [
    "len(buckets)"
   ]
  },
  {
   "cell_type": "code",
   "execution_count": null,
   "metadata": {},
   "outputs": [],
   "source": [
    "len(candidate_pairs)"
   ]
  },
  {
   "cell_type": "markdown",
   "metadata": {},
   "source": [
    "### Finding Similar Users\n",
    "\n",
    "**Function:** `find_similar_users(candidate_pairs, user_movie_dict)`\n",
    "\n",
    "This function identifies and ranks similar users based on the number of movies they have in common, leveraging the candidate pairs generated by the LSH algorithm.\n",
    "\n",
    "---\n",
    "\n",
    "#### **1. Parameters**\n",
    "- **`candidate_pairs`**: Set of user pairs identified as potentially similar.  \n",
    "- **`user_movie_dict`**: Dictionary mapping users to the list of movies they have rated.\n",
    "\n",
    "---\n",
    "\n",
    "#### **2. Logic**\n",
    "- **Step 1: Calculate Common Movies**  \n",
    "  - For each user pair in `candidate_pairs`:  \n",
    "    - Retrieve their respective movie lists and convert them into sets.  \n",
    "    - Compute the intersection of the sets to find common movies.  \n",
    "    - If the intersection is non-empty, add the pair to the `similar_users` dictionary, along with the count of common movies.  \n",
    "\n",
    "- **Step 2: Sort Similar Users**  \n",
    "  - For each user, sort their list of similar users in descending order of the number of common movies.\n",
    "\n",
    "---\n",
    "\n",
    "#### **3. Return Value**\n",
    "- **`similar_users`**:  \n",
    "  A dictionary where each user is mapped to a list of tuples.  \n",
    "  - Each tuple contains:  \n",
    "    1. A similar user.  \n",
    "    2. The number of movies they have in common.  \n",
    "  - The list is sorted by the number of common movies (highest first).\n",
    "\n",
    "---\n",
    "\n",
    "#### **4. Example Workflow**\n",
    "\n",
    "**Input:**  \n",
    "```python\n",
    "candidate_pairs = {('User1', 'User2'), ('User1', 'User3')}\n",
    "user_movie_dict = {\n",
    "    'User1': [101, 102, 103],\n",
    "    'User2': [101, 103, 104],\n",
    "    'User3': [102, 105]\n",
    "}\n",
    "\n"
   ]
  },
  {
   "cell_type": "markdown",
   "metadata": {},
   "source": [
    "---"
   ]
  },
  {
   "cell_type": "markdown",
   "metadata": {},
   "source": [
    "**Output:**  \n",
    "```python\n",
    "{\n",
    "    'User1': [('User2', 2), ('User3', 1)],\n",
    "    'User2': [('User1', 2)],\n",
    "    'User3': [('User1', 1)]\n",
    "}\n"
   ]
  },
  {
   "cell_type": "code",
   "execution_count": 23,
   "metadata": {},
   "outputs": [],
   "source": [
    "def find_similar_users(candidate_pairs, user_movie_dict):\n",
    "    similar_users = defaultdict(list)  \n",
    "\n",
    "    for user1, user2 in candidate_pairs:\n",
    "        movies_user1 = set(user_movie_dict[user1])\n",
    "        movies_user2 = set(user_movie_dict[user2])\n",
    "        \n",
    "        common_movies = movies_user1.intersection(movies_user2)\n",
    "        \n",
    "        if len(common_movies) > 0:\n",
    "            similar_users[user1].append((user2, len(common_movies)))\n",
    "            similar_users[user2].append((user1, len(common_movies)))\n",
    "\n",
    "    for user in similar_users:\n",
    "        similar_users[user] = sorted(similar_users[user], key=lambda x: x[1], reverse=True)\n",
    "    \n",
    "    return similar_users\n"
   ]
  },
  {
   "cell_type": "markdown",
   "metadata": {},
   "source": [
    "### Movie Recommendation Function\n",
    "\n",
    "**Function:** `recommend_movies(user, similar_users, user_movie_dict, rating_dict, max_recommendations=5)`\n",
    "\n",
    "This function recommends movies to a user based on the preferences of similar users.\n",
    "\n",
    "---\n",
    "\n",
    "#### **1. Parameters**\n",
    "- **`user`**: The target user for whom the recommendations are generated.  \n",
    "- **`similar_users`**: A dictionary mapping users to their similar users and the number of common movies.  \n",
    "- **`user_movie_dict`**: A dictionary mapping users to the list of movies they have rated.  \n",
    "- **`rating_dict`**: A dictionary mapping users to their movie ratings as `{movieId: rating}`.  \n",
    "- **`max_recommendations`**: The maximum number of movies to recommend (default is 5).\n",
    "\n",
    "---\n",
    "\n",
    "#### **2. Logic**\n",
    "1. **Identify Movies Already Watched**  \n",
    "   - Extract the list of movies the target user has already watched to avoid recommending these.\n",
    "\n",
    "2. **Iterate Over Similar Users**  \n",
    "   - For each similar user:\n",
    "     - Identify the movies they have watched but the target user has not (`unseen_movies`).\n",
    "\n",
    "3. **Aggregate Ratings for Unseen Movies**  \n",
    "   - For each unseen movie:\n",
    "     - If it is not already in the recommendation list, add it with the similar user's rating.\n",
    "     - If it is already in the list, add the rating to its existing score.  \n",
    "   - This ensures that movies recommended by multiple similar users receive a higher score.\n",
    "\n",
    "4. **Sort Recommendations**  \n",
    "   - Sort the unseen movies by their aggregated scores in descending order.\n",
    "\n",
    "5. **Return Top Recommendations**  \n",
    "   - Return the top `max_recommendations` movies from the sorted list.\n",
    "\n",
    "---\n",
    "\n",
    "#### **3. Return Value**\n",
    "- A list of movie IDs representing the top recommended movies, sorted by their scores.\n",
    "\n",
    "---\n",
    "\n",
    "#### **4. Example Workflow**\n",
    "\n",
    "**Input:**  \n",
    "```python\n",
    "user = 'User1'\n",
    "similar_users = {\n",
    "    'User1': [('User2', 5), ('User3', 3)]\n",
    "}\n",
    "user_movie_dict = {\n",
    "    'User1': [101, 102],\n",
    "    'User2': [102, 103],\n",
    "    'User3': [103, 104]\n",
    "}\n",
    "rating_dict = {\n",
    "    'User2': {102: 4, 103: 5},\n",
    "    'User3': {103: 3, 104: 4}\n",
    "}\n"
   ]
  },
  {
   "cell_type": "markdown",
   "metadata": {},
   "source": [
    "---"
   ]
  },
  {
   "cell_type": "markdown",
   "metadata": {},
   "source": [
    "**Output:**  \n",
    "```python\n",
    "[103, 104]\n"
   ]
  },
  {
   "cell_type": "code",
   "execution_count": 20,
   "metadata": {},
   "outputs": [],
   "source": [
    "def recommend_movies(user, similar_users, user_movie_dict, rating_dict, max_recommendations=5):\n",
    "    user_movies = set(user_movie_dict[user]) \n",
    "    recommendations = {}\n",
    "\n",
    "    if user not in similar_users:\n",
    "        return []  \n",
    "    \n",
    "    for similar_user, _ in similar_users[user]:\n",
    "        similar_user_movies = set(user_movie_dict[similar_user])\n",
    "        \n",
    "        unseen_movies = similar_user_movies - user_movies\n",
    "        \n",
    "        for movie in unseen_movies:\n",
    "            if movie not in recommendations:\n",
    "                recommendations[movie] = rating_dict[similar_user].get(movie, 0)  \n",
    "            else:\n",
    "                recommendations[movie] += rating_dict[similar_user].get(movie, 0) \n",
    "    \n",
    "    sorted_recommendations = sorted(recommendations.items(), key=lambda x: x[1], reverse=True)\n",
    "    \n",
    "    return [movie for movie, _ in sorted_recommendations[:max_recommendations]]\n"
   ]
  },
  {
   "cell_type": "markdown",
   "metadata": {},
   "source": [
    "### Creating `rating_dict`\n",
    "\n",
    "**Purpose:**  \n",
    "Creates a dictionary mapping each `userId` to their rated `movieId` and corresponding `rating`.\n",
    "\n",
    "**Steps:**  \n",
    "1. **Group by `userId`:** Groups movies and ratings for each user.  \n",
    "2. **`zip` and `dict`:** Combines `movieId` and `rating` into a dictionary for each user.  \n",
    "3. **Convert to `dict`:** Creates a nested dictionary.\n",
    "\n",
    "**Result:**  \n",
    "A dictionary in the format:\n",
    "```python\n",
    "{\n",
    "    'User1': {101: 4.0, 102: 5.0},\n",
    "    'User2': {103: 3.5, 104: 4.0},\n",
    "    ...\n",
    "}\n"
   ]
  },
  {
   "cell_type": "code",
   "execution_count": 21,
   "metadata": {},
   "outputs": [],
   "source": [
    "rating_dict = (\n",
    "    df.groupby('userId')\n",
    "    .apply(lambda x: dict(zip(x['movieId'], x['rating'])))\n",
    "    .to_dict()\n",
    ")\n"
   ]
  },
  {
   "cell_type": "code",
   "execution_count": 24,
   "metadata": {},
   "outputs": [],
   "source": [
    "similar_users = find_similar_users(candidate_pairs, user_movie_dict)"
   ]
  },
  {
   "cell_type": "code",
   "execution_count": null,
   "metadata": {},
   "outputs": [],
   "source": [
    "similar_users"
   ]
  },
  {
   "cell_type": "code",
   "execution_count": null,
   "metadata": {},
   "outputs": [],
   "source": [
    "user_id = 2 \n",
    "recommended_movies = recommend_movies(user_id, similar_users, user_movie_dict, rating_dict)\n",
    "\n",
    "print(f\"Recommended Movies for User {user_id}: {recommended_movies}\")"
   ]
  },
  {
   "cell_type": "code",
   "execution_count": null,
   "metadata": {},
   "outputs": [],
   "source": [
    "user_id = 1 \n",
    "recommended_movies = recommend_movies(user_id, similar_users, user_movie_dict, rating_dict)\n",
    "\n",
    "print(f\"Recommended Movies for User {user_id}: {recommended_movies}\")"
   ]
  },
  {
   "cell_type": "code",
   "execution_count": null,
   "metadata": {},
   "outputs": [],
   "source": []
  },
  {
   "cell_type": "code",
   "execution_count": 2,
   "metadata": {
    "colab": {
     "base_uri": "https://localhost:8080/"
    },
    "id": "VSOkyJ8TZB3v",
    "outputId": "a4bc7543-c14d-4155-fa5f-8312d9c10fc3"
   },
   "outputs": [
    {
     "name": "stdout",
     "output_type": "stream",
     "text": [
      "Downloading from https://www.kaggle.com/api/v1/datasets/download/grouplens/movielens-20m-dataset?dataset_version_number=1...\n"
     ]
    },
    {
     "name": "stderr",
     "output_type": "stream",
     "text": [
      "100%|██████████| 195M/195M [00:01<00:00, 108MB/s]"
     ]
    },
    {
     "name": "stdout",
     "output_type": "stream",
     "text": [
      "Extracting files...\n"
     ]
    },
    {
     "name": "stderr",
     "output_type": "stream",
     "text": [
      "\n"
     ]
    },
    {
     "name": "stdout",
     "output_type": "stream",
     "text": [
      "Path to dataset files: /root/.cache/kagglehub/datasets/grouplens/movielens-20m-dataset/versions/1\n"
     ]
    }
   ],
   "source": [
    "import kagglehub\n",
    "\n",
    "# Download latest version\n",
    "path = kagglehub.dataset_download(\"grouplens/movielens-20m-dataset\")\n",
    "\n",
    "print(\"Path to dataset files:\", path)"
   ]
  },
  {
   "cell_type": "code",
   "execution_count": 3,
   "metadata": {
    "colab": {
     "base_uri": "https://localhost:8080/"
    },
    "id": "_JuyQtyKak_B",
    "outputId": "879af362-36ab-47b1-9c6c-fdd0af2bae28"
   },
   "outputs": [
    {
     "name": "stdout",
     "output_type": "stream",
     "text": [
      "['genome_scores.csv', 'movie.csv', 'genome_tags.csv', 'link.csv', 'rating.csv', 'tag.csv']\n"
     ]
    }
   ],
   "source": [
    "import os\n",
    "\n",
    "root_path = '/root/.cache/kagglehub/datasets/grouplens/movielens-20m-dataset/versions/1'\n",
    "\n",
    "if os.path.exists(root_path):\n",
    "    print(os.listdir(root_path))"
   ]
  },
  {
   "cell_type": "markdown",
   "metadata": {
    "id": "0igxiT90i_l_"
   },
   "source": [
    "# **2.1 Feature Engineering**"
   ]
  },
  {
   "cell_type": "code",
   "execution_count": 4,
   "metadata": {
    "colab": {
     "base_uri": "https://localhost:8080/"
    },
    "id": "UwJPSHlXZw2l",
    "outputId": "ea7b9b60-f6cd-41fb-9fb7-d3fed34b7cd3"
   },
   "outputs": [
    {
     "name": "stdout",
     "output_type": "stream",
     "text": [
      "Movies:\n",
      "   movieId                               title  \\\n",
      "0        1                    Toy Story (1995)   \n",
      "1        2                      Jumanji (1995)   \n",
      "2        3             Grumpier Old Men (1995)   \n",
      "3        4            Waiting to Exhale (1995)   \n",
      "4        5  Father of the Bride Part II (1995)   \n",
      "\n",
      "                                        genres  \n",
      "0  Adventure|Animation|Children|Comedy|Fantasy  \n",
      "1                   Adventure|Children|Fantasy  \n",
      "2                               Comedy|Romance  \n",
      "3                         Comedy|Drama|Romance  \n",
      "4                                       Comedy  \n",
      "\n",
      "Ratings:\n",
      "   userId  movieId  rating            timestamp\n",
      "0       1        2     3.5  2005-04-02 23:53:47\n",
      "1       1       29     3.5  2005-04-02 23:31:16\n",
      "2       1       32     3.5  2005-04-02 23:33:39\n",
      "3       1       47     3.5  2005-04-02 23:32:07\n",
      "4       1       50     3.5  2005-04-02 23:29:40\n",
      "\n",
      "Genome Scores:\n",
      "   movieId  tagId  relevance\n",
      "0        1      1    0.02500\n",
      "1        1      2    0.02500\n",
      "2        1      3    0.05775\n",
      "3        1      4    0.09675\n",
      "4        1      5    0.14675\n",
      "\n",
      "Genome Tags:\n",
      "   tagId           tag\n",
      "0      1           007\n",
      "1      2  007 (series)\n",
      "2      3  18th century\n",
      "3      4         1920s\n",
      "4      5         1930s\n"
     ]
    }
   ],
   "source": [
    "import pandas as pd\n",
    "\n",
    "# Define the root path to the dataset\n",
    "root_path = '/root/.cache/kagglehub/datasets/grouplens/movielens-20m-dataset/versions/1'\n",
    "\n",
    "# Load data\n",
    "movies = pd.read_csv(f'{root_path}/movie.csv')\n",
    "ratings = pd.read_csv(f'{root_path}/rating.csv')\n",
    "genome_scores = pd.read_csv(f'{root_path}/genome_scores.csv')\n",
    "genome_tags = pd.read_csv(f'{root_path}/genome_tags.csv')\n",
    "\n",
    "# Display the first few rows of each file to understand the structure\n",
    "print(\"Movies:\")\n",
    "print(movies.head())\n",
    "print(\"\\nRatings:\")\n",
    "print(ratings.head())\n",
    "print(\"\\nGenome Scores:\")\n",
    "print(genome_scores.head())\n",
    "print(\"\\nGenome Tags:\")\n",
    "print(genome_tags.head())\n"
   ]
  },
  {
   "cell_type": "code",
   "execution_count": 5,
   "metadata": {
    "colab": {
     "base_uri": "https://localhost:8080/"
    },
    "id": "bEJh_Ojre_B6",
    "outputId": "bdf3f40b-9118-4419-b7d1-09b3aea2730f"
   },
   "outputs": [
    {
     "name": "stdout",
     "output_type": "stream",
     "text": [
      "Movies with average ratings:\n",
      "   movieId                               title  \\\n",
      "0        1                    Toy Story (1995)   \n",
      "1        2                      Jumanji (1995)   \n",
      "2        3             Grumpier Old Men (1995)   \n",
      "3        4            Waiting to Exhale (1995)   \n",
      "4        5  Father of the Bride Part II (1995)   \n",
      "\n",
      "                                        genres  ratings_avg  \n",
      "0  Adventure|Animation|Children|Comedy|Fantasy     3.921240  \n",
      "1                   Adventure|Children|Fantasy     3.211977  \n",
      "2                               Comedy|Romance     3.151040  \n",
      "3                         Comedy|Drama|Romance     2.861393  \n",
      "4                                       Comedy     3.064592  \n"
     ]
    }
   ],
   "source": [
    "# Calculate average rating for each movie\n",
    "movie_avg_ratings = ratings.groupby('movieId')['rating'].mean().reset_index()\n",
    "movie_avg_ratings.rename(columns={'rating': 'ratings_avg'}, inplace=True)\n",
    "\n",
    "# Merge the average ratings back to the movies DataFrame\n",
    "movies = movies.merge(movie_avg_ratings, on='movieId', how='left')\n",
    "\n",
    "print(\"Movies with average ratings:\")\n",
    "print(movies.head())\n"
   ]
  },
  {
   "cell_type": "code",
   "execution_count": 6,
   "metadata": {
    "colab": {
     "base_uri": "https://localhost:8080/"
    },
    "id": "uFeFg6pLfE_p",
    "outputId": "ca26375e-fd71-4c8c-adde-2bc1968bec83"
   },
   "outputs": [
    {
     "name": "stdout",
     "output_type": "stream",
     "text": [
      "Movies with genre features:\n",
      "   movieId                               title  \\\n",
      "0        1                    Toy Story (1995)   \n",
      "1        2                      Jumanji (1995)   \n",
      "2        3             Grumpier Old Men (1995)   \n",
      "3        4            Waiting to Exhale (1995)   \n",
      "4        5  Father of the Bride Part II (1995)   \n",
      "\n",
      "                                        genres  ratings_avg  \\\n",
      "0  Adventure|Animation|Children|Comedy|Fantasy     3.921240   \n",
      "1                   Adventure|Children|Fantasy     3.211977   \n",
      "2                               Comedy|Romance     3.151040   \n",
      "3                         Comedy|Drama|Romance     2.861393   \n",
      "4                                       Comedy     3.064592   \n",
      "\n",
      "   (no genres listed)  Action  Adventure  Animation  Children  Comedy  ...  \\\n",
      "0                   0       0          1          1         1       1  ...   \n",
      "1                   0       0          1          0         1       0  ...   \n",
      "2                   0       0          0          0         0       1  ...   \n",
      "3                   0       0          0          0         0       1  ...   \n",
      "4                   0       0          0          0         0       1  ...   \n",
      "\n",
      "   Film-Noir  Horror  IMAX  Musical  Mystery  Romance  Sci-Fi  Thriller  War  \\\n",
      "0          0       0     0        0        0        0       0         0    0   \n",
      "1          0       0     0        0        0        0       0         0    0   \n",
      "2          0       0     0        0        0        1       0         0    0   \n",
      "3          0       0     0        0        0        1       0         0    0   \n",
      "4          0       0     0        0        0        0       0         0    0   \n",
      "\n",
      "   Western  \n",
      "0        0  \n",
      "1        0  \n",
      "2        0  \n",
      "3        0  \n",
      "4        0  \n",
      "\n",
      "[5 rows x 24 columns]\n"
     ]
    }
   ],
   "source": [
    "# Split genres into binary features\n",
    "genre_columns = movies['genres'].str.get_dummies(sep='|')\n",
    "\n",
    "# Add the genre columns to the movies DataFrame\n",
    "movies = pd.concat([movies, genre_columns], axis=1)\n",
    "\n",
    "print(\"Movies with genre features:\")\n",
    "print(movies.head())"
   ]
  },
  {
   "cell_type": "code",
   "execution_count": 7,
   "metadata": {
    "colab": {
     "base_uri": "https://localhost:8080/"
    },
    "id": "sXUehu8tgYZd",
    "outputId": "21e7fd31-6a7e-4100-9a0f-b41df5730a98"
   },
   "outputs": [
    {
     "name": "stdout",
     "output_type": "stream",
     "text": [
      "Movies with relevant tags:\n",
      "   movieId                               title  \\\n",
      "0        1                    Toy Story (1995)   \n",
      "1        2                      Jumanji (1995)   \n",
      "2        3             Grumpier Old Men (1995)   \n",
      "3        4            Waiting to Exhale (1995)   \n",
      "4        5  Father of the Bride Part II (1995)   \n",
      "\n",
      "                                        genres  ratings_avg  \\\n",
      "0  Adventure|Animation|Children|Comedy|Fantasy     3.921240   \n",
      "1                   Adventure|Children|Fantasy     3.211977   \n",
      "2                               Comedy|Romance     3.151040   \n",
      "3                         Comedy|Drama|Romance     2.861393   \n",
      "4                                       Comedy     3.064592   \n",
      "\n",
      "   (no genres listed)  Action  Adventure  Animation  Children  Comedy  ...  \\\n",
      "0                   0       0          1          1         1       1  ...   \n",
      "1                   0       0          1          0         1       0  ...   \n",
      "2                   0       0          0          0         0       1  ...   \n",
      "3                   0       0          0          0         0       1  ...   \n",
      "4                   0       0          0          0         0       1  ...   \n",
      "\n",
      "   Horror  IMAX  Musical  Mystery  Romance  Sci-Fi  Thriller  War  Western  \\\n",
      "0       0     0        0        0        0       0         0    0        0   \n",
      "1       0     0        0        0        0       0         0    0        0   \n",
      "2       0     0        0        0        1       0         0    0        0   \n",
      "3       0     0        0        0        1       0         0    0        0   \n",
      "4       0     0        0        0        0       0         0    0        0   \n",
      "\n",
      "   relevant_genome_tag  \n",
      "0                 toys  \n",
      "1            adventure  \n",
      "2          good sequel  \n",
      "3                women  \n",
      "4          good sequel  \n",
      "\n",
      "[5 rows x 25 columns]\n"
     ]
    }
   ],
   "source": [
    "# Merge genome_scores with genome_tags to get tag names\n",
    "genome_data = genome_scores.merge(genome_tags, on='tagId', how='left')\n",
    "\n",
    "# Find the most relevant tag for each movie\n",
    "relevant_tags = genome_data.loc[genome_data.groupby('movieId')['relevance'].idxmax()]\n",
    "relevant_tags = relevant_tags[['movieId', 'tag']].rename(columns={'tag': 'relevant_genome_tag'})\n",
    "\n",
    "# Merge the relevant tags back to the movies DataFrame\n",
    "movies = movies.merge(relevant_tags, on='movieId', how='left')\n",
    "\n",
    "print(\"Movies with relevant tags:\")\n",
    "print(movies.head())"
   ]
  },
  {
   "cell_type": "code",
   "execution_count": 8,
   "metadata": {
    "colab": {
     "base_uri": "https://localhost:8080/"
    },
    "id": "MaALF9vGgk4m",
    "outputId": "6fcd23ff-9369-48df-f2f1-2d4ce4bf7f86"
   },
   "outputs": [
    {
     "name": "stdout",
     "output_type": "stream",
     "text": [
      "Movies with number of ratings:\n",
      "   movieId                               title  \\\n",
      "0        1                    Toy Story (1995)   \n",
      "1        2                      Jumanji (1995)   \n",
      "2        3             Grumpier Old Men (1995)   \n",
      "3        4            Waiting to Exhale (1995)   \n",
      "4        5  Father of the Bride Part II (1995)   \n",
      "\n",
      "                                        genres  ratings_avg  \\\n",
      "0  Adventure|Animation|Children|Comedy|Fantasy     3.921240   \n",
      "1                   Adventure|Children|Fantasy     3.211977   \n",
      "2                               Comedy|Romance     3.151040   \n",
      "3                         Comedy|Drama|Romance     2.861393   \n",
      "4                                       Comedy     3.064592   \n",
      "\n",
      "   (no genres listed)  Action  Adventure  Animation  Children  Comedy  ...  \\\n",
      "0                   0       0          1          1         1       1  ...   \n",
      "1                   0       0          1          0         1       0  ...   \n",
      "2                   0       0          0          0         0       1  ...   \n",
      "3                   0       0          0          0         0       1  ...   \n",
      "4                   0       0          0          0         0       1  ...   \n",
      "\n",
      "   IMAX  Musical  Mystery  Romance  Sci-Fi  Thriller  War  Western  \\\n",
      "0     0        0        0        0       0         0    0        0   \n",
      "1     0        0        0        0       0         0    0        0   \n",
      "2     0        0        0        1       0         0    0        0   \n",
      "3     0        0        0        1       0         0    0        0   \n",
      "4     0        0        0        0       0         0    0        0   \n",
      "\n",
      "   relevant_genome_tag  num_ratings  \n",
      "0                 toys      49695.0  \n",
      "1            adventure      22243.0  \n",
      "2          good sequel      12735.0  \n",
      "3                women       2756.0  \n",
      "4          good sequel      12161.0  \n",
      "\n",
      "[5 rows x 26 columns]\n"
     ]
    }
   ],
   "source": [
    "# Calculate the number of ratings for each movie\n",
    "movie_num_ratings = ratings.groupby('movieId')['rating'].count().reset_index()\n",
    "movie_num_ratings.rename(columns={'rating': 'num_ratings'}, inplace=True)\n",
    "\n",
    "# Merge the number of ratings back to the movies DataFrame\n",
    "movies = movies.merge(movie_num_ratings, on='movieId', how='left')\n",
    "\n",
    "print(\"Movies with number of ratings:\")\n",
    "print(movies.head())"
   ]
  },
  {
   "cell_type": "code",
   "execution_count": 9,
   "metadata": {
    "colab": {
     "base_uri": "https://localhost:8080/"
    },
    "id": "FLDrFym_guCz",
    "outputId": "845a356e-a4b6-4a8f-b7c0-03235af60f51"
   },
   "outputs": [
    {
     "name": "stdout",
     "output_type": "stream",
     "text": [
      "Movies with common user tags:\n",
      "   movieId                               title  \\\n",
      "0        1                    Toy Story (1995)   \n",
      "1        2                      Jumanji (1995)   \n",
      "2        3             Grumpier Old Men (1995)   \n",
      "3        4            Waiting to Exhale (1995)   \n",
      "4        5  Father of the Bride Part II (1995)   \n",
      "\n",
      "                                        genres  ratings_avg  \\\n",
      "0  Adventure|Animation|Children|Comedy|Fantasy     3.921240   \n",
      "1                   Adventure|Children|Fantasy     3.211977   \n",
      "2                               Comedy|Romance     3.151040   \n",
      "3                         Comedy|Drama|Romance     2.861393   \n",
      "4                                       Comedy     3.064592   \n",
      "\n",
      "   (no genres listed)  Action  Adventure  Animation  Children  Comedy  ...  \\\n",
      "0                   0       0          1          1         1       1  ...   \n",
      "1                   0       0          1          0         1       0  ...   \n",
      "2                   0       0          0          0         0       1  ...   \n",
      "3                   0       0          0          0         0       1  ...   \n",
      "4                   0       0          0          0         0       1  ...   \n",
      "\n",
      "   Musical  Mystery  Romance  Sci-Fi  Thriller  War  Western  \\\n",
      "0        0        0        0       0         0    0        0   \n",
      "1        0        0        0       0         0    0        0   \n",
      "2        0        0        1       0         0    0        0   \n",
      "3        0        0        1       0         0    0        0   \n",
      "4        0        0        0       0         0    0        0   \n",
      "\n",
      "   relevant_genome_tag  num_ratings  common_user_tag  \n",
      "0                 toys      49695.0            Pixar  \n",
      "1            adventure      22243.0   Robin Williams  \n",
      "2          good sequel      12735.0            moldy  \n",
      "3                women       2756.0      chick flick  \n",
      "4          good sequel      12161.0     steve martin  \n",
      "\n",
      "[5 rows x 27 columns]\n"
     ]
    }
   ],
   "source": [
    "# Load tags data\n",
    "tags = pd.read_csv(f'{root_path}/tag.csv')\n",
    "\n",
    "# Find the most common tag for each movie\n",
    "common_tags = tags.groupby('movieId')['tag'].agg(lambda x: x.value_counts().index[0]).reset_index()\n",
    "common_tags.rename(columns={'tag': 'common_user_tag'}, inplace=True)\n",
    "\n",
    "# Merge the common tags back to the movies DataFrame\n",
    "movies = movies.merge(common_tags, on='movieId', how='left')\n",
    "\n",
    "print(\"Movies with common user tags:\")\n",
    "print(movies.head())"
   ]
  },
  {
   "cell_type": "code",
   "execution_count": 10,
   "metadata": {
    "colab": {
     "base_uri": "https://localhost:8080/"
    },
    "id": "gD9P_H_Sg0AW",
    "outputId": "afb73d3f-6342-47a1-fa3b-fd90d1e5c671"
   },
   "outputs": [
    {
     "name": "stdout",
     "output_type": "stream",
     "text": [
      "Final Data for Clustering:\n",
      "   movieId  ratings_avg  num_ratings relevant_genome_tag common_user_tag  \\\n",
      "0        1     3.921240      49695.0                toys           Pixar   \n",
      "1        2     3.211977      22243.0           adventure  Robin Williams   \n",
      "2        3     3.151040      12735.0         good sequel           moldy   \n",
      "3        4     2.861393       2756.0               women     chick flick   \n",
      "4        5     3.064592      12161.0         good sequel    steve martin   \n",
      "\n",
      "   (no genres listed)  Action  Adventure  Animation  Children  ...  Film-Noir  \\\n",
      "0                   0       0          1          1         1  ...          0   \n",
      "1                   0       0          1          0         1  ...          0   \n",
      "2                   0       0          0          0         0  ...          0   \n",
      "3                   0       0          0          0         0  ...          0   \n",
      "4                   0       0          0          0         0  ...          0   \n",
      "\n",
      "   Horror  IMAX  Musical  Mystery  Romance  Sci-Fi  Thriller  War  Western  \n",
      "0       0     0        0        0        0       0         0    0        0  \n",
      "1       0     0        0        0        0       0         0    0        0  \n",
      "2       0     0        0        0        1       0         0    0        0  \n",
      "3       0     0        0        0        1       0         0    0        0  \n",
      "4       0     0        0        0        0       0         0    0        0  \n",
      "\n",
      "[5 rows x 25 columns]\n"
     ]
    }
   ],
   "source": [
    "# Select relevant columns for clustering\n",
    "final_data = movies[['movieId', 'ratings_avg', 'num_ratings', 'relevant_genome_tag', 'common_user_tag'] + list(genre_columns.columns)]\n",
    "\n",
    "# Display the final data for clustering\n",
    "print(\"Final Data for Clustering:\")\n",
    "print(final_data.head())\n"
   ]
  },
  {
   "cell_type": "code",
   "execution_count": 11,
   "metadata": {
    "colab": {
     "base_uri": "https://localhost:8080/"
    },
    "id": "HGeHH2-49b7P",
    "outputId": "5ddde49d-a1f7-44e7-dcfb-a5b4f7175639"
   },
   "outputs": [
    {
     "name": "stderr",
     "output_type": "stream",
     "text": [
      "<ipython-input-11-ffb20ee14912>:5: SettingWithCopyWarning: \n",
      "A value is trying to be set on a copy of a slice from a DataFrame.\n",
      "Try using .loc[row_indexer,col_indexer] = value instead\n",
      "\n",
      "See the caveats in the documentation: https://pandas.pydata.org/pandas-docs/stable/user_guide/indexing.html#returning-a-view-versus-a-copy\n",
      "  final_data['title_length'] = movies['title_length']\n"
     ]
    }
   ],
   "source": [
    "# Add a new feature: Length of the movie title\n",
    "movies['title_length'] = movies['title'].apply(len)\n",
    "\n",
    "# Include this feature in the final dataset\n",
    "final_data['title_length'] = movies['title_length']"
   ]
  },
  {
   "cell_type": "markdown",
   "metadata": {
    "id": "etR_eA9oiwjg"
   },
   "source": [
    "We achieved more than eight features because we represented each genre as a separate binary feature. Since movies can belong to multiple genres, each unique genre contributes a separate column. Additionally, we included other derived features such as the number of ratings, average rating, most relevant genome tag, most common user tag, title length, and more. Together, these exceed eight features, allowing for a more robust clustering analysis."
   ]
  },
  {
   "cell_type": "markdown",
   "metadata": {
    "id": "Nez8P0NzmAQo"
   },
   "source": [
    "# **2.2 Choose your features (variables)!**"
   ]
  },
  {
   "cell_type": "markdown",
   "metadata": {
    "id": "qCEQyQx6mUeY"
   },
   "source": [
    "**Normalize the data**\n",
    "\n",
    "Clustering algorithms, such as K-means, are sensitive to the scale of features. If some features (e.g., num_ratings) have a larger range of values, they will dominate over features with smaller ranges (e.g., ratings_avg), which can distort the results.\n",
    "\n",
    "We normalize numerical features, such as ratings_avg and num_ratings, to ensure all features contribute equally to the outcome.\n",
    "\n",
    "We will use StandardScaler from the sklearn library to standardize the data (bringing the mean to 0 and the standard deviation to 1)."
   ]
  },
  {
   "cell_type": "code",
   "execution_count": 12,
   "metadata": {
    "colab": {
     "base_uri": "https://localhost:8080/"
    },
    "id": "03gUTtFamEXK",
    "outputId": "9054b9b5-9810-4a87-e413-258615665765"
   },
   "outputs": [
    {
     "name": "stderr",
     "output_type": "stream",
     "text": [
      "<ipython-input-12-b9fcb87a4332>:15: SettingWithCopyWarning: \n",
      "A value is trying to be set on a copy of a slice from a DataFrame.\n",
      "Try using .loc[row_indexer,col_indexer] = value instead\n",
      "\n",
      "See the caveats in the documentation: https://pandas.pydata.org/pandas-docs/stable/user_guide/indexing.html#returning-a-view-versus-a-copy\n",
      "  data_for_clustering[numeric_features] = scaler.fit_transform(data_for_clustering[numeric_features])\n"
     ]
    }
   ],
   "source": [
    "from sklearn.preprocessing import StandardScaler\n",
    "\n",
    "# Step 1: Select numeric features for normalization\n",
    "numeric_features = ['ratings_avg', 'num_ratings']\n",
    "categorical_features = ['relevant_genome_tag', 'common_user_tag']\n",
    "genre_features = list(genre_columns)\n",
    "additional_features = ['title_length']\n",
    "\n",
    "# Combine all features for clustering\n",
    "final_features = numeric_features + genre_features + additional_features\n",
    "data_for_clustering = final_data[final_features]\n",
    "\n",
    "# Step 2: Normalize numeric features\n",
    "scaler = StandardScaler()\n",
    "data_for_clustering[numeric_features] = scaler.fit_transform(data_for_clustering[numeric_features])"
   ]
  },
  {
   "cell_type": "markdown",
   "metadata": {
    "id": "1faCbWgZmv5J"
   },
   "source": [
    "**Dimensionality Reduction**\n",
    "\n",
    "If we have too many features, it can increase computational complexity and make interpreting the results more challenging.\n",
    "We will use PCA (Principal Component Analysis) to reduce the number of features while preserving the most important information. PCA will decrease the number of features, preparing the data for the next clustering task."
   ]
  },
  {
   "cell_type": "code",
   "execution_count": 13,
   "metadata": {
    "colab": {
     "base_uri": "https://localhost:8080/"
    },
    "id": "bOpT6Pe4_OwV",
    "outputId": "3fb69f79-2e99-4ecb-85bb-df22d13717f5"
   },
   "outputs": [
    {
     "name": "stdout",
     "output_type": "stream",
     "text": [
      "ratings_avg           534\n",
      "num_ratings           534\n",
      "(no genres listed)      0\n",
      "Action                  0\n",
      "Adventure               0\n",
      "Animation               0\n",
      "Children                0\n",
      "Comedy                  0\n",
      "Crime                   0\n",
      "Documentary             0\n",
      "Drama                   0\n",
      "Fantasy                 0\n",
      "Film-Noir               0\n",
      "Horror                  0\n",
      "IMAX                    0\n",
      "Musical                 0\n",
      "Mystery                 0\n",
      "Romance                 0\n",
      "Sci-Fi                  0\n",
      "Thriller                0\n",
      "War                     0\n",
      "Western                 0\n",
      "title_length            0\n",
      "dtype: int64\n"
     ]
    }
   ],
   "source": [
    "print(data_for_clustering.isnull().sum())"
   ]
  },
  {
   "cell_type": "code",
   "execution_count": 14,
   "metadata": {
    "colab": {
     "base_uri": "https://localhost:8080/"
    },
    "id": "872tBUbl_kKj",
    "outputId": "22cf5a91-76c9-432d-9b72-981760389449"
   },
   "outputs": [
    {
     "name": "stderr",
     "output_type": "stream",
     "text": [
      "<ipython-input-14-b2febd6866ee>:1: FutureWarning: A value is trying to be set on a copy of a DataFrame or Series through chained assignment using an inplace method.\n",
      "The behavior will change in pandas 3.0. This inplace method will never work because the intermediate object on which we are setting values always behaves as a copy.\n",
      "\n",
      "For example, when doing 'df[col].method(value, inplace=True)', try using 'df.method({col: value}, inplace=True)' or df[col] = df[col].method(value) instead, to perform the operation inplace on the original object.\n",
      "\n",
      "\n",
      "  data_for_clustering['ratings_avg'].fillna(data_for_clustering['ratings_avg'].median(), inplace=True)\n",
      "<ipython-input-14-b2febd6866ee>:1: SettingWithCopyWarning: \n",
      "A value is trying to be set on a copy of a slice from a DataFrame\n",
      "\n",
      "See the caveats in the documentation: https://pandas.pydata.org/pandas-docs/stable/user_guide/indexing.html#returning-a-view-versus-a-copy\n",
      "  data_for_clustering['ratings_avg'].fillna(data_for_clustering['ratings_avg'].median(), inplace=True)\n",
      "<ipython-input-14-b2febd6866ee>:2: FutureWarning: A value is trying to be set on a copy of a DataFrame or Series through chained assignment using an inplace method.\n",
      "The behavior will change in pandas 3.0. This inplace method will never work because the intermediate object on which we are setting values always behaves as a copy.\n",
      "\n",
      "For example, when doing 'df[col].method(value, inplace=True)', try using 'df.method({col: value}, inplace=True)' or df[col] = df[col].method(value) instead, to perform the operation inplace on the original object.\n",
      "\n",
      "\n",
      "  data_for_clustering['num_ratings'].fillna(data_for_clustering['num_ratings'].median(), inplace=True)\n",
      "<ipython-input-14-b2febd6866ee>:2: SettingWithCopyWarning: \n",
      "A value is trying to be set on a copy of a slice from a DataFrame\n",
      "\n",
      "See the caveats in the documentation: https://pandas.pydata.org/pandas-docs/stable/user_guide/indexing.html#returning-a-view-versus-a-copy\n",
      "  data_for_clustering['num_ratings'].fillna(data_for_clustering['num_ratings'].median(), inplace=True)\n"
     ]
    }
   ],
   "source": [
    "data_for_clustering['ratings_avg'].fillna(data_for_clustering['ratings_avg'].median(), inplace=True)\n",
    "data_for_clustering['num_ratings'].fillna(data_for_clustering['num_ratings'].median(), inplace=True)\n"
   ]
  },
  {
   "cell_type": "code",
   "execution_count": 15,
   "metadata": {
    "colab": {
     "base_uri": "https://localhost:8080/"
    },
    "id": "3sSYBx8g_mJr",
    "outputId": "2725e71a-593b-4c84-d8ce-f5be14ae31e7"
   },
   "outputs": [
    {
     "name": "stdout",
     "output_type": "stream",
     "text": [
      "ratings_avg           0\n",
      "num_ratings           0\n",
      "(no genres listed)    0\n",
      "Action                0\n",
      "Adventure             0\n",
      "Animation             0\n",
      "Children              0\n",
      "Comedy                0\n",
      "Crime                 0\n",
      "Documentary           0\n",
      "Drama                 0\n",
      "Fantasy               0\n",
      "Film-Noir             0\n",
      "Horror                0\n",
      "IMAX                  0\n",
      "Musical               0\n",
      "Mystery               0\n",
      "Romance               0\n",
      "Sci-Fi                0\n",
      "Thriller              0\n",
      "War                   0\n",
      "Western               0\n",
      "title_length          0\n",
      "dtype: int64\n"
     ]
    }
   ],
   "source": [
    "print(data_for_clustering.isnull().sum())"
   ]
  },
  {
   "cell_type": "code",
   "execution_count": 16,
   "metadata": {
    "colab": {
     "base_uri": "https://localhost:8080/"
    },
    "id": "DePK_cN_nXNI",
    "outputId": "0f1e244a-48d6-458a-991a-db6482ca26f8"
   },
   "outputs": [
    {
     "name": "stdout",
     "output_type": "stream",
     "text": [
      "Explained variance ratio by each PCA component: [9.83382329e-01 5.36401398e-03 4.08053569e-03 1.36608761e-03\n",
      " 1.09117534e-03 7.04589013e-04 5.97820510e-04 5.45534626e-04\n",
      " 4.46659887e-04 3.59119082e-04]\n",
      "Cumulative explained variance: [0.98338233 0.98874634 0.99282688 0.99419297 0.99528414 0.99598873\n",
      " 0.99658655 0.99713209 0.99757875 0.99793786]\n",
      "Transformed data after PCA:\n",
      "         PC1        PC2        PC3       PC4       PC5       PC6       PC7  \\\n",
      "0 -11.920609  11.776959  10.673943 -0.433493  0.573338 -0.966150 -0.042606   \n",
      "1 -13.896026   4.888751   4.941758 -0.073519 -0.188957 -0.851970  0.370594   \n",
      "2  -4.888941   2.677514   2.805387 -0.635453  0.746797 -0.123458 -0.219541   \n",
      "3  -3.880981   0.203987   0.656786  0.033707  1.152778  0.137595 -0.028543   \n",
      "4   6.111320   2.423022   2.835492 -0.592923  0.403884 -0.140139 -0.358840   \n",
      "\n",
      "        PC8       PC9      PC10  \n",
      "0 -0.462749 -0.331836 -1.169014  \n",
      "1 -0.109743 -0.269114 -1.093726  \n",
      "2  0.610113  0.224862  0.110724  \n",
      "3  0.449217  0.070683  0.119360  \n",
      "4 -0.281494  0.057956  0.119480  \n"
     ]
    }
   ],
   "source": [
    "from sklearn.decomposition import PCA\n",
    "\n",
    "# Step 3: Perform dimensionality reduction using PCA\n",
    "pca = PCA(n_components=10)  # Reduce to 10 components for simplicity\n",
    "pca_data = pca.fit_transform(data_for_clustering)\n",
    "\n",
    "# Step 4: Analyze explained variance ratio\n",
    "explained_variance = pca.explained_variance_ratio_\n",
    "print(f\"Explained variance ratio by each PCA component: {explained_variance}\")\n",
    "print(f\"Cumulative explained variance: {explained_variance.cumsum()}\")\n",
    "\n",
    "# Step 5: Save transformed data\n",
    "data_pca = pd.DataFrame(pca_data, columns=[f'PC{i+1}' for i in range(pca_data.shape[1])])\n",
    "\n",
    "print(\"Transformed data after PCA:\")\n",
    "print(data_pca.head())"
   ]
  },
  {
   "cell_type": "markdown",
   "metadata": {
    "id": "T1wI6M0XN9yi"
   },
   "source": [
    "# **2.3 Clustering**"
   ]
  },
  {
   "cell_type": "markdown",
   "metadata": {
    "id": "ZDb3KGIeP8Xg"
   },
   "source": [
    "**Optimal number of clusters**"
   ]
  },
  {
   "cell_type": "code",
   "execution_count": 17,
   "metadata": {
    "colab": {
     "base_uri": "https://localhost:8080/",
     "height": 1000
    },
    "id": "_gzWIAVFN-Lt",
    "outputId": "48929cf6-d87c-410f-8570-e7c982cbdffb"
   },
   "outputs": [
    {
     "data": {
      "image/png": "[encoded data removed]",
      "text/plain": [
       "<Figure size 1200x600 with 1 Axes>"
      ]
     },
     "metadata": {},
     "output_type": "display_data"
    },
    {
     "data": {
      "image/png": "[encoded data removed]",
      "text/plain": [
       "<Figure size 1200x600 with 1 Axes>"
      ]
     },
     "metadata": {},
     "output_type": "display_data"
    }
   ],
   "source": [
    "from sklearn.cluster import KMeans\n",
    "from sklearn.metrics import silhouette_score\n",
    "import matplotlib.pyplot as plt\n",
    "\n",
    "# Elbow Method\n",
    "inertia = []\n",
    "silhouette_scores = []\n",
    "cluster_range = range(2, 11)\n",
    "\n",
    "for k in cluster_range:\n",
    "    kmeans = KMeans(n_clusters=k, random_state=42)\n",
    "    kmeans.fit(data_pca)\n",
    "    inertia.append(kmeans.inertia_)\n",
    "    silhouette_scores.append(silhouette_score(data_pca, kmeans.labels_))\n",
    "\n",
    "# Plot Elbow Method\n",
    "plt.figure(figsize=(12, 6))\n",
    "plt.plot(cluster_range, inertia, marker='o', label='Inertia')\n",
    "plt.title('Elbow Method')\n",
    "plt.xlabel('Number of Clusters')\n",
    "plt.ylabel('Inertia')\n",
    "plt.legend()\n",
    "plt.show()\n",
    "\n",
    "# Plot Silhouette Scores\n",
    "plt.figure(figsize=(12, 6))\n",
    "plt.plot(cluster_range, silhouette_scores, marker='o', label='Silhouette Score', color='orange')\n",
    "plt.title('Silhouette Scores')\n",
    "plt.xlabel('Number of Clusters')\n",
    "plt.ylabel('Score')\n",
    "plt.legend()\n",
    "plt.show()\n"
   ]
  },
  {
   "cell_type": "markdown",
   "metadata": {
    "id": "jsH8puJlQtOj"
   },
   "source": [
    "**Elbow Method:**\n",
    "The inertia graph shows a sharp decrease in inertia values as the number of clusters increases, especially up to 4 clusters. After that, the rate of decrease slows significantly.\n",
    "This suggests that the optimal number of clusters is likely around 4, as adding more clusters beyond this point does not significantly improve the model (inertia reduction becomes minimal).\n",
    "\n",
    "**Silhouette Scores:**\n",
    "The silhouette coefficient reaches its maximum at 2 clusters, then gradually decreases as the number of clusters increases.\n",
    "However, having only 2 clusters might be too generalized and could miss important details in the data. Values for 3 and 4 clusters remain relatively high, indicating that these are good choices for the number of clusters."
   ]
  },
  {
   "cell_type": "markdown",
   "metadata": {
    "id": "lNtMSnVSQ0_I"
   },
   "source": [
    "**K-means**"
   ]
  },
  {
   "cell_type": "code",
   "execution_count": 18,
   "metadata": {
    "colab": {
     "base_uri": "https://localhost:8080/"
    },
    "id": "Zwp2wvmPQ67O",
    "outputId": "65606582-6c9d-41eb-98d1-b86f0b9ba546"
   },
   "outputs": [
    {
     "name": "stdout",
     "output_type": "stream",
     "text": [
      "Converged at iteration 22\n",
      "Final cluster centers:\n",
      "[[ 4.27403915e+01  2.37098575e-02  1.33849086e-02  3.59663347e-02\n",
      "  -3.58786342e-02  2.49078560e-02 -8.38778487e-03  8.55401778e-03\n",
      "  -4.23105025e-03  1.23549209e-02]\n",
      " [-1.18143332e+00 -1.74488613e-02  4.82484823e-03 -2.36244524e-02\n",
      "   1.99332252e-02 -1.93790848e-02  9.27055794e-04  9.04425267e-03\n",
      "   7.77838195e-03 -5.98617762e-03]\n",
      " [-1.10028143e+01  6.53925689e-03  1.05070391e-02  1.77664442e-02\n",
      "  -1.55395570e-02  1.65806881e-02  2.95160835e-04 -3.73681569e-03\n",
      "  -5.17511273e-03  5.37428541e-03]\n",
      " [ 1.51716524e+01  1.46967997e-02 -3.72404099e-02 -1.16229567e-03\n",
      "   3.75592593e-03 -4.16992877e-03 -2.31562278e-04 -1.26578802e-02\n",
      "  -3.25421253e-03 -3.15539933e-03]]\n"
     ]
    }
   ],
   "source": [
    "import numpy as np\n",
    "\n",
    "# Initialize cluster centers randomly\n",
    "def initialize_centers(data, k):\n",
    "    np.random.seed(42)  # For reproducibility\n",
    "    random_indices = np.random.choice(data.shape[0], size=k, replace=False)\n",
    "    return data[random_indices]\n",
    "\n",
    "# Assign points to the nearest cluster center\n",
    "def assign_clusters(data, centers):\n",
    "    distances = np.linalg.norm(data[:, np.newaxis] - centers, axis=2)\n",
    "    return np.argmin(distances, axis=1)\n",
    "\n",
    "# Update cluster centers\n",
    "def update_centers(data, labels, k):\n",
    "    new_centers = np.array([data[labels == i].mean(axis=0) for i in range(k)])\n",
    "    return new_centers\n",
    "\n",
    "# K-means algorithm using MapReduce logic\n",
    "def kmeans(data, k, max_iters=100, tol=1e-4):\n",
    "    centers = initialize_centers(data, k)\n",
    "    for i in range(max_iters):\n",
    "        labels = assign_clusters(data, centers)\n",
    "        new_centers = update_centers(data, labels, k)\n",
    "\n",
    "        # Check for convergence\n",
    "        if np.all(np.abs(new_centers - centers) < tol):\n",
    "            print(f\"Converged at iteration {i}\")\n",
    "            break\n",
    "        centers = new_centers\n",
    "    return centers, labels\n",
    "\n",
    "# Run K-means with chosen k\n",
    "k = 4  # Set the number of clusters (from elbow method)\n",
    "data = data_pca.values  # Convert PCA-transformed data to NumPy array\n",
    "\n",
    "centers, labels = kmeans(data, k)\n",
    "\n",
    "# Output results\n",
    "print(\"Final cluster centers:\")\n",
    "print(centers)"
   ]
  },
  {
   "cell_type": "code",
   "execution_count": 19,
   "metadata": {
    "colab": {
     "base_uri": "https://localhost:8080/"
    },
    "id": "79nvrMLjTvPC",
    "outputId": "dd78f240-8ec7-4e01-80f8-212e472f105d"
   },
   "outputs": [
    {
     "name": "stdout",
     "output_type": "stream",
     "text": [
      "Number of points in each cluster:\n",
      "Cluster 2: 10954 points\n",
      "Cluster 1: 10074 points\n",
      "Cluster 3: 4886 points\n",
      "Cluster 0: 1364 points\n"
     ]
    }
   ],
   "source": [
    "from collections import Counter\n",
    "cluster_counts = Counter(labels)\n",
    "print(\"Number of points in each cluster:\")\n",
    "for cluster_id, count in cluster_counts.items():\n",
    "    print(f\"Cluster {cluster_id}: {count} points\")"
   ]
  },
  {
   "cell_type": "markdown",
   "metadata": {
    "id": "cFhBhD5VW_fh"
   },
   "source": [
    "**K-means++**"
   ]
  },
  {
   "cell_type": "code",
   "execution_count": 22,
   "metadata": {
    "colab": {
     "base_uri": "https://localhost:8080/"
    },
    "id": "buKFuWckW_4w",
    "outputId": "c4020e95-782a-4814-8293-77080dfed4d8"
   },
   "outputs": [
    {
     "name": "stdout",
     "output_type": "stream",
     "text": [
      "Cluster sizes with K-means++:\n",
      "Cluster 1: 16388 points\n",
      "Cluster 0: 7200 points\n",
      "Cluster 3: 3032 points\n",
      "Cluster 2: 658 points\n",
      "\n",
      "Cluster centers with K-means++:\n",
      "[[ 5.02548290e+00 -2.07652980e-02  2.20308553e-03 -2.32933882e-02\n",
      "  -1.45080441e-03 -1.39341165e-02  3.95483841e-04 -4.12726529e-03\n",
      "  -2.00774566e-03 -8.59732899e-03]\n",
      " [-8.68335345e+00  6.73275811e-04  7.53971807e-03  4.89767447e-03\n",
      "   1.30906971e-03  5.37089370e-03  1.42825891e-03  2.30759474e-03\n",
      "   1.06777371e-03  2.54576020e-03]\n",
      " [ 5.30943393e+01 -6.07562436e-02  1.28617667e-01  4.51159903e-02\n",
      "  -4.63166033e-02  5.51710866e-02  2.43208377e-03  2.61953460e-03\n",
      "  -1.09553205e-02  1.71821625e-02]\n",
      " [ 2.34773233e+01  5.88568964e-02 -7.38962863e-02  1.90511161e-02\n",
      "   6.42120128e-03 -7.91396520e-03 -9.18670902e-03 -3.24017357e-03\n",
      "   1.37390968e-03  2.92710675e-03]]\n"
     ]
    }
   ],
   "source": [
    "def kmeans_pp(data, k, max_iter=300, tol=1e-4):\n",
    "    n_samples, _ = data.shape\n",
    "    centroids = []\n",
    "\n",
    "    # Initialize centroids using K-means++\n",
    "    first_idx = np.random.randint(0, n_samples)\n",
    "    centroids.append(data[first_idx])\n",
    "\n",
    "    for _ in range(1, k):\n",
    "        distances = np.min([np.linalg.norm(data - c, axis=1) ** 2 for c in centroids], axis=0)\n",
    "        probabilities = distances / distances.sum()\n",
    "        next_idx = np.random.choice(range(n_samples), p=probabilities)\n",
    "        centroids.append(data[next_idx])\n",
    "\n",
    "    centroids = np.array(centroids)\n",
    "\n",
    "    # Perform K-means clustering\n",
    "    for _ in range(max_iter):\n",
    "        distances = np.linalg.norm(data[:, np.newaxis] - centroids, axis=2)\n",
    "        labels = np.argmin(distances, axis=1)\n",
    "        new_centroids = np.array([data[labels == i].mean(axis=0) for i in range(k)])\n",
    "\n",
    "        if np.linalg.norm(new_centroids - centroids) < tol:\n",
    "            break\n",
    "\n",
    "        centroids = new_centroids\n",
    "\n",
    "    return centroids, labels\n",
    "\n",
    "# Apply K-means++ to data_pca\n",
    "k = 4\n",
    "centroids_pp, labels_pp = kmeans_pp(data_pca.values, k)\n",
    "\n",
    "# Analyze cluster sizes\n",
    "from collections import Counter\n",
    "cluster_counts_pp = Counter(labels_pp)\n",
    "print(\"Cluster sizes with K-means++:\")\n",
    "for cluster_id, count in cluster_counts_pp.items():\n",
    "    print(f\"Cluster {cluster_id}: {count} points\")\n",
    "\n",
    "# Print cluster centers\n",
    "print(\"\\nCluster centers with K-means++:\")\n",
    "print(centroids_pp)\n"
   ]
  },
  {
   "cell_type": "markdown",
   "metadata": {
    "id": "P7lRaqwpYfz_"
   },
   "source": [
    "The cluster sizes remain the same, indicating that both methods arrived at the same distribution of points across clusters.\n",
    "\n",
    "\n",
    "The cluster centers for K-means++ differ from those of regular K-means. This is due to the difference in initialization methods. In K-means++, the initial centers are selected to minimize the likelihood of a poor choice of starting points, which typically leads to more stable and optimal results.\n",
    "Regular K-means uses random initialization, which can lead to varying results across different runs."
   ]
  },
  {
   "cell_type": "markdown",
   "metadata": {
    "id": "wYogtsp3aSm6"
   },
   "source": [
    "**DBSCAN (Density-Based Spatial Clustering of Applications with Noise)**\n",
    "\n",
    "1. The algorithm uses two main parameters:\n",
    "\n",
    "* eps (epsilon): the maximum distance between two points for them to be considered in the same cluster.\n",
    "* min_samples: the minimum number of points required within the eps radius for a point to be considered a \"core\" point.\n",
    "\n",
    "2. Points are categorized into three types:\n",
    "\n",
    "* Core points: have at least min_samples neighbors within the eps radius.\n",
    "\n",
    "* Border points: are within the eps radius of a core point but do not themselves have enough neighbors to be considered core points.\n",
    "\n",
    "* Noise points: do not belong to any cluster and are considered outliers.\n",
    "\n",
    "3. Clusters are formed around core points. Border points are assigned to the nearest cluster. Noise points remain unclustered.\n",
    "\n",
    "**Advantages of DBSCAN:**\n",
    "\n",
    "* Works well with clusters of arbitrary shapes.\n",
    "* Handles noise (outliers) effectively.\n",
    "* Does not require specifying the number of clusters in advance.\n",
    "\n",
    "**Disadvantages of DBSCAN:**\n",
    "\n",
    "* Sensitive to the choice of eps and min_samples parameters.\n",
    "* Struggles with high-dimensional data (due to increased computational complexity)."
   ]
  },
  {
   "cell_type": "code",
   "execution_count": 25,
   "metadata": {
    "colab": {
     "base_uri": "https://localhost:8080/"
    },
    "id": "yRlz964m40vb",
    "outputId": "ada68236-9445-424e-d6f0-bd548b589d20"
   },
   "outputs": [
    {
     "name": "stdout",
     "output_type": "stream",
     "text": [
      "Number of clusters (including noise): 585\n",
      "Cluster labels: [ -1   0   1   2   3   4   5   6   7   8   9  10  11  12  13  14  15  16\n",
      "  17  18  19  20  21  22  23  24  25  26  27  28  29  30  31  32  33  34\n",
      "  35  36  37  38  39  40  41  42  43  44  45  46  47  48  49  50  51  52\n",
      "  53  54  55  56  57  58  59  60  61  62  63  64  65  66  67  68  69  70\n",
      "  71  72  73  74  75  76  77  78  79  80  81  82  83  84  85  86  87  88\n",
      "  89  90  91  92  93  94  95  96  97  98  99 100 101 102 103 104 105 106\n",
      " 107 108 109 110 111 112 113 114 115 116 117 118 119 120 121 122 123 124\n",
      " 125 126 127 128 129 130 131 132 133 134 135 136 137 138 139 140 141 142\n",
      " 143 144 145 146 147 148 149 150 151 152 153 154 155 156 157 158 159 160\n",
      " 161 162 163 164 165 166 167 168 169 170 171 172 173 174 175 176 177 178\n",
      " 179 180 181 182 183 184 185 186 187 188 189 190 191 192 193 194 195 196\n",
      " 197 198 199 200 201 202 203 204 205 206 207 208 209 210 211 212 213 214\n",
      " 215 216 217 218 219 220 221 222 223 224 225 226 227 228 229 230 231 232\n",
      " 233 234 235 236 237 238 239 240 241 242 243 244 245 246 247 248 249 250\n",
      " 251 252 253 254 255 256 257 258 259 260 261 262 263 264 265 266 267 268\n",
      " 269 270 271 272 273 274 275 276 277 278 279 280 281 282 283 284 285 286\n",
      " 287 288 289 290 291 292 293 294 295 296 297 298 299 300 301 302 303 304\n",
      " 305 306 307 308 309 310 311 312 313 314 315 316 317 318 319 320 321 322\n",
      " 323 324 325 326 327 328 329 330 331 332 333 334 335 336 337 338 339 340\n",
      " 341 342 343 344 345 346 347 348 349 350 351 352 353 354 355 356 357 358\n",
      " 359 360 361 362 363 364 365 366 367 368 369 370 371 372 373 374 375 376\n",
      " 377 378 379 380 381 382 383 384 385 386 387 388 389 390 391 392 393 394\n",
      " 395 396 397 398 399 400 401 402 403 404 405 406 407 408 409 410 411 412\n",
      " 413 414 415 416 417 418 419 420 421 422 423 424 425 426 427 428 429 430\n",
      " 431 432 433 434 435 436 437 438 439 440 441 442 443 444 445 446 447 448\n",
      " 449 450 451 452 453 454 455 456 457 458 459 460 461 462 463 464 465 466\n",
      " 467 468 469 470 471 472 473 474 475 476 477 478 479 480 481 482 483 484\n",
      " 485 486 487 488 489 490 491 492 493 494 495 496 497 498 499 500 501 502\n",
      " 503 504 505 506 507 508 509 510 511 512 513 514 515 516 517 518 519 520\n",
      " 521 522 523 524 525 526 527 528 529 530 531 532 533 534 535 536 537 538\n",
      " 539 540 541 542 543 544 545 546 547 548 549 550 551 552 553 554 555 556\n",
      " 557 558 559 560 561 562 563 564 565 566 567 568 569 570 571 572 573 574\n",
      " 575 576 577 578 579 580 581 582 583]\n",
      "Average silhouette score (excluding noise): 0.302\n",
      "Cluster -1: 10565 points\n",
      "Cluster 198: 39 points\n",
      "Cluster 0: 163 points\n",
      "Cluster 1: 249 points\n",
      "Cluster 2: 50 points\n",
      "Cluster 3: 53 points\n",
      "Cluster 4: 139 points\n",
      "Cluster 5: 99 points\n",
      "Cluster 6: 236 points\n",
      "Cluster 7: 30 points\n",
      "Cluster 8: 169 points\n",
      "Cluster 56: 115 points\n",
      "Cluster 9: 46 points\n",
      "Cluster 112: 33 points\n",
      "Cluster 10: 184 points\n",
      "Cluster 11: 16 points\n",
      "Cluster 12: 30 points\n",
      "Cluster 13: 227 points\n",
      "Cluster 92: 65 points\n",
      "Cluster 14: 66 points\n",
      "Cluster 15: 53 points\n",
      "Cluster 16: 54 points\n",
      "Cluster 17: 7 points\n",
      "Cluster 18: 18 points\n",
      "Cluster 19: 96 points\n",
      "Cluster 68: 150 points\n",
      "Cluster 20: 79 points\n",
      "Cluster 21: 25 points\n",
      "Cluster 356: 21 points\n",
      "Cluster 22: 119 points\n",
      "Cluster 79: 46 points\n",
      "Cluster 23: 11 points\n",
      "Cluster 24: 36 points\n",
      "Cluster 25: 229 points\n",
      "Cluster 26: 207 points\n",
      "Cluster 27: 54 points\n",
      "Cluster 28: 49 points\n",
      "Cluster 29: 65 points\n",
      "Cluster 108: 63 points\n",
      "Cluster 30: 54 points\n",
      "Cluster 31: 29 points\n",
      "Cluster 32: 77 points\n",
      "Cluster 33: 46 points\n",
      "Cluster 34: 151 points\n",
      "Cluster 35: 51 points\n",
      "Cluster 36: 86 points\n",
      "Cluster 37: 19 points\n",
      "Cluster 38: 95 points\n",
      "Cluster 39: 5 points\n",
      "Cluster 40: 136 points\n",
      "Cluster 282: 21 points\n",
      "Cluster 41: 105 points\n",
      "Cluster 42: 6 points\n",
      "Cluster 508: 4 points\n",
      "Cluster 43: 56 points\n",
      "Cluster 44: 242 points\n",
      "Cluster 45: 46 points\n",
      "Cluster 170: 122 points\n",
      "Cluster 46: 35 points\n",
      "Cluster 96: 23 points\n",
      "Cluster 47: 25 points\n",
      "Cluster 48: 114 points\n",
      "Cluster 49: 82 points\n",
      "Cluster 50: 75 points\n",
      "Cluster 286: 7 points\n",
      "Cluster 51: 54 points\n",
      "Cluster 52: 53 points\n",
      "Cluster 53: 50 points\n",
      "Cluster 54: 184 points\n",
      "Cluster 55: 34 points\n",
      "Cluster 57: 60 points\n",
      "Cluster 58: 32 points\n",
      "Cluster 59: 222 points\n",
      "Cluster 60: 27 points\n",
      "Cluster 242: 42 points\n",
      "Cluster 61: 44 points\n",
      "Cluster 62: 17 points\n",
      "Cluster 63: 114 points\n",
      "Cluster 64: 52 points\n",
      "Cluster 65: 24 points\n",
      "Cluster 66: 41 points\n",
      "Cluster 67: 156 points\n",
      "Cluster 104: 18 points\n",
      "Cluster 69: 30 points\n",
      "Cluster 70: 50 points\n",
      "Cluster 71: 116 points\n",
      "Cluster 72: 26 points\n",
      "Cluster 73: 44 points\n",
      "Cluster 74: 57 points\n",
      "Cluster 75: 19 points\n",
      "Cluster 76: 30 points\n",
      "Cluster 77: 22 points\n",
      "Cluster 78: 8 points\n",
      "Cluster 177: 46 points\n",
      "Cluster 80: 16 points\n",
      "Cluster 81: 72 points\n",
      "Cluster 82: 37 points\n",
      "Cluster 83: 164 points\n",
      "Cluster 84: 21 points\n",
      "Cluster 85: 32 points\n",
      "Cluster 86: 86 points\n",
      "Cluster 87: 19 points\n",
      "Cluster 88: 60 points\n",
      "Cluster 99: 27 points\n",
      "Cluster 89: 5 points\n",
      "Cluster 90: 103 points\n",
      "Cluster 91: 50 points\n",
      "Cluster 93: 38 points\n",
      "Cluster 94: 10 points\n",
      "Cluster 255: 12 points\n",
      "Cluster 95: 214 points\n",
      "Cluster 97: 56 points\n",
      "Cluster 144: 21 points\n",
      "Cluster 100: 101 points\n",
      "Cluster 98: 242 points\n",
      "Cluster 101: 62 points\n",
      "Cluster 102: 78 points\n",
      "Cluster 103: 31 points\n",
      "Cluster 105: 20 points\n",
      "Cluster 106: 25 points\n",
      "Cluster 107: 150 points\n",
      "Cluster 109: 11 points\n",
      "Cluster 558: 5 points\n",
      "Cluster 110: 36 points\n",
      "Cluster 111: 43 points\n",
      "Cluster 445: 11 points\n",
      "Cluster 113: 29 points\n",
      "Cluster 411: 11 points\n",
      "Cluster 160: 21 points\n",
      "Cluster 114: 82 points\n",
      "Cluster 115: 78 points\n",
      "Cluster 116: 64 points\n",
      "Cluster 117: 61 points\n",
      "Cluster 118: 38 points\n",
      "Cluster 119: 85 points\n",
      "Cluster 120: 47 points\n",
      "Cluster 121: 8 points\n",
      "Cluster 122: 12 points\n",
      "Cluster 123: 62 points\n",
      "Cluster 124: 52 points\n",
      "Cluster 125: 11 points\n",
      "Cluster 126: 26 points\n",
      "Cluster 127: 33 points\n",
      "Cluster 128: 42 points\n",
      "Cluster 129: 28 points\n",
      "Cluster 130: 36 points\n",
      "Cluster 131: 22 points\n",
      "Cluster 132: 12 points\n",
      "Cluster 133: 8 points\n",
      "Cluster 134: 29 points\n",
      "Cluster 135: 6 points\n",
      "Cluster 136: 15 points\n",
      "Cluster 245: 28 points\n",
      "Cluster 137: 25 points\n",
      "Cluster 138: 25 points\n",
      "Cluster 139: 58 points\n",
      "Cluster 140: 13 points\n",
      "Cluster 141: 35 points\n",
      "Cluster 142: 61 points\n",
      "Cluster 143: 5 points\n",
      "Cluster 145: 17 points\n",
      "Cluster 146: 173 points\n",
      "Cluster 147: 20 points\n",
      "Cluster 148: 54 points\n",
      "Cluster 149: 9 points\n",
      "Cluster 150: 5 points\n",
      "Cluster 151: 47 points\n",
      "Cluster 152: 36 points\n",
      "Cluster 153: 20 points\n",
      "Cluster 154: 28 points\n",
      "Cluster 155: 22 points\n",
      "Cluster 156: 46 points\n",
      "Cluster 157: 29 points\n",
      "Cluster 158: 31 points\n",
      "Cluster 159: 24 points\n",
      "Cluster 161: 55 points\n",
      "Cluster 162: 64 points\n",
      "Cluster 163: 26 points\n",
      "Cluster 164: 22 points\n",
      "Cluster 565: 8 points\n",
      "Cluster 165: 32 points\n",
      "Cluster 166: 65 points\n",
      "Cluster 167: 47 points\n",
      "Cluster 168: 30 points\n",
      "Cluster 169: 18 points\n",
      "Cluster 171: 23 points\n",
      "Cluster 172: 9 points\n",
      "Cluster 204: 35 points\n",
      "Cluster 173: 22 points\n",
      "Cluster 399: 7 points\n",
      "Cluster 174: 42 points\n",
      "Cluster 221: 13 points\n",
      "Cluster 175: 30 points\n",
      "Cluster 176: 17 points\n",
      "Cluster 178: 39 points\n",
      "Cluster 179: 12 points\n",
      "Cluster 180: 60 points\n",
      "Cluster 181: 70 points\n",
      "Cluster 182: 10 points\n",
      "Cluster 183: 35 points\n",
      "Cluster 194: 14 points\n",
      "Cluster 184: 39 points\n",
      "Cluster 185: 20 points\n",
      "Cluster 188: 54 points\n",
      "Cluster 186: 13 points\n",
      "Cluster 187: 26 points\n",
      "Cluster 189: 66 points\n",
      "Cluster 190: 7 points\n",
      "Cluster 191: 14 points\n",
      "Cluster 192: 89 points\n",
      "Cluster 193: 17 points\n",
      "Cluster 195: 24 points\n",
      "Cluster 454: 7 points\n",
      "Cluster 196: 13 points\n",
      "Cluster 197: 38 points\n",
      "Cluster 357: 16 points\n",
      "Cluster 199: 37 points\n",
      "Cluster 200: 76 points\n",
      "Cluster 279: 25 points\n",
      "Cluster 351: 6 points\n",
      "Cluster 201: 29 points\n",
      "Cluster 202: 36 points\n",
      "Cluster 203: 24 points\n",
      "Cluster 205: 65 points\n",
      "Cluster 213: 6 points\n",
      "Cluster 206: 17 points\n",
      "Cluster 207: 18 points\n",
      "Cluster 520: 5 points\n",
      "Cluster 208: 10 points\n",
      "Cluster 209: 15 points\n",
      "Cluster 210: 10 points\n",
      "Cluster 211: 16 points\n",
      "Cluster 212: 56 points\n",
      "Cluster 529: 6 points\n",
      "Cluster 214: 10 points\n",
      "Cluster 275: 21 points\n",
      "Cluster 215: 10 points\n",
      "Cluster 216: 32 points\n",
      "Cluster 217: 7 points\n",
      "Cluster 218: 48 points\n",
      "Cluster 462: 13 points\n",
      "Cluster 219: 12 points\n",
      "Cluster 220: 13 points\n",
      "Cluster 349: 24 points\n",
      "Cluster 222: 38 points\n",
      "Cluster 223: 39 points\n",
      "Cluster 224: 10 points\n",
      "Cluster 225: 36 points\n",
      "Cluster 226: 9 points\n",
      "Cluster 227: 22 points\n",
      "Cluster 228: 82 points\n",
      "Cluster 229: 19 points\n",
      "Cluster 230: 12 points\n",
      "Cluster 231: 10 points\n",
      "Cluster 232: 20 points\n",
      "Cluster 233: 9 points\n",
      "Cluster 234: 42 points\n",
      "Cluster 235: 53 points\n",
      "Cluster 236: 8 points\n",
      "Cluster 237: 14 points\n",
      "Cluster 362: 21 points\n",
      "Cluster 539: 6 points\n",
      "Cluster 238: 32 points\n",
      "Cluster 239: 9 points\n",
      "Cluster 240: 18 points\n",
      "Cluster 432: 35 points\n",
      "Cluster 241: 12 points\n",
      "Cluster 243: 11 points\n",
      "Cluster 244: 29 points\n",
      "Cluster 246: 26 points\n",
      "Cluster 247: 8 points\n",
      "Cluster 471: 5 points\n",
      "Cluster 280: 14 points\n",
      "Cluster 248: 31 points\n",
      "Cluster 249: 6 points\n",
      "Cluster 250: 23 points\n",
      "Cluster 251: 17 points\n",
      "Cluster 330: 9 points\n",
      "Cluster 252: 42 points\n",
      "Cluster 253: 10 points\n",
      "Cluster 452: 6 points\n",
      "Cluster 254: 8 points\n",
      "Cluster 256: 11 points\n",
      "Cluster 257: 22 points\n",
      "Cluster 258: 34 points\n",
      "Cluster 259: 36 points\n",
      "Cluster 260: 11 points\n",
      "Cluster 261: 5 points\n",
      "Cluster 340: 9 points\n",
      "Cluster 388: 13 points\n",
      "Cluster 267: 5 points\n",
      "Cluster 262: 8 points\n",
      "Cluster 263: 20 points\n",
      "Cluster 264: 29 points\n",
      "Cluster 265: 17 points\n",
      "Cluster 438: 31 points\n",
      "Cluster 266: 24 points\n",
      "Cluster 516: 6 points\n",
      "Cluster 268: 5 points\n",
      "Cluster 269: 19 points\n",
      "Cluster 270: 18 points\n",
      "Cluster 271: 21 points\n",
      "Cluster 272: 27 points\n",
      "Cluster 273: 10 points\n",
      "Cluster 448: 7 points\n",
      "Cluster 415: 26 points\n",
      "Cluster 274: 26 points\n",
      "Cluster 383: 19 points\n",
      "Cluster 397: 7 points\n",
      "Cluster 276: 17 points\n",
      "Cluster 277: 9 points\n",
      "Cluster 542: 6 points\n",
      "Cluster 278: 30 points\n",
      "Cluster 281: 15 points\n",
      "Cluster 322: 14 points\n",
      "Cluster 283: 18 points\n",
      "Cluster 284: 33 points\n",
      "Cluster 303: 30 points\n",
      "Cluster 285: 5 points\n",
      "Cluster 287: 15 points\n",
      "Cluster 288: 26 points\n",
      "Cluster 466: 6 points\n",
      "Cluster 479: 6 points\n",
      "Cluster 289: 13 points\n",
      "Cluster 290: 8 points\n",
      "Cluster 291: 20 points\n",
      "Cluster 292: 12 points\n",
      "Cluster 293: 13 points\n",
      "Cluster 575: 5 points\n",
      "Cluster 294: 9 points\n",
      "Cluster 295: 17 points\n",
      "Cluster 296: 21 points\n",
      "Cluster 297: 22 points\n",
      "Cluster 416: 9 points\n",
      "Cluster 561: 5 points\n",
      "Cluster 298: 5 points\n",
      "Cluster 299: 28 points\n",
      "Cluster 408: 5 points\n",
      "Cluster 300: 22 points\n",
      "Cluster 301: 23 points\n",
      "Cluster 302: 10 points\n",
      "Cluster 304: 13 points\n",
      "Cluster 305: 6 points\n",
      "Cluster 306: 41 points\n",
      "Cluster 428: 16 points\n",
      "Cluster 307: 24 points\n",
      "Cluster 551: 4 points\n",
      "Cluster 308: 18 points\n",
      "Cluster 309: 7 points\n",
      "Cluster 310: 70 points\n",
      "Cluster 311: 16 points\n",
      "Cluster 511: 8 points\n",
      "Cluster 312: 17 points\n",
      "Cluster 313: 23 points\n",
      "Cluster 524: 14 points\n",
      "Cluster 314: 12 points\n",
      "Cluster 315: 28 points\n",
      "Cluster 316: 46 points\n",
      "Cluster 317: 27 points\n",
      "Cluster 318: 12 points\n",
      "Cluster 319: 18 points\n",
      "Cluster 461: 5 points\n",
      "Cluster 320: 5 points\n",
      "Cluster 321: 29 points\n",
      "Cluster 373: 23 points\n",
      "Cluster 323: 18 points\n",
      "Cluster 510: 16 points\n",
      "Cluster 324: 13 points\n",
      "Cluster 325: 8 points\n",
      "Cluster 326: 12 points\n",
      "Cluster 327: 57 points\n",
      "Cluster 328: 14 points\n",
      "Cluster 329: 17 points\n",
      "Cluster 348: 12 points\n",
      "Cluster 331: 5 points\n",
      "Cluster 332: 47 points\n",
      "Cluster 333: 7 points\n",
      "Cluster 364: 37 points\n",
      "Cluster 334: 19 points\n",
      "Cluster 335: 6 points\n",
      "Cluster 434: 23 points\n",
      "Cluster 336: 17 points\n",
      "Cluster 337: 46 points\n",
      "Cluster 338: 13 points\n",
      "Cluster 352: 13 points\n",
      "Cluster 360: 13 points\n",
      "Cluster 374: 7 points\n",
      "Cluster 339: 10 points\n",
      "Cluster 503: 5 points\n",
      "Cluster 341: 8 points\n",
      "Cluster 342: 9 points\n",
      "Cluster 407: 12 points\n",
      "Cluster 343: 13 points\n",
      "Cluster 344: 23 points\n",
      "Cluster 569: 5 points\n",
      "Cluster 441: 5 points\n",
      "Cluster 345: 6 points\n",
      "Cluster 346: 17 points\n",
      "Cluster 347: 6 points\n",
      "Cluster 515: 4 points\n",
      "Cluster 350: 31 points\n",
      "Cluster 404: 5 points\n",
      "Cluster 353: 7 points\n",
      "Cluster 354: 6 points\n",
      "Cluster 355: 9 points\n",
      "Cluster 387: 12 points\n",
      "Cluster 358: 28 points\n",
      "Cluster 359: 14 points\n",
      "Cluster 560: 7 points\n",
      "Cluster 361: 6 points\n",
      "Cluster 566: 8 points\n",
      "Cluster 363: 19 points\n",
      "Cluster 514: 6 points\n",
      "Cluster 365: 5 points\n",
      "Cluster 366: 6 points\n",
      "Cluster 552: 5 points\n",
      "Cluster 403: 8 points\n",
      "Cluster 367: 5 points\n",
      "Cluster 368: 30 points\n",
      "Cluster 571: 5 points\n",
      "Cluster 369: 13 points\n",
      "Cluster 370: 8 points\n",
      "Cluster 395: 6 points\n",
      "Cluster 371: 12 points\n",
      "Cluster 372: 14 points\n",
      "Cluster 375: 11 points\n",
      "Cluster 376: 7 points\n",
      "Cluster 377: 12 points\n",
      "Cluster 497: 10 points\n",
      "Cluster 378: 5 points\n",
      "Cluster 526: 7 points\n",
      "Cluster 379: 15 points\n",
      "Cluster 446: 9 points\n",
      "Cluster 380: 10 points\n",
      "Cluster 483: 10 points\n",
      "Cluster 381: 14 points\n",
      "Cluster 382: 10 points\n",
      "Cluster 384: 8 points\n",
      "Cluster 506: 7 points\n",
      "Cluster 385: 7 points\n",
      "Cluster 401: 8 points\n",
      "Cluster 386: 11 points\n",
      "Cluster 579: 6 points\n",
      "Cluster 389: 17 points\n",
      "Cluster 492: 10 points\n",
      "Cluster 390: 5 points\n",
      "Cluster 391: 10 points\n",
      "Cluster 392: 11 points\n",
      "Cluster 393: 13 points\n",
      "Cluster 394: 17 points\n",
      "Cluster 396: 10 points\n",
      "Cluster 398: 5 points\n",
      "Cluster 491: 5 points\n",
      "Cluster 400: 21 points\n",
      "Cluster 402: 8 points\n",
      "Cluster 405: 6 points\n",
      "Cluster 557: 5 points\n",
      "Cluster 406: 5 points\n",
      "Cluster 509: 5 points\n",
      "Cluster 409: 5 points\n",
      "Cluster 410: 10 points\n",
      "Cluster 521: 8 points\n",
      "Cluster 412: 24 points\n",
      "Cluster 413: 6 points\n",
      "Cluster 414: 9 points\n",
      "Cluster 541: 5 points\n",
      "Cluster 417: 6 points\n",
      "Cluster 570: 5 points\n",
      "Cluster 420: 5 points\n",
      "Cluster 418: 16 points\n",
      "Cluster 419: 5 points\n",
      "Cluster 421: 15 points\n",
      "Cluster 468: 10 points\n",
      "Cluster 422: 10 points\n",
      "Cluster 423: 7 points\n",
      "Cluster 424: 5 points\n",
      "Cluster 425: 17 points\n",
      "Cluster 426: 6 points\n",
      "Cluster 427: 7 points\n",
      "Cluster 429: 61 points\n",
      "Cluster 430: 5 points\n",
      "Cluster 431: 16 points\n",
      "Cluster 433: 7 points\n",
      "Cluster 435: 6 points\n",
      "Cluster 436: 14 points\n",
      "Cluster 437: 8 points\n",
      "Cluster 439: 8 points\n",
      "Cluster 440: 13 points\n",
      "Cluster 534: 5 points\n",
      "Cluster 442: 8 points\n",
      "Cluster 450: 14 points\n",
      "Cluster 443: 16 points\n",
      "Cluster 486: 7 points\n",
      "Cluster 444: 14 points\n",
      "Cluster 484: 6 points\n",
      "Cluster 447: 8 points\n",
      "Cluster 507: 5 points\n",
      "Cluster 568: 5 points\n",
      "Cluster 469: 10 points\n",
      "Cluster 449: 6 points\n",
      "Cluster 451: 8 points\n",
      "Cluster 581: 5 points\n",
      "Cluster 490: 6 points\n",
      "Cluster 453: 11 points\n",
      "Cluster 463: 13 points\n",
      "Cluster 512: 12 points\n",
      "Cluster 546: 6 points\n",
      "Cluster 481: 11 points\n",
      "Cluster 455: 7 points\n",
      "Cluster 456: 11 points\n",
      "Cluster 457: 10 points\n",
      "Cluster 458: 7 points\n",
      "Cluster 459: 13 points\n",
      "Cluster 460: 15 points\n",
      "Cluster 544: 5 points\n",
      "Cluster 464: 6 points\n",
      "Cluster 465: 9 points\n",
      "Cluster 574: 11 points\n",
      "Cluster 564: 6 points\n",
      "Cluster 467: 7 points\n",
      "Cluster 548: 6 points\n",
      "Cluster 470: 7 points\n",
      "Cluster 573: 5 points\n",
      "Cluster 485: 10 points\n",
      "Cluster 472: 5 points\n",
      "Cluster 473: 18 points\n",
      "Cluster 517: 5 points\n",
      "Cluster 474: 15 points\n",
      "Cluster 475: 23 points\n",
      "Cluster 476: 6 points\n",
      "Cluster 477: 5 points\n",
      "Cluster 559: 5 points\n",
      "Cluster 478: 9 points\n",
      "Cluster 522: 13 points\n",
      "Cluster 480: 16 points\n",
      "Cluster 482: 5 points\n",
      "Cluster 487: 7 points\n",
      "Cluster 488: 9 points\n",
      "Cluster 489: 9 points\n",
      "Cluster 519: 6 points\n",
      "Cluster 582: 5 points\n",
      "Cluster 547: 7 points\n",
      "Cluster 556: 5 points\n",
      "Cluster 493: 9 points\n",
      "Cluster 525: 9 points\n",
      "Cluster 494: 5 points\n",
      "Cluster 495: 5 points\n",
      "Cluster 496: 9 points\n",
      "Cluster 499: 5 points\n",
      "Cluster 498: 21 points\n",
      "Cluster 500: 6 points\n",
      "Cluster 501: 16 points\n",
      "Cluster 502: 8 points\n",
      "Cluster 549: 5 points\n",
      "Cluster 504: 8 points\n",
      "Cluster 505: 5 points\n",
      "Cluster 513: 5 points\n",
      "Cluster 518: 7 points\n",
      "Cluster 523: 5 points\n",
      "Cluster 527: 5 points\n",
      "Cluster 528: 11 points\n",
      "Cluster 530: 5 points\n",
      "Cluster 531: 5 points\n",
      "Cluster 545: 7 points\n",
      "Cluster 532: 6 points\n",
      "Cluster 533: 15 points\n",
      "Cluster 535: 6 points\n",
      "Cluster 536: 7 points\n",
      "Cluster 537: 9 points\n",
      "Cluster 538: 5 points\n",
      "Cluster 540: 5 points\n",
      "Cluster 553: 5 points\n",
      "Cluster 543: 5 points\n",
      "Cluster 550: 5 points\n",
      "Cluster 554: 6 points\n",
      "Cluster 555: 5 points\n",
      "Cluster 580: 5 points\n",
      "Cluster 562: 5 points\n",
      "Cluster 563: 7 points\n",
      "Cluster 567: 7 points\n",
      "Cluster 583: 3 points\n",
      "Cluster 572: 5 points\n",
      "Cluster 576: 8 points\n",
      "Cluster 578: 4 points\n",
      "Cluster 577: 5 points\n"
     ]
    }
   ],
   "source": [
    "from sklearn.cluster import DBSCAN\n",
    "from sklearn.metrics import silhouette_score\n",
    "import numpy as np\n",
    "\n",
    "# Set DBSCAN parameters\n",
    "eps_value = 0.5\n",
    "min_samples_value = 5\n",
    "\n",
    "# Apply DBSCAN to data_pca\n",
    "dbscan = DBSCAN(eps=eps_value, min_samples=min_samples_value)\n",
    "dbscan_labels = dbscan.fit_predict(data_pca.values)\n",
    "\n",
    "# Analyze results\n",
    "unique_clusters = np.unique(dbscan_labels)\n",
    "print(f\"Number of clusters (including noise): {len(unique_clusters)}\")\n",
    "print(f\"Cluster labels: {unique_clusters}\")\n",
    "\n",
    "# Silhouette score\n",
    "if len(unique_clusters) > 1:\n",
    "    silhouette_avg = silhouette_score(data_pca.values[dbscan_labels != -1], dbscan_labels[dbscan_labels != -1])\n",
    "    print(f\"Average silhouette score (excluding noise): {silhouette_avg:.3f}\")\n",
    "else:\n",
    "    print(\"Silhouette score not applicable (only one cluster).\")\n",
    "\n",
    "# Cluster sizes\n",
    "from collections import Counter\n",
    "cluster_counts = Counter(dbscan_labels)\n",
    "for cluster_id, count in cluster_counts.items():\n",
    "    print(f\"Cluster {cluster_id}: {count} points\")\n"
   ]
  },
  {
   "cell_type": "code",
   "execution_count": 24,
   "metadata": {
    "colab": {
     "base_uri": "https://localhost:8080/"
    },
    "id": "sEJIqkw4ypZT",
    "outputId": "e72cff74-ab73-4da1-f9c8-1e09643879a6"
   },
   "outputs": [
    {
     "name": "stdout",
     "output_type": "stream",
     "text": [
      "Number of clusters (including noise): 31\n",
      "Cluster labels: [-1  0  1  2  3  4  5  6  7  8  9 10 11 12 13 14 15 16 17 18 19 20 21 22\n",
      " 23 24 25 26 27 28 29]\n",
      "Average silhouette score (excluding noise): -0.683\n",
      "Cluster -1: 2772 points\n",
      "Cluster 0: 24194 points\n",
      "Cluster 11: 5 points\n",
      "Cluster 1: 18 points\n",
      "Cluster 10: 6 points\n",
      "Cluster 2: 8 points\n",
      "Cluster 3: 17 points\n",
      "Cluster 4: 6 points\n",
      "Cluster 6: 5 points\n",
      "Cluster 17: 5 points\n",
      "Cluster 5: 72 points\n",
      "Cluster 13: 5 points\n",
      "Cluster 12: 42 points\n",
      "Cluster 7: 11 points\n",
      "Cluster 14: 17 points\n",
      "Cluster 8: 9 points\n",
      "Cluster 9: 4 points\n",
      "Cluster 20: 7 points\n",
      "Cluster 26: 5 points\n",
      "Cluster 15: 7 points\n",
      "Cluster 16: 5 points\n",
      "Cluster 24: 5 points\n",
      "Cluster 22: 7 points\n",
      "Cluster 29: 4 points\n",
      "Cluster 18: 8 points\n",
      "Cluster 25: 5 points\n",
      "Cluster 19: 4 points\n",
      "Cluster 21: 11 points\n",
      "Cluster 28: 5 points\n",
      "Cluster 23: 4 points\n",
      "Cluster 27: 5 points\n"
     ]
    }
   ],
   "source": [
    "from sklearn.cluster import DBSCAN\n",
    "from sklearn.metrics import silhouette_score\n",
    "import numpy as np\n",
    "\n",
    "# Set DBSCAN parameters\n",
    "eps_value = 1.0\n",
    "min_samples_value = 5\n",
    "\n",
    "# Apply DBSCAN to data_pca\n",
    "dbscan = DBSCAN(eps=eps_value, min_samples=min_samples_value)\n",
    "dbscan_labels = dbscan.fit_predict(data_pca.values)\n",
    "\n",
    "# Analyze results\n",
    "unique_clusters = np.unique(dbscan_labels)\n",
    "print(f\"Number of clusters (including noise): {len(unique_clusters)}\")\n",
    "print(f\"Cluster labels: {unique_clusters}\")\n",
    "\n",
    "# Silhouette score\n",
    "if len(unique_clusters) > 1:\n",
    "    silhouette_avg = silhouette_score(data_pca.values[dbscan_labels != -1], dbscan_labels[dbscan_labels != -1])\n",
    "    print(f\"Average silhouette score (excluding noise): {silhouette_avg:.3f}\")\n",
    "else:\n",
    "    print(\"Silhouette score not applicable (only one cluster).\")\n",
    "\n",
    "# Cluster sizes\n",
    "from collections import Counter\n",
    "cluster_counts = Counter(dbscan_labels)\n",
    "for cluster_id, count in cluster_counts.items():\n",
    "    print(f\"Cluster {cluster_id}: {count} points\")\n"
   ]
  },
  {
   "cell_type": "markdown",
   "metadata": {
    "id": "FI3Oad6nAWtg"
   },
   "source": [
    "### **2.4 Best Algorithm**"
   ]
  },
  {
   "cell_type": "code",
   "execution_count": 27,
   "metadata": {
    "colab": {
     "base_uri": "https://localhost:8080/"
    },
    "id": "YOx-j5TIAdjb",
    "outputId": "4348ff9b-292c-4e82-9f23-8ba238b83586"
   },
   "outputs": [
    {
     "name": "stdout",
     "output_type": "stream",
     "text": [
      "K-means Results:\n",
      "Inertia for K-means: 769611.9286143152\n",
      "Silhouette Score for K-means: 0.48521663600519316\n",
      "Davies-Bouldin Index for K-means: 0.6326445101561615\n",
      "\n",
      "K-means++ Results:\n",
      "Inertia for K-means++: 782496.5385626754\n",
      "Silhouette Score for K-means++: 0.5312540566262045\n",
      "Davies-Bouldin Index for K-means++: 0.5820798862006672\n",
      "\n",
      "DBSCAN Results:\n",
      "Silhouette Score for DBSCAN: 0.3024158305883761\n",
      "Davies-Bouldin Index for DBSCAN: 1.016658469570041\n",
      "\n",
      "Summary of Clustering Metrics:\n",
      "K-means:\n",
      " - Inertia: 769611.9286143152\n",
      " - Silhouette Score: 0.48521663600519316\n",
      " - Davies-Bouldin Index: 0.6326445101561615\n",
      "K-means++:\n",
      " - Inertia: 782496.5385626754\n",
      " - Silhouette Score: 0.5312540566262045\n",
      " - Davies-Bouldin Index: 0.5820798862006672\n",
      "DBSCAN:\n",
      " - Silhouette Score: 0.3024158305883761\n",
      " - Davies-Bouldin Index: 1.016658469570041\n",
      "\n",
      "Cluster Size Distribution:\n",
      "K-means: Counter({2: 10954, 1: 10074, 3: 4886, 0: 1364})\n",
      "K-means++: Counter({1: 16388, 0: 7200, 3: 3032, 2: 658})\n",
      "DBSCAN: Counter({-1: 10565, 1: 249, 44: 242, 98: 242, 6: 236, 25: 229, 13: 227, 59: 222, 95: 214, 26: 207, 10: 184, 54: 184, 146: 173, 8: 169, 83: 164, 0: 163, 67: 156, 34: 151, 68: 150, 107: 150, 4: 139, 40: 136, 170: 122, 22: 119, 71: 116, 56: 115, 48: 114, 63: 114, 41: 105, 90: 103, 100: 101, 5: 99, 19: 96, 38: 95, 192: 89, 36: 86, 86: 86, 119: 85, 49: 82, 114: 82, 228: 82, 20: 79, 102: 78, 115: 78, 32: 77, 200: 76, 50: 75, 81: 72, 181: 70, 310: 70, 14: 66, 189: 66, 92: 65, 29: 65, 166: 65, 205: 65, 116: 64, 162: 64, 108: 63, 101: 62, 123: 62, 117: 61, 142: 61, 429: 61, 57: 60, 88: 60, 180: 60, 139: 58, 74: 57, 327: 57, 43: 56, 97: 56, 212: 56, 161: 55, 16: 54, 27: 54, 30: 54, 51: 54, 148: 54, 188: 54, 3: 53, 15: 53, 52: 53, 235: 53, 64: 52, 124: 52, 35: 51, 2: 50, 53: 50, 70: 50, 91: 50, 28: 49, 218: 48, 120: 47, 151: 47, 167: 47, 332: 47, 9: 46, 79: 46, 33: 46, 45: 46, 177: 46, 156: 46, 316: 46, 337: 46, 61: 44, 73: 44, 111: 43, 242: 42, 128: 42, 174: 42, 234: 42, 252: 42, 66: 41, 306: 41, 198: 39, 178: 39, 184: 39, 223: 39, 93: 38, 118: 38, 197: 38, 222: 38, 82: 37, 199: 37, 364: 37, 24: 36, 110: 36, 130: 36, 152: 36, 202: 36, 225: 36, 259: 36, 46: 35, 141: 35, 204: 35, 183: 35, 432: 35, 55: 34, 258: 34, 112: 33, 127: 33, 284: 33, 58: 32, 85: 32, 165: 32, 216: 32, 238: 32, 103: 31, 158: 31, 248: 31, 438: 31, 350: 31, 7: 30, 12: 30, 69: 30, 76: 30, 168: 30, 175: 30, 278: 30, 303: 30, 368: 30, 31: 29, 113: 29, 134: 29, 157: 29, 201: 29, 244: 29, 264: 29, 321: 29, 129: 28, 245: 28, 154: 28, 299: 28, 315: 28, 358: 28, 60: 27, 99: 27, 272: 27, 317: 27, 72: 26, 126: 26, 163: 26, 187: 26, 246: 26, 415: 26, 274: 26, 288: 26, 21: 25, 47: 25, 106: 25, 137: 25, 138: 25, 279: 25, 65: 24, 159: 24, 195: 24, 203: 24, 349: 24, 266: 24, 307: 24, 412: 24, 96: 23, 171: 23, 250: 23, 301: 23, 313: 23, 373: 23, 434: 23, 344: 23, 475: 23, 77: 22, 131: 22, 155: 22, 164: 22, 173: 22, 227: 22, 257: 22, 297: 22, 300: 22, 356: 21, 282: 21, 84: 21, 144: 21, 160: 21, 275: 21, 362: 21, 271: 21, 296: 21, 400: 21, 498: 21, 105: 20, 147: 20, 153: 20, 185: 20, 232: 20, 263: 20, 291: 20, 37: 19, 75: 19, 87: 19, 229: 19, 269: 19, 383: 19, 334: 19, 363: 19, 18: 18, 104: 18, 169: 18, 207: 18, 240: 18, 270: 18, 283: 18, 308: 18, 319: 18, 323: 18, 473: 18, 62: 17, 145: 17, 176: 17, 193: 17, 206: 17, 251: 17, 265: 17, 276: 17, 295: 17, 312: 17, 329: 17, 336: 17, 346: 17, 389: 17, 394: 17, 425: 17, 11: 16, 80: 16, 357: 16, 211: 16, 428: 16, 311: 16, 510: 16, 418: 16, 431: 16, 443: 16, 480: 16, 501: 16, 136: 15, 209: 15, 281: 15, 287: 15, 379: 15, 421: 15, 460: 15, 474: 15, 533: 15, 194: 14, 191: 14, 237: 14, 280: 14, 322: 14, 524: 14, 328: 14, 359: 14, 372: 14, 381: 14, 436: 14, 450: 14, 444: 14, 140: 13, 221: 13, 186: 13, 196: 13, 462: 13, 220: 13, 388: 13, 289: 13, 293: 13, 304: 13, 324: 13, 338: 13, 352: 13, 360: 13, 343: 13, 369: 13, 393: 13, 440: 13, 463: 13, 459: 13, 522: 13, 255: 12, 122: 12, 132: 12, 179: 12, 219: 12, 230: 12, 241: 12, 292: 12, 314: 12, 318: 12, 326: 12, 348: 12, 407: 12, 387: 12, 371: 12, 377: 12, 512: 12, 23: 11, 109: 11, 445: 11, 411: 11, 125: 11, 243: 11, 256: 11, 260: 11, 375: 11, 386: 11, 392: 11, 453: 11, 481: 11, 456: 11, 574: 11, 528: 11, 94: 10, 182: 10, 208: 10, 210: 10, 214: 10, 215: 10, 224: 10, 231: 10, 253: 10, 273: 10, 302: 10, 339: 10, 497: 10, 380: 10, 483: 10, 382: 10, 492: 10, 391: 10, 396: 10, 410: 10, 468: 10, 422: 10, 469: 10, 457: 10, 485: 10, 149: 9, 172: 9, 226: 9, 233: 9, 239: 9, 330: 9, 340: 9, 277: 9, 294: 9, 416: 9, 342: 9, 355: 9, 446: 9, 414: 9, 465: 9, 478: 9, 488: 9, 489: 9, 493: 9, 525: 9, 496: 9, 537: 9, 78: 8, 121: 8, 133: 8, 565: 8, 236: 8, 247: 8, 254: 8, 262: 8, 290: 8, 511: 8, 325: 8, 341: 8, 566: 8, 403: 8, 370: 8, 384: 8, 401: 8, 402: 8, 521: 8, 437: 8, 439: 8, 442: 8, 447: 8, 451: 8, 502: 8, 504: 8, 576: 8, 17: 7, 286: 7, 399: 7, 190: 7, 454: 7, 217: 7, 448: 7, 397: 7, 309: 7, 333: 7, 374: 7, 353: 7, 560: 7, 376: 7, 526: 7, 506: 7, 385: 7, 423: 7, 427: 7, 433: 7, 486: 7, 455: 7, 458: 7, 467: 7, 470: 7, 487: 7, 547: 7, 518: 7, 545: 7, 536: 7, 563: 7, 567: 7, 42: 6, 135: 6, 351: 6, 213: 6, 529: 6, 539: 6, 249: 6, 452: 6, 516: 6, 542: 6, 466: 6, 479: 6, 305: 6, 335: 6, 345: 6, 347: 6, 354: 6, 361: 6, 514: 6, 366: 6, 395: 6, 579: 6, 405: 6, 413: 6, 417: 6, 426: 6, 435: 6, 484: 6, 449: 6, 490: 6, 546: 6, 464: 6, 564: 6, 548: 6, 476: 6, 519: 6, 500: 6, 532: 6, 535: 6, 554: 6, 39: 5, 89: 5, 558: 5, 143: 5, 150: 5, 520: 5, 471: 5, 261: 5, 267: 5, 268: 5, 285: 5, 575: 5, 561: 5, 298: 5, 408: 5, 461: 5, 320: 5, 331: 5, 503: 5, 569: 5, 441: 5, 404: 5, 365: 5, 552: 5, 367: 5, 571: 5, 378: 5, 390: 5, 398: 5, 491: 5, 557: 5, 406: 5, 509: 5, 409: 5, 541: 5, 570: 5, 420: 5, 419: 5, 424: 5, 430: 5, 534: 5, 507: 5, 568: 5, 581: 5, 544: 5, 573: 5, 472: 5, 517: 5, 477: 5, 559: 5, 482: 5, 582: 5, 556: 5, 494: 5, 495: 5, 499: 5, 549: 5, 505: 5, 513: 5, 523: 5, 527: 5, 530: 5, 531: 5, 538: 5, 540: 5, 553: 5, 543: 5, 550: 5, 555: 5, 580: 5, 562: 5, 572: 5, 577: 5, 508: 4, 551: 4, 515: 4, 578: 4, 583: 3})\n"
     ]
    }
   ],
   "source": [
    "import numpy as np\n",
    "from sklearn.metrics import silhouette_score, davies_bouldin_score\n",
    "\n",
    "# Inertia calculation\n",
    "def calculate_inertia(data, labels, centers):\n",
    "    inertia = 0\n",
    "    for i, center in enumerate(centers):\n",
    "        cluster_points = data[labels == i]\n",
    "        inertia += np.sum((cluster_points - center) ** 2)\n",
    "    return inertia\n",
    "\n",
    "# K-means Results\n",
    "print(\"K-means Results:\")\n",
    "data_array = data_pca.values  # Convert DataFrame to NumPy array\n",
    "inertia_kmeans = calculate_inertia(data_array, labels, centers)\n",
    "silhouette_kmeans = silhouette_score(data_array, labels)\n",
    "davies_bouldin_kmeans = davies_bouldin_score(data_array, labels)\n",
    "print(f\"Inertia for K-means: {inertia_kmeans}\")\n",
    "print(f\"Silhouette Score for K-means: {silhouette_kmeans}\")\n",
    "print(f\"Davies-Bouldin Index for K-means: {davies_bouldin_kmeans}\")\n",
    "\n",
    "# K-means++ Results\n",
    "print(\"\\nK-means++ Results:\")\n",
    "inertia_kmeans_pp = calculate_inertia(data_array, labels_pp, centroids_pp)\n",
    "silhouette_kmeans_pp = silhouette_score(data_array, labels_pp)\n",
    "davies_bouldin_kmeans_pp = davies_bouldin_score(data_array, labels_pp)\n",
    "print(f\"Inertia for K-means++: {inertia_kmeans_pp}\")\n",
    "print(f\"Silhouette Score for K-means++: {silhouette_kmeans_pp}\")\n",
    "print(f\"Davies-Bouldin Index for K-means++: {davies_bouldin_kmeans_pp}\")\n",
    "\n",
    "# DBSCAN Results\n",
    "print(\"\\nDBSCAN Results:\")\n",
    "unique_clusters = np.unique(dbscan_labels)\n",
    "if len(unique_clusters) > 1:  # Check if DBSCAN found multiple clusters\n",
    "    silhouette_dbscan = silhouette_score(data_array[dbscan_labels != -1], dbscan_labels[dbscan_labels != -1])\n",
    "    davies_bouldin_dbscan = davies_bouldin_score(data_array[dbscan_labels != -1], dbscan_labels[dbscan_labels != -1])\n",
    "    print(f\"Silhouette Score for DBSCAN: {silhouette_dbscan}\")\n",
    "    print(f\"Davies-Bouldin Index for DBSCAN: {davies_bouldin_dbscan}\")\n",
    "else:\n",
    "    silhouette_dbscan = None\n",
    "    davies_bouldin_dbscan = None\n",
    "    print(\"Silhouette Score and Davies-Bouldin Index are not applicable for DBSCAN (only one cluster detected).\")\n",
    "\n",
    "# Summary of Results\n",
    "print(\"\\nSummary of Clustering Metrics:\")\n",
    "print(f\"K-means:\\n - Inertia: {inertia_kmeans}\\n - Silhouette Score: {silhouette_kmeans}\\n - Davies-Bouldin Index: {davies_bouldin_kmeans}\")\n",
    "print(f\"K-means++:\\n - Inertia: {inertia_kmeans_pp}\\n - Silhouette Score: {silhouette_kmeans_pp}\\n - Davies-Bouldin Index: {davies_bouldin_kmeans_pp}\")\n",
    "if silhouette_dbscan is not None:\n",
    "    print(f\"DBSCAN:\\n - Silhouette Score: {silhouette_dbscan}\\n - Davies-Bouldin Index: {davies_bouldin_dbscan}\")\n",
    "else:\n",
    "    print(\"DBSCAN metrics are not available due to insufficient clustering.\")\n",
    "\n",
    "# Cluster Size Distribution\n",
    "from collections import Counter\n",
    "print(\"\\nCluster Size Distribution:\")\n",
    "print(\"K-means:\", Counter(labels))\n",
    "print(\"K-means++:\", Counter(labels_pp))\n",
    "print(\"DBSCAN:\", Counter(dbscan_labels))\n"
   ]
  },
  {
   "cell_type": "markdown",
   "metadata": {
    "id": "vQ6Tb-4049m0"
   },
   "source": [
    "Clustering is a powerful tool to identify natural groupings within data. In this section, we evaluated the quality of clustering results using three algorithms: K-means, K-means++, and DBSCAN. Our goal was to determine the most suitable algorithm for the given dataset. Below are the detailed steps, metrics, and analysis:\n",
    "\n",
    "---\n",
    "\n",
    "#### **Optimal Number of Clusters (\\( k_{opt} \\))**\n",
    "Based on the results from the Elbow Method and Silhouette Analysis in section 2.3, we determined that the optimal number of clusters for K-means and K-means++ is \\( k_opt = 4 \\).\n",
    "\n",
    "For DBSCAN, the optimal parameters were identified as:\n",
    "- \\( eps = 1 )\n",
    "- \\( min\\_samples = 5 )\n",
    "\n",
    "These parameters were used to compare the three clustering methods.\n",
    "\n",
    "\n",
    "#### **Metrics for Evaluating Clustering Quality**\n",
    "We used the following metrics to assess the quality of clustering:\n",
    "1. **Inertia**: The sum of squared distances from points to the cluster centers. Lower values indicate more compact clusters.\n",
    "2. **Silhouette Score**: Measures how well clusters are separated and how similar points are within the same cluster. Higher values indicate better-defined clusters.\n",
    "3. **Davies-Bouldin Index (DBI)**: Reflects the average similarity between each cluster and the one most similar to it. Lower values are better.\n",
    "4. **Cluster Size Distribution**: Examines the balance in cluster sizes. Balanced clusters are generally desirable unless the data has inherent imbalances.\n",
    "\n",
    "\n",
    "#### **Applying and Evaluating the Algorithms**\n",
    "\n",
    "##### **1. K-means**\n",
    "- **Number of clusters**: 4 (predefined as \\( k_opt \\)).\n",
    "- **Metrics**:\n",
    "  - **Inertia**: 769,611.93\n",
    "  - **Silhouette Score**: 0.485\n",
    "  - **Davies-Bouldin Index**: 0.633\n",
    "- **Cluster sizes**:\n",
    "  - Cluster 0: 1,364 points\n",
    "  - Cluster 1: 10,074 points\n",
    "  - Cluster 2: 10,954 points\n",
    "  - Cluster 3: 4,886 points\n",
    "- **Observations**:\n",
    "  - Clusters are moderately well-separated with a balanced distribution.\n",
    "  - Silhouette Score indicates moderately good separation and compactness.\n",
    "\n",
    "\n",
    "##### **2. K-means++**\n",
    "- **Number of clusters**: 4 (predefined as \\( k_opt \\)).\n",
    "- **Metrics**:\n",
    "  - **Inertia**: 782,496.54\n",
    "  - **Silhouette Score**: 0.531\n",
    "  - **Davies-Bouldin Index**: 0.582\n",
    "- **Cluster sizes**:\n",
    "  - Cluster 0: 7,200 points\n",
    "  - Cluster 1: 16,388 points\n",
    "  - Cluster 2: 658 points\n",
    "  - Cluster 3: 3,032 points\n",
    "- **Observations**:\n",
    "  - K-means++ achieved better initialization compared to K-means, leading to slightly better compactness and separation.\n",
    "  - Cluster sizes are more imbalanced compared to K-means.\n",
    "\n",
    "\n",
    "##### **3. DBSCAN**\n",
    "- **Number of clusters**: 31 (including noise).\n",
    "- **Metrics**:\n",
    "  - **Silhouette Score**: 0.302\n",
    "  - **Davies-Bouldin Index**: 1.017\n",
    "- **Cluster sizes**:\n",
    "  - Dominant Cluster 0: 24,194 points\n",
    "  - Noise (-1): 2,772 points\n",
    "  - Remaining clusters: Mostly small, with less than 100 points each.\n",
    "- **Observations**:\n",
    "  - DBSCAN identified one dominant cluster and many smaller ones, indicating it is not well-suited for this dataset.\n",
    "  - The negative silhouette score suggests overlapping or poorly separated clusters.\n",
    "  - DBSCAN’s performance is sensitive to parameter selection.\n",
    "\n",
    "\n",
    "#### **Comparing Results**\n",
    "\n",
    "| Algorithm    | Inertia    | Silhouette Score | Davies-Bouldin Index | Number of Clusters | Dominant Cluster Size | Observations                                     |\n",
    "|--------------|------------|------------------|-----------------------|---------------------|-----------------------|-------------------------------------------------|\n",
    "| **K-means**  | 769,611.93 | 0.485            | 0.633                 | 4                   | 10,954 points         | Balanced clusters, moderately good separation. |\n",
    "| **K-means++**| 782,496.54 | 0.531            | 0.582                 | 4                   | 16,388 points         | Faster convergence, more imbalanced clusters.  |\n",
    "| **DBSCAN**   | N/A        | 0.302            | 1.017                 | 31                  | 24,194 points         | Poor separation, unsuitable for this dataset.  |\n",
    "\n",
    "\n",
    "#### **Conclusion**\n",
    "Based on the evaluation:\n",
    "1. **K-means++** emerged as the most suitable algorithm, achieving the highest Silhouette Score and lowest Davies-Bouldin Index, indicating well-defined and compact clusters.\n",
    "2. **K-means** performed slightly worse than K-means++ but produced more balanced clusters, making it a viable alternative depending on the application.\n",
    "3. **DBSCAN** struggled with the dataset, identifying one dominant cluster and many small, poorly separated clusters. This method is unsuitable for this dataset without significant parameter tuning.\n",
    "\n",
    "Overall, **K-means++** is recommended for its superior clustering quality, but **K-means** may be preferred if cluster balance is critical. DBSCAN is not recommended for this dataset.\n"
   ]
  }
 ],
 "metadata": {
  "kernelspec": {
   "display_name": "tf_m1",
   "language": "python",
   "name": "python3"
  },
  "language_info": {
   "codemirror_mode": {
    "name": "ipython",
    "version": 3
   },
   "file_extension": ".py",
   "mimetype": "text/x-python",
   "name": "python",
   "nbconvert_exporter": "python",
   "pygments_lexer": "ipython3",
   "version": "3.10.11"
  }
 },
 "nbformat": 4,
 "nbformat_minor": 2
}
