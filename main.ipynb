{
 "cells": [
  {
   "cell_type": "code",
   "execution_count": 1,
   "metadata": {},
   "outputs": [],
   "source": [
    "import pandas as pd\n",
    "import random\n"
   ]
  },
  {
   "cell_type": "markdown",
   "metadata": {},
   "source": [
    "### Prime Number Functions\n",
    "\n",
    "**`is_prime(n)`**  \n",
    "- Checks if a number `n` is prime.\n",
    "- Returns `True` if `n > 1` and divisible only by 1 and itself, else `False`.\n",
    "\n",
    "**`next_prime(n)`**  \n",
    "- Finds the next prime number ≥ `n`.\n",
    "- Uses `is_prime` to incrementally check numbers until a prime is found.\n"
   ]
  },
  {
   "cell_type": "code",
   "execution_count": 2,
   "metadata": {},
   "outputs": [],
   "source": [
    "def is_prime(n):\n",
    "    if n <= 1:\n",
    "        return False\n",
    "    for i in range(2, int(n**0.5) + 1):\n",
    "        if n % i == 0:\n",
    "            return False\n",
    "    return True\n",
    "\n",
    "def next_prime(n):\n",
    "    while not is_prime(n):\n",
    "        n += 1\n",
    "    return n\n"
   ]
  },
  {
   "cell_type": "markdown",
   "metadata": {},
   "source": [
    "### Loading and Merging Datasets\n",
    "\n",
    "1. **Load Datasets**  \n",
    "   - `ratings`: Contains user ratings for movies (`rating.csv`).  \n",
    "   - `movies`: Contains movie information (`movie.csv`).\n",
    "\n",
    "2. **Merge Datasets**  \n",
    "   - Combine `ratings` and `movies` on the `movieId` column using an inner join.  \n",
    "   - Result: A unified DataFrame `df` with movie ratings and details.\n",
    "\n",
    "3. **Preview the Data**  \n",
    "   - Display the first few rows of the merged DataFrame using `df.head()`.\n"
   ]
  },
  {
   "cell_type": "code",
   "execution_count": null,
   "metadata": {},
   "outputs": [],
   "source": [
    "ratings = pd.read_csv('rating.csv')  \n",
    "movies = pd.read_csv('movie.csv')    \n",
    "\n",
    "df = pd.merge(ratings, movies, on='movieId', how='inner')\n"
   ]
  },
  {
   "cell_type": "code",
   "execution_count": null,
   "metadata": {},
   "outputs": [],
   "source": [
    "df.head()"
   ]
  },
  {
   "cell_type": "code",
   "execution_count": null,
   "metadata": {},
   "outputs": [],
   "source": [
    "df.isnull().sum()"
   ]
  },
  {
   "cell_type": "code",
   "execution_count": null,
   "metadata": {},
   "outputs": [],
   "source": [
    "df.info()\n"
   ]
  },
  {
   "cell_type": "code",
   "execution_count": null,
   "metadata": {},
   "outputs": [],
   "source": [
    "df.nunique()"
   ]
  },
  {
   "cell_type": "markdown",
   "metadata": {},
   "source": [
    "### MinHash Implementation from Scratch\n",
    "\n",
    "**`minhash_scratch(user_movie_dict, perm)`**\n",
    "\n",
    "1. **Purpose**  \n",
    "   - Generate MinHash signatures for each user based on the movies they have rated.  \n",
    "\n",
    "2. **Parameters**  \n",
    "   - `user_movie_dict`: Dictionary where keys are users and values are lists of movie IDs.  \n",
    "   - `perm`: Number of hash functions (permutations) to use for the MinHash computation.\n",
    "\n",
    "3. **Logic**  \n",
    "   - **Generate Unique Movie Set:** Extract all unique movie IDs across all users.  \n",
    "   - **Hash Functions:**  \n",
    "     - Generate `perm` random coefficients `a` and `b` for hash functions.  \n",
    "     - Use a prime number `p` greater than the total number of movies to ensure good hashing.  \n",
    "   - **Initialization:** Create a dictionary to store MinHash signatures (`user_sign`), initialized with infinity (`float('inf')`) for each permutation.  \n",
    "   - **Hash Computation:**  \n",
    "     - For each user and their rated movies:  \n",
    "       - Compute the hash value for each movie using \\( \\text{hash} = (a \\cdot \\text{movieId} + b) \\% p \\).  \n",
    "       - Update the user's MinHash signature with the smallest hash value for each permutation.\n",
    "\n",
    "4. **Return**  \n",
    "   - `user_sign`: Dictionary containing MinHash signatures for each user.\n",
    "\n"
   ]
  },
  {
   "cell_type": "code",
   "execution_count": 8,
   "metadata": {},
   "outputs": [],
   "source": [
    "def minhash_scratch(user_movie_dict, perm):\n",
    "    all_movies = set(movie for movies in user_movie_dict.values() for movie in movies)\n",
    "\n",
    "    a_vals = [random.randint(1,len(all_movies)) for i in range(perm)]\n",
    "    b_vals = [random.randint(0,len(all_movies)) for i in range(perm)]\n",
    "\n",
    "    p = next_prime(len(all_movies) + 1)\n",
    "\n",
    "    user_sign = {user : [float('inf')] * perm for user in user_movie_dict}\n",
    "\n",
    "    for user, movies in user_movie_dict.items():\n",
    "        for movie in movies:\n",
    "            for i in range(perm):\n",
    "                hash_value = (a_vals[i] * movie + b_vals[i]) % p ## Why we need the smallest hash values??\n",
    "                if hash_value < user_sign[user][i]:\n",
    "                    user_sign[user][i] = hash_value\n",
    "    \n",
    "    return user_sign"
   ]
  },
  {
   "cell_type": "markdown",
   "metadata": {},
   "source": [
    "### Creating `user_movie_dict`\n",
    "\n",
    "- **Group by `userId`:** Groups the DataFrame by users.\n",
    "- **Extract `movieId`:** Collects all movie IDs each user has rated.\n",
    "- **Convert to List:** Combines the movie IDs into lists for each user.\n",
    "- **Convert to Dictionary:** Creates a dictionary where:\n",
    "  - Keys: `userId` (user identifiers).\n",
    "  - Values: Lists of `movieId` (movies rated by the user).\n",
    "\n",
    "**Result:**  \n",
    "A dictionary `user_movie_dict` where each user is associated with the list of movies they have rated.\n"
   ]
  },
  {
   "cell_type": "code",
   "execution_count": 9,
   "metadata": {},
   "outputs": [],
   "source": [
    "user_movie_dict = df.groupby('userId')['movieId'].apply(list).to_dict()"
   ]
  },
  {
   "cell_type": "code",
   "execution_count": null,
   "metadata": {},
   "outputs": [],
   "source": [
    "user_movie_dict"
   ]
  },
  {
   "cell_type": "markdown",
   "metadata": {},
   "source": [
    "### Locality-Sensitive Hashing (LSH) from Scratch\n",
    "\n",
    "**`lsh_scratch(minhash_signatures, num_bands, rows_per_band)`**\n",
    "\n",
    "1. **Purpose**  \n",
    "   - Implements the LSH algorithm to group users with similar MinHash signatures into the same buckets and identify candidate pairs for similarity checks.\n",
    "\n",
    "2. **Parameters**  \n",
    "   - `minhash_signatures`: Dictionary of users and their MinHash signatures.  \n",
    "   - `num_bands`: Number of bands to divide the signatures into.  \n",
    "   - `rows_per_band`: Number of rows in each band.\n",
    "\n",
    "3. **Logic**  \n",
    "   - **Assertion Check:** Ensures the total number of rows in bands matches the signature length.  \n",
    "   - **Initialization:**\n",
    "     - `buckets`: Stores all users grouped by their bucket hash.\n",
    "     - `candidate_pairs`: Holds all user pairs identified as candidates for similarity.  \n",
    "   - **Band Processing:**  \n",
    "     - For each band, slice the signature into sub-sections (`start_idx:end_idx`).  \n",
    "     - Hash each band to a `band_hash` and group users with the same hash into `band_buckets`.\n",
    "     - Print debug information: Band number, hash, and grouped users.\n",
    "   - **Update Buckets:**  \n",
    "     - Add the users in `band_buckets` to the global `buckets` structure.  \n",
    "   - **Identify Candidate Pairs:**  \n",
    "     - For users in the same `band_buckets` group, generate all possible user pairs.\n",
    "\n",
    "4. **Return Values**  \n",
    "   - `buckets`: Dictionary containing users grouped by bucket hash.  \n",
    "   - `candidate_pairs`: Set of user pairs identified as candidates for further similarity evaluation.\n",
    "\n",
    "5. **Key Steps:**\n",
    "   - **Band Hashing:**  \n",
    "     Users with similar MinHash signatures fall into the same bucket, increasing the likelihood of finding similar users.\n",
    "   - **Candidate Pair Generation:**  \n",
    "     User pairs in the same bucket are flagged as potentially similar for detailed similarity checks.\n",
    "\n",
    "**Debugging Output:**  \n",
    "For each band, the band index, hash values, and associated users are printed for tracking progress.\n"
   ]
  },
  {
   "cell_type": "code",
   "execution_count": 13,
   "metadata": {},
   "outputs": [],
   "source": [
    "from collections import defaultdict\n",
    "\n",
    "def lsh_scratch(minhash_signatures, num_bands, rows_per_band):\n",
    "    assert num_bands * rows_per_band == len(list(minhash_signatures.values())[0]), \\\n",
    "        \"ERROR: num_bands * rows_per_band does not match the signature length.\"\n",
    "\n",
    "    buckets = defaultdict(list)\n",
    "    candidate_pairs = set()\n",
    "\n",
    "    for band_idx in range(num_bands):\n",
    "        band_buckets = defaultdict(list)\n",
    "\n",
    "        for user, signature in minhash_signatures.items():\n",
    "            start_idx = band_idx * rows_per_band\n",
    "            end_idx = start_idx + rows_per_band\n",
    "            band = tuple(signature[start_idx:end_idx])\n",
    "\n",
    "            band_hash = hash(band)  # Built-in Python hash\n",
    "            band_buckets[band_hash].append(user)\n",
    "\n",
    "            print(f\"Band {band_idx}, Hash {band_hash}: {band_buckets[band_hash]}\")\n",
    "\n",
    "        # Add users to general buckets\n",
    "        for band_hash, users in band_buckets.items():\n",
    "            buckets[band_hash].extend(users)\n",
    "\n",
    "        # Check for candidate pairs\n",
    "        for bucket_users in band_buckets.values():\n",
    "            if len(bucket_users) > 1:\n",
    "                for i in range(len(bucket_users)):\n",
    "                    for j in range(i + 1, len(bucket_users)):\n",
    "                        candidate_pairs.add((bucket_users[i], bucket_users[j]))\n",
    "\n",
    "    return buckets, candidate_pairs\n"
   ]
  },
  {
   "cell_type": "code",
   "execution_count": 11,
   "metadata": {},
   "outputs": [],
   "source": [
    "minhash_signatures = minhash_scratch(user_movie_dict, 32)"
   ]
  },
  {
   "cell_type": "code",
   "execution_count": null,
   "metadata": {},
   "outputs": [],
   "source": [
    "minhash_signatures"
   ]
  },
  {
   "cell_type": "code",
   "execution_count": null,
   "metadata": {},
   "outputs": [],
   "source": [
    "num_bands = 8\n",
    "rows_per_band = 4\n",
    "\n",
    "buckets, candidate_pairs = lsh_scratch(minhash_signatures, num_bands, rows_per_band)\n",
    "\n"
   ]
  },
  {
   "cell_type": "code",
   "execution_count": null,
   "metadata": {},
   "outputs": [],
   "source": [
    "buckets"
   ]
  },
  {
   "cell_type": "code",
   "execution_count": null,
   "metadata": {},
   "outputs": [],
   "source": [
    "candidate_pairs"
   ]
  },
  {
   "cell_type": "code",
   "execution_count": null,
   "metadata": {},
   "outputs": [],
   "source": [
    "len(buckets)"
   ]
  },
  {
   "cell_type": "code",
   "execution_count": null,
   "metadata": {},
   "outputs": [],
   "source": [
    "len(candidate_pairs)"
   ]
  },
  {
   "cell_type": "markdown",
   "metadata": {},
   "source": [
    "### Finding Similar Users\n",
    "\n",
    "**Function:** `find_similar_users(candidate_pairs, user_movie_dict)`\n",
    "\n",
    "This function identifies and ranks similar users based on the number of movies they have in common, leveraging the candidate pairs generated by the LSH algorithm.\n",
    "\n",
    "---\n",
    "\n",
    "#### **1. Parameters**\n",
    "- **`candidate_pairs`**: Set of user pairs identified as potentially similar.  \n",
    "- **`user_movie_dict`**: Dictionary mapping users to the list of movies they have rated.\n",
    "\n",
    "---\n",
    "\n",
    "#### **2. Logic**\n",
    "- **Step 1: Calculate Common Movies**  \n",
    "  - For each user pair in `candidate_pairs`:  \n",
    "    - Retrieve their respective movie lists and convert them into sets.  \n",
    "    - Compute the intersection of the sets to find common movies.  \n",
    "    - If the intersection is non-empty, add the pair to the `similar_users` dictionary, along with the count of common movies.  \n",
    "\n",
    "- **Step 2: Sort Similar Users**  \n",
    "  - For each user, sort their list of similar users in descending order of the number of common movies.\n",
    "\n",
    "---\n",
    "\n",
    "#### **3. Return Value**\n",
    "- **`similar_users`**:  \n",
    "  A dictionary where each user is mapped to a list of tuples.  \n",
    "  - Each tuple contains:  \n",
    "    1. A similar user.  \n",
    "    2. The number of movies they have in common.  \n",
    "  - The list is sorted by the number of common movies (highest first).\n",
    "\n",
    "---\n",
    "\n",
    "#### **4. Example Workflow**\n",
    "\n",
    "**Input:**  \n",
    "```python\n",
    "candidate_pairs = {('User1', 'User2'), ('User1', 'User3')}\n",
    "user_movie_dict = {\n",
    "    'User1': [101, 102, 103],\n",
    "    'User2': [101, 103, 104],\n",
    "    'User3': [102, 105]\n",
    "}\n",
    "\n"
   ]
  },
  {
   "cell_type": "markdown",
   "metadata": {},
   "source": [
    "---"
   ]
  },
  {
   "cell_type": "markdown",
   "metadata": {},
   "source": [
    "**Output:**  \n",
    "```python\n",
    "{\n",
    "    'User1': [('User2', 2), ('User3', 1)],\n",
    "    'User2': [('User1', 2)],\n",
    "    'User3': [('User1', 1)]\n",
    "}\n"
   ]
  },
  {
   "cell_type": "code",
   "execution_count": 23,
   "metadata": {},
   "outputs": [],
   "source": [
    "def find_similar_users(candidate_pairs, user_movie_dict):\n",
    "    similar_users = defaultdict(list)  \n",
    "\n",
    "    for user1, user2 in candidate_pairs:\n",
    "        movies_user1 = set(user_movie_dict[user1])\n",
    "        movies_user2 = set(user_movie_dict[user2])\n",
    "        \n",
    "        common_movies = movies_user1.intersection(movies_user2)\n",
    "        \n",
    "        if len(common_movies) > 0:\n",
    "            similar_users[user1].append((user2, len(common_movies)))\n",
    "            similar_users[user2].append((user1, len(common_movies)))\n",
    "\n",
    "    for user in similar_users:\n",
    "        similar_users[user] = sorted(similar_users[user], key=lambda x: x[1], reverse=True)\n",
    "    \n",
    "    return similar_users\n"
   ]
  },
  {
   "cell_type": "markdown",
   "metadata": {},
   "source": [
    "### Movie Recommendation Function\n",
    "\n",
    "**Function:** `recommend_movies(user, similar_users, user_movie_dict, rating_dict, max_recommendations=5)`\n",
    "\n",
    "This function recommends movies to a user based on the preferences of similar users.\n",
    "\n",
    "---\n",
    "\n",
    "#### **1. Parameters**\n",
    "- **`user`**: The target user for whom the recommendations are generated.  \n",
    "- **`similar_users`**: A dictionary mapping users to their similar users and the number of common movies.  \n",
    "- **`user_movie_dict`**: A dictionary mapping users to the list of movies they have rated.  \n",
    "- **`rating_dict`**: A dictionary mapping users to their movie ratings as `{movieId: rating}`.  \n",
    "- **`max_recommendations`**: The maximum number of movies to recommend (default is 5).\n",
    "\n",
    "---\n",
    "\n",
    "#### **2. Logic**\n",
    "1. **Identify Movies Already Watched**  \n",
    "   - Extract the list of movies the target user has already watched to avoid recommending these.\n",
    "\n",
    "2. **Iterate Over Similar Users**  \n",
    "   - For each similar user:\n",
    "     - Identify the movies they have watched but the target user has not (`unseen_movies`).\n",
    "\n",
    "3. **Aggregate Ratings for Unseen Movies**  \n",
    "   - For each unseen movie:\n",
    "     - If it is not already in the recommendation list, add it with the similar user's rating.\n",
    "     - If it is already in the list, add the rating to its existing score.  \n",
    "   - This ensures that movies recommended by multiple similar users receive a higher score.\n",
    "\n",
    "4. **Sort Recommendations**  \n",
    "   - Sort the unseen movies by their aggregated scores in descending order.\n",
    "\n",
    "5. **Return Top Recommendations**  \n",
    "   - Return the top `max_recommendations` movies from the sorted list.\n",
    "\n",
    "---\n",
    "\n",
    "#### **3. Return Value**\n",
    "- A list of movie IDs representing the top recommended movies, sorted by their scores.\n",
    "\n",
    "---\n",
    "\n",
    "#### **4. Example Workflow**\n",
    "\n",
    "**Input:**  \n",
    "```python\n",
    "user = 'User1'\n",
    "similar_users = {\n",
    "    'User1': [('User2', 5), ('User3', 3)]\n",
    "}\n",
    "user_movie_dict = {\n",
    "    'User1': [101, 102],\n",
    "    'User2': [102, 103],\n",
    "    'User3': [103, 104]\n",
    "}\n",
    "rating_dict = {\n",
    "    'User2': {102: 4, 103: 5},\n",
    "    'User3': {103: 3, 104: 4}\n",
    "}\n"
   ]
  },
  {
   "cell_type": "markdown",
   "metadata": {},
   "source": [
    "---"
   ]
  },
  {
   "cell_type": "markdown",
   "metadata": {},
   "source": [
    "**Output:**  \n",
    "```python\n",
    "[103, 104]\n"
   ]
  },
  {
   "cell_type": "code",
   "execution_count": 20,
   "metadata": {},
   "outputs": [],
   "source": [
    "def recommend_movies(user, similar_users, user_movie_dict, rating_dict, max_recommendations=5):\n",
    "    user_movies = set(user_movie_dict[user]) \n",
    "    recommendations = {}\n",
    "\n",
    "    if user not in similar_users:\n",
    "        return []  \n",
    "    \n",
    "    for similar_user, _ in similar_users[user]:\n",
    "        similar_user_movies = set(user_movie_dict[similar_user])\n",
    "        \n",
    "        unseen_movies = similar_user_movies - user_movies\n",
    "        \n",
    "        for movie in unseen_movies:\n",
    "            if movie not in recommendations:\n",
    "                recommendations[movie] = rating_dict[similar_user].get(movie, 0)  \n",
    "            else:\n",
    "                recommendations[movie] += rating_dict[similar_user].get(movie, 0) \n",
    "    \n",
    "    sorted_recommendations = sorted(recommendations.items(), key=lambda x: x[1], reverse=True)\n",
    "    \n",
    "    return [movie for movie, _ in sorted_recommendations[:max_recommendations]]\n"
   ]
  },
  {
   "cell_type": "markdown",
   "metadata": {},
   "source": [
    "### Creating `rating_dict`\n",
    "\n",
    "**Purpose:**  \n",
    "Creates a dictionary mapping each `userId` to their rated `movieId` and corresponding `rating`.\n",
    "\n",
    "**Steps:**  \n",
    "1. **Group by `userId`:** Groups movies and ratings for each user.  \n",
    "2. **`zip` and `dict`:** Combines `movieId` and `rating` into a dictionary for each user.  \n",
    "3. **Convert to `dict`:** Creates a nested dictionary.\n",
    "\n",
    "**Result:**  \n",
    "A dictionary in the format:\n",
    "```python\n",
    "{\n",
    "    'User1': {101: 4.0, 102: 5.0},\n",
    "    'User2': {103: 3.5, 104: 4.0},\n",
    "    ...\n",
    "}\n"
   ]
  },
  {
   "cell_type": "code",
   "execution_count": 21,
   "metadata": {},
   "outputs": [],
   "source": [
    "rating_dict = (\n",
    "    df.groupby('userId')\n",
    "    .apply(lambda x: dict(zip(x['movieId'], x['rating'])))\n",
    "    .to_dict()\n",
    ")\n"
   ]
  },
  {
   "cell_type": "code",
   "execution_count": 24,
   "metadata": {},
   "outputs": [],
   "source": [
    "similar_users = find_similar_users(candidate_pairs, user_movie_dict)"
   ]
  },
  {
   "cell_type": "code",
   "execution_count": null,
   "metadata": {},
   "outputs": [],
   "source": [
    "similar_users"
   ]
  },
  {
   "cell_type": "code",
   "execution_count": null,
   "metadata": {},
   "outputs": [],
   "source": [
    "user_id = 2 \n",
    "recommended_movies = recommend_movies(user_id, similar_users, user_movie_dict, rating_dict)\n",
    "\n",
    "print(f\"Recommended Movies for User {user_id}: {recommended_movies}\")"
   ]
  },
  {
   "cell_type": "code",
   "execution_count": null,
   "metadata": {},
   "outputs": [],
   "source": [
    "user_id = 1 \n",
    "recommended_movies = recommend_movies(user_id, similar_users, user_movie_dict, rating_dict)\n",
    "\n",
    "print(f\"Recommended Movies for User {user_id}: {recommended_movies}\")"
   ]
  },
  {
   "cell_type": "code",
   "execution_count": null,
   "metadata": {},
   "outputs": [],
   "source": []
  },
  {
   "cell_type": "markdown",
   "metadata": {},
   "source": [
    "### Algorithmic question"
   ]
  },
  {
   "cell_type": "markdown",
   "metadata": {},
   "source": [
    "#### a) Help Arya by providing a pseudocode for finding an optimal playing strategy, that is, a strategy that maximizes her value. (Hint: Use recursion, assuming that both players play optimally).\n",
    "The possible strategy is to calculate all the possible final scores that each player can obtain based on the various sequences of possible choices.; <br>\n",
    "This can be done recursively, simulating all the possible choices and outcomes that can be achieved, assuming that the other player plays optimally."
   ]
  },
  {
   "cell_type": "markdown",
   "metadata": {},
   "source": [
    "##### Recursive algorithm explanation:"
   ]
  },
  {
   "cell_type": "markdown",
   "metadata": {},
   "source": [
    "---\n",
    "\n",
    "**Input:**  \n",
    "- `num`: List of numbers.\n",
    "\n",
    "**Variable inizialized during the algorithm**\n",
    "- `arya_score`: Arya's score (default is 0).  \n",
    "- `mario_score`: Mario's score (default is 0).\n",
    "- `arya_moves`: List of best moves for Arya.\n",
    "- `mario_moves`: List of best moves for Mario.\n",
    "- `turn`: Boolean indicating whose turn it is (True for Arya, False for Mario).  \n",
    "\n",
    "**Output:**  \n",
    "- Final scores and moves of both players: `(arya_score, mario_score, arya_moves, mario_moves)`.  \n",
    "\n",
    "--- \n",
    "\n",
    "**Algorithm:**\n",
    "\n",
    "1. **Base Case:**\n",
    "   - If `num` is empty, return best scores and moves for both players `(arya_score, bran_score, arya_moves, bran_moves)`.\n",
    "\n",
    "2. **Arya's turn:**\n",
    "   1. Simulate both choices, create 2 tuples with possible score of both players if Arya choose Head or Tail:\n",
    "      - `choose_head`: Recursively call the function with `num[1:]` (excluding the head), adding `num[0]` to `arya_score` and appending head number `num[0]` to her moves.\n",
    "      - `choose_tail`: Recursively call the function with `num[:-1]` (excluding the tail), adding `num[-1]` to `arya_score` and appending tail number `num[-1]` to her moves.\n",
    "   2. Compare the results:\n",
    "      - If head choice is better than tail choice, `choose_head[0] > choose_tail[0]`, return *choose_head*, which contains best scores and moves for both players if Arya choose to follow head number path.\n",
    "      - Otherwise, return *choose_tail*, which contains best scores and moves for both players if Arya choose to follow tail number path.\n",
    "\n",
    "3. **Mario's turn:**\n",
    "   1. Simulate both choices, create 2 tuples with possible score of both players if Mario choose Head or Tail:\n",
    "      - `choose_head`: Recursively call the function with `num[1:]` (excluding the head), adding `num[0]` to `mario_score` and appending head number `num[0]` to his moves.\n",
    "      - `choose_tail`: Recursively call the function with `num[:-1]` (excluding the tail), adding `num[-1]` to `mario_score` and appending tail number `num[-1]` to his moves.\n",
    "   2. Compare the results:\n",
    "      - If head choice is better than tail choice, `choose_head[1] > choose_tail[1]`, return *choose_head*, which contains best scores and moves for both players if Mario choose to follow head number path.\n",
    "      - Otherwise, return choose_tail, which contains best scores and moves for both players if Mario choose to follow tail number path."
   ]
  },
  {
   "cell_type": "markdown",
   "metadata": {},
   "source": [
    "##### Recursive algorithm pseudocode:"
   ]
  },
  {
   "cell_type": "markdown",
   "metadata": {},
   "source": [
    "**Algorithm: *recursive_strategy(num)***\n",
    "\n",
    "**INITIALIZE** arya_score <- 0 <br>\n",
    "**INITIALIZE** mario_score <- 0 <br>\n",
    "**INITIALIZE** arya_moves <- [] <br>\n",
    "**INITIALIZE** mario_moves <- [] <br>\n",
    "\n",
    "***Base case:***\n",
    "1. **IF** *len(num) == 0* \n",
    "    - **return** *(arya_score, mario_score, arya_moves, mario_moves)*\n",
    "\n",
    "***Arya's turn:*** <br>\n",
    "\n",
    "2. **IF** *turn == True*:  \n",
    "    - **choose_head** <- ***recursive_strategy**(num[1:], arya_score + num[0], mario_score, arya_moves + [num[0]], mario_moves, !turn)*\n",
    "    - **choose_tail** <- ***recursive_strategy**(num[:-1], arya_score + num[-1], mario_score, arya_moves + [num[-1]], mario_move, !turn)*\n",
    "\n",
    "    - **if** *choose_head[0] > choose_tail[0]*:\n",
    "      - **return** *choose_head*\n",
    "    - **else**\n",
    "      - **return** *choose_tail*\n",
    "\n",
    "***Mario's turn***\n",
    "\n",
    "3. **ELSE**\n",
    "    - **choose_head** <- ***recursive_strategy**(num[1:], arya_score, mario_score + num[0], arya_moves, mario_moves + [ num[0] ], !turn)*\n",
    "    - **choose_tail** <- ***recursive_strategy**(num[:-1], arya_score, mario_score + num[-1], arya_moves, mario_moves + [ num[-1] ], !turn)*  \n",
    "  \n",
    "    - **IF** *choose_head[1] > choose_tail[1]*:\n",
    "      - **return** *choose_head*\n",
    "    - **ELSE**\n",
    "      - **return** *choose_tail* "
   ]
  },
  {
   "cell_type": "markdown",
   "metadata": {},
   "source": [
    "#### b) Write a Python program implementing her game strategy. Try different array lengths to test the algorithm."
   ]
  },
  {
   "cell_type": "code",
   "execution_count": 3,
   "metadata": {},
   "outputs": [
    {
     "name": "stdout",
     "output_type": "stream",
     "text": [
      "List [7, 35, 12]\n",
      "Arya's best score: 22\n",
      "Arya best strategy is to take, in sequence [35]\n",
      "\n",
      "List [99, 53, 35, 14]\n",
      "Arya's best score: 138\n",
      "Arya best strategy is to take, in sequence [53, 14]\n",
      "\n",
      "List [5, 49, 69, 72, 43]\n",
      "Arya's best score: 122\n",
      "Arya best strategy is to take, in sequence [72, 49]\n",
      "\n",
      "List [44, 7, 21, 18, 44, 72]\n",
      "Arya's best score: 143\n",
      "Arya best strategy is to take, in sequence [44, 18, 7]\n",
      "\n",
      "List [43, 90, 32, 21, 1, 56, 100]\n",
      "Arya's best score: 183\n",
      "Arya best strategy is to take, in sequence [56, 21, 90]\n",
      "\n",
      "List [12, 77, 49, 9, 1, 41, 94, 58]\n",
      "Arya's best score: 193\n",
      "Arya best strategy is to take, in sequence [94, 1, 49, 12]\n",
      "\n",
      "List [14, 6, 12, 86, 19, 17, 3, 38, 56]\n",
      "Arya's best score: 113\n",
      "Arya best strategy is to take, in sequence [38, 17, 6, 86]\n",
      "\n"
     ]
    }
   ],
   "source": [
    "import random\n",
    "\n",
    "def recursive_strategy(num, arya_score=0, mario_score=0, arya_moves=None, mario_moves=None, turn=True):\n",
    "    if arya_moves is None:\n",
    "        arya_moves = []\n",
    "    if mario_moves is None:\n",
    "        mario_moves = []\n",
    "\n",
    "    # Base case, num empty\n",
    "    if not num:\n",
    "        return arya_score, mario_score, arya_moves, mario_moves\n",
    "\n",
    "    # Arya's turn\n",
    "    if turn:  \n",
    "        # Simulate best possible scores and moves for head and tail\n",
    "        choose_head = recursive_strategy(num[1:], \n",
    "                                         arya_score + num[0], \n",
    "                                         mario_score, \n",
    "                                         arya_moves + [num[0]], \n",
    "                                         mario_moves, \n",
    "                                         not turn)\n",
    "        \n",
    "        choose_tail = recursive_strategy(num[:-1], \n",
    "                                         arya_score + num[-1], \n",
    "                                         mario_score, \n",
    "                                         arya_moves + [num[-1]], \n",
    "                                         mario_moves, not turn)\n",
    "\n",
    "        # Arya selects the move that maximizes her score\n",
    "        if choose_head[0] > choose_tail[0]:\n",
    "            return choose_head\n",
    "        else:\n",
    "            return choose_tail\n",
    "\n",
    "    # Mario's turn\n",
    "    else:  \n",
    "        # Simulate best possible scores and moves for head and tail\n",
    "        choose_head = recursive_strategy(num[1:], \n",
    "                                         arya_score, \n",
    "                                         mario_score + num[0], \n",
    "                                         arya_moves, \n",
    "                                         mario_moves + [num[0]], \n",
    "                                         not turn)\n",
    "        \n",
    "        choose_tail = recursive_strategy(num[:-1], \n",
    "                                         arya_score, \n",
    "                                         mario_score + num[-1], \n",
    "                                         arya_moves, \n",
    "                                         mario_moves + [num[-1]], \n",
    "                                         not turn)\n",
    "\n",
    "        # Mario selects the move that maximizes his score\n",
    "        if choose_head[1] > choose_tail[1]:\n",
    "            return choose_head\n",
    "        else:\n",
    "            return choose_tail\n",
    "\n",
    "# Example usage\n",
    "# Example usage on different size lists\n",
    "random.seed(123)\n",
    "\n",
    "listSize = 7\n",
    "trySize = 10\n",
    "\n",
    "nums = [[random.randint(1, 100) for _ in range(i)] for i in range (3, trySize)]\n",
    "\n",
    "for num in nums:\n",
    "    print(\"List\", num)\n",
    "    n = len(num)\n",
    "    arya_score, mario_score, arya_moves, mario_moves = recursive_strategy(num, n)\n",
    "    print(\"Arya's best score:\", arya_score)\n",
    "    print(\"Arya best strategy is to take, in sequence\", mario_moves)\n",
    "    print()\n",
    "\n"
   ]
  },
  {
   "cell_type": "markdown",
   "metadata": {},
   "source": [
    "#### c) Is the algorithm efficient? Prove that it is polynomial and provide an asymptotic time complexity bound, or show that it requires exponential time."
   ]
  },
  {
   "cell_type": "markdown",
   "metadata": {},
   "source": [
    "**Computational Cost Analysis**\n",
    "\n",
    "This algorithm exhaustively explores all possible combinations of moves for Arya and Mario. Each recursive branch represents a decision (choosing head or tail) and explores all subsequent moves optimally. Without memoization, the same subproblems (overlapping intervals) are recalculated multiple times, leading to exponential time growth.\n",
    "\n",
    "1. ***Function Behavior***: <br>\n",
    "At each step, the function simulates both possible moves (taking the number at the head or the tail of the list). <br>\n",
    "The size of the list `num` decreases by 1 at each recursive call, but for every call, two branches of the recursion are created and explored.\n",
    "\n",
    "2. ***Recursive Tree Depth***: <br>\n",
    "The recursion depth is equal to the number of elements in the list num, which is `n`, this takes ***O(n)*** time.\n",
    "\n",
    "3. ***Number of Recursive Calls***: <br>\n",
    "For a list of length `n` the recursion tree has **2<sup>n</sup> - 1** nodes because every choice branches into two further calls.\n",
    "\n",
    "4. ***Overall Time Complexity***: <br>\n",
    "Given that decision over the n numbers of the list create two recursive call, in `point 2.1` for Arya and in `point 3.1` for Mario, and that they also create other 2 recursive call each, the total time complexity of the algortihm is **exponential**, in particular, it is **O(n 2<sup>n</sup>)**\n",
    "\n",
    "\n"
   ]
  },
  {
   "cell_type": "markdown",
   "metadata": {},
   "source": [
    "#### d) *If the algorithm is exponential, explain how to make it polynomial and provide a pseudocode for it. Recompute the computational complexity of the updated algorithm.*"
   ]
  },
  {
   "cell_type": "markdown",
   "metadata": {},
   "source": [
    "The following algorithm solves the problem using dynamic programming. The algorithm builds a table to store the results of subarray calculations, avoiding redundant computations, as we did in recursive algorithm."
   ]
  },
  {
   "cell_type": "markdown",
   "metadata": {},
   "source": [
    "---\n",
    "\n",
    "**Input:**  \n",
    "- `num`: List of numbers.\n",
    "\n",
    "**Output:**  \n",
    "- Final scores and moves of both players:  \n",
    "  - `Arya_score`: Arya's score.  \n",
    "  - `mario_score`: mario's score.  \n",
    "  - `Arya_moves`: List of best moves for Arya.\n",
    "  - `mario_moves`: List of best moves for Mario.\n",
    "\n",
    "---\n",
    "\n",
    "**Algorithm:**\n",
    "\n",
    "1. **Initialization:**  \n",
    "   - Create a 2D table `score_table` to store maximum score difference for the current player subarrays `num[i:j+1]`.\n",
    "   - Another 2D table moves is created to store sequence of moves both players takes when playing optimally on subarrays `num[i:j+1]`.\n",
    "   - `total_sum` accumulates the sum of all elements in the array.\n",
    "\n",
    "2. **Fill up the table:**\n",
    "    \n",
    "   - If there is only one element in the subarray `i == j`, Arya takes it.  \n",
    "   - Otherwise, Arya has two choices and takes the one that maximized her score difference:  \n",
    "     - **Arya's Choices:**  \n",
    "       1. Pick the first element `num[i]` and let Mario play optimally in the remaining subarray `num[i+1:j+1]`.\n",
    "       2. Pick the last element `num[j]` and let Mario play optimally in the remaining subarray `num[i:j]`.  \n",
    "\n",
    "3. **Moves tracking:**\n",
    "    - If Arya picks the first element, the move is added to the sequence, followed by the optimal sequence for `num[i+1:j+1]`\n",
    "    - If Arya picks the last element, the move is added to the sequence, followed by the optimal sequence for `num[i:j]`\n",
    "\n",
    "4. **Result:**\n",
    "    - The final answer for the entire array is stored in `score_table[0][n-1]`. Return the scores and moves from this cell.\n"
   ]
  },
  {
   "cell_type": "markdown",
   "metadata": {},
   "source": [
    "##### Optimized Algorithm Pseudocode"
   ]
  },
  {
   "cell_type": "markdown",
   "metadata": {},
   "source": [
    "**Algorithm: optimized_game(num, n):**\n",
    "\n",
    "1. Initialization\n",
    "    - total_sum <- 0 <br>\n",
    "    - **CREATE** 2D array *score_table[ n ][ n ]* initialized to *0* <br>\n",
    "    - **CREATE** 2D array *moves[ n ][ n ]* initialized to *empty lists* <br>\n",
    "\n",
    "2. Iteratively fill up the score_table\n",
    "\n",
    "    - **FOR** *i* **FROM** *n-1* **TO** *0*: \n",
    "        - **total_sum** += *num[ i ]* <br>\n",
    "        \n",
    "        - **FOR** *j* **FROM** *i* **TO** *n-1*:\n",
    "            - **IF** *i == j*:\n",
    "                - **score_table[ i ][ j ]** <- *num[ i ]*\n",
    "                - **moves[ i ][ j ]** <- *[ num[ i ] ]*\n",
    "            - **ELSE**:\n",
    "                - **pick_start** <- *num[ i ] - score_table[ i+1 ][ j ]*\n",
    "                - **pick_end** <- *num[j] - score_table[ i ][ j-1 ]*\n",
    "\n",
    "                - **IF** *pick_start > pick_end*:\n",
    "                    - score_table[ i ][ j ] <- *pick_start*\n",
    "                    - moves[ i ][ j ] <- *[ num[ i ] ] + moves[ i+1 ][ j ]*\n",
    "                - **ELSE**:\n",
    "                    - **score_table[ i ][ j ]** <- *pick_end*\n",
    "                    - **moves[ i ][ j ]** <- *[ num[ j ] ] + moves[ i ][ j-1 ]*\n",
    "\n",
    "- **arya_score** <- *(total_sum + score_table[ 0 ][ n-1 ]) // 2*\n",
    "- **RETURN** *arya_score*, *mario_score*, *moves[ 0 ][ n-1 ]*, *moves[0][n - 1][1::2]*"
   ]
  },
  {
   "cell_type": "markdown",
   "metadata": {},
   "source": [
    "#### e) *Implement the algorithm in Python. Compare your result values with the previous algorithm. Also compare the running times.*"
   ]
  },
  {
   "cell_type": "code",
   "execution_count": 4,
   "metadata": {},
   "outputs": [
    {
     "name": "stdout",
     "output_type": "stream",
     "text": [
      "List [7, 35, 12]\n",
      "Arya's best score: 19\n",
      "Arya best strategy is to take, in sequence [35]\n",
      "\n",
      "List [99, 53, 35, 14]\n",
      "Arya's best score: 134\n",
      "Arya best strategy is to take, in sequence [53, 14]\n",
      "\n",
      "List [5, 49, 69, 72, 43]\n",
      "Arya's best score: 117\n",
      "Arya best strategy is to take, in sequence [72, 49]\n",
      "\n",
      "List [44, 7, 21, 18, 44, 72]\n",
      "Arya's best score: 137\n",
      "Arya best strategy is to take, in sequence [44, 18, 7]\n",
      "\n",
      "List [43, 90, 32, 21, 1, 56, 100]\n",
      "Arya's best score: 176\n",
      "Arya best strategy is to take, in sequence [56, 21, 90]\n",
      "\n",
      "List [12, 77, 49, 9, 1, 41, 94, 58]\n",
      "Arya's best score: 185\n",
      "Arya best strategy is to take, in sequence [94, 1, 49, 12]\n",
      "\n",
      "List [14, 6, 12, 86, 19, 17, 3, 38, 56]\n",
      "Arya's best score: 104\n",
      "Arya best strategy is to take, in sequence [38, 17, 6, 86]\n",
      "\n"
     ]
    }
   ],
   "source": [
    "import random\n",
    "\n",
    "def optimized_game(num, n):\n",
    "    # Total sum of numbers in the list\n",
    "    total_sum = 0\n",
    "    # Table for score storing\n",
    "    score_table = [[0] * n for _ in range(n)] \n",
    "    # Table for moves tracking\n",
    "    moves = [[[] for _ in range(n)] for _ in range(n)]  # Move tracking\n",
    "    \n",
    "    # Iterate from the end to the start\n",
    "    for i in range(n - 1, -1, -1):\n",
    "        total_sum += num[i]\n",
    "        for j in range(i, n):\n",
    "            if i == j:\n",
    "                score_table[i][j] = num[i]\n",
    "                moves[i][j] = [num[i]]  # Single element, pick it\n",
    "            else:\n",
    "                # Two options: pick the head number (start) or the tail number (end)\n",
    "                pick_start = num[i] - score_table[i + 1][j]\n",
    "                pick_end = num[j] - score_table[i][j - 1]\n",
    "                \n",
    "                if pick_start > pick_end:\n",
    "                    score_table[i][j] = pick_start\n",
    "                    # Pick start and add the rest\n",
    "                    moves[i][j] = [num[i]] + moves[i + 1][j]\n",
    "                else:\n",
    "                    score_table[i][j] = pick_end\n",
    "                    # Pick end and add the rest\n",
    "                    moves[i][j] = [num[j]] + moves[i][j - 1]  \n",
    "                    \n",
    "    # Calculate Arya's maximum score\n",
    "    arya_score = (total_sum + score_table[0][n - 1]) // 2\n",
    "    # Create return variables [arya_score, mario_score, arya_moves, mario_moves]\n",
    "    return arya_score, total_sum - arya_score, moves[0][n - 1][::2], moves[0][n - 1][1::2]\n",
    "\n",
    "\n",
    "# Example usage on different size lists\n",
    "random.seed(123)\n",
    "\n",
    "listSize = 7\n",
    "trySize = 10\n",
    "\n",
    "nums = [[random.randint(1, 100) for _ in range(i)] for i in range (3, trySize)]\n",
    "\n",
    "for num in nums:\n",
    "    print(\"List\", num)\n",
    "    n = len(num)\n",
    "    arya_score, mario_score, arya_moves, mario_moves = optimized_game(num, n)\n",
    "    print(\"Arya's best score:\", arya_score)\n",
    "    print(\"Arya best strategy is to take, in sequence\", mario_moves)\n",
    "    print()"
   ]
  },
  {
   "cell_type": "markdown",
   "metadata": {},
   "source": [
    "**Computational Cost Analysis**\n",
    "- Initialization of tables take, each, ***O(n<sup>2</sup>)***, where n is the size of the list of number.\n",
    "- Filling the table involves two nested loops:\n",
    "    -   Outer loop: ***O(n)***\n",
    "    -   Inner loop: ***O(n)***\n",
    "    -   For each iteration in the inner loop, constant time ***O(1)*** work is done (calculating scores and updating moves).\n",
    "    -   Overall time complexity of filling up step is ***O(n<sup>2</sup>)***\n",
    "- Calculating Arya's score is done in costant time ***O(1)***.\n",
    "\n",
    "Overall time complexity is ***O(n<sup>2</sup>)***, **polynomial** time."
   ]
  },
  {
   "cell_type": "markdown",
   "metadata": {},
   "source": [
    "#### f) Finally, consult LLM (ChatGPT, Claude AI, Gemini, Perplexity, etc.) to craft a third, optimized implementation and analyze its time complexity. Also, explain if the LLM is doing a good job and how you can evaluate whether the suggested solution works properly."
   ]
  },
  {
   "cell_type": "code",
   "execution_count": 5,
   "metadata": {},
   "outputs": [
    {
     "name": "stdout",
     "output_type": "stream",
     "text": [
      "List [7, 35, 12]\n",
      "Arya's best score: 19\n",
      "Arya best strategy is to take, in sequence [12, 7]\n",
      "\n",
      "List [99, 53, 35, 14]\n",
      "Arya's best score: 134\n",
      "Arya best strategy is to take, in sequence [99, 35]\n",
      "\n",
      "List [5, 49, 69, 72, 43]\n",
      "Arya's best score: 117\n",
      "Arya best strategy is to take, in sequence [43, 69, 5]\n",
      "\n",
      "List [44, 7, 21, 18, 44, 72]\n",
      "Arya's best score: 137\n",
      "Arya best strategy is to take, in sequence [72, 44, 21]\n",
      "\n",
      "List [43, 90, 32, 21, 1, 56, 100]\n",
      "Arya's best score: 176\n",
      "Arya best strategy is to take, in sequence [100, 1, 32, 43]\n",
      "\n",
      "List [12, 77, 49, 9, 1, 41, 94, 58]\n",
      "Arya's best score: 185\n",
      "Arya best strategy is to take, in sequence [58, 41, 9, 77]\n",
      "\n",
      "List [14, 6, 12, 86, 19, 17, 3, 38, 56]\n",
      "Arya's best score: 104\n",
      "Arya best strategy is to take, in sequence [56, 3, 14, 19, 12]\n",
      "\n"
     ]
    }
   ],
   "source": [
    "def LLM_game(num):\n",
    "    n = len(num)\n",
    "    # Initialize DP table to store scores and moves of both players [arya_score, mario_score, arya_moves, mario_moves]\n",
    "    dp = [[[0, 0, [], []] for _ in range(n)] for _ in range(n)]\n",
    "\n",
    "    # Fill the DP table\n",
    "\n",
    "    # Subarryas of length 1\n",
    "    for i in range(n):\n",
    "        dp[i][i] = [num[i], 0, [num[i]], []]\n",
    "\n",
    "    # Subarray of length in range (2, len(num))\n",
    "    for length in range(2, n + 1):\n",
    "        for i in range(n - length + 1):\n",
    "            j = i + length - 1\n",
    "            # Arya's choices: pick head or tail\n",
    "            head_arya_score = num[i] + dp[i + 1][j][1]\n",
    "            tail_arya_score = num[j] + dp[i][j - 1][1]\n",
    "\n",
    "            if head_arya_score > tail_arya_score:\n",
    "                dp[i][j][0] = head_arya_score  # Arya's score\n",
    "                dp[i][j][1] = dp[i + 1][j][0]  # Mario's score\n",
    "                dp[i][j][2] = [num[i]] + dp[i + 1][j][3]  # Arya's moves\n",
    "                dp[i][j][3] = dp[i + 1][j][2]  # Mario's moves\n",
    "            else:\n",
    "                dp[i][j][0] = tail_arya_score  # Arya's score\n",
    "                dp[i][j][1] = dp[i][j - 1][0]  # Mario's score\n",
    "                dp[i][j][2] = [num[j]] + dp[i][j - 1][3]  # Arya's moves\n",
    "                dp[i][j][3] = dp[i][j - 1][2]  # Mario's moves\n",
    "\n",
    "    # Final scores and moves\n",
    "    final_scores_and_moves = dp[0][n - 1]\n",
    "\n",
    "    return final_scores_and_moves\n",
    "\n",
    "# Example usage on different size lists\n",
    "random.seed(123)\n",
    "\n",
    "listSize = 7\n",
    "trySize = 10\n",
    "\n",
    "nums = [[random.randint(1, 100) for _ in range(i)] for i in range (3, trySize)]\n",
    "\n",
    "for num in nums:\n",
    "    print(\"List\", num)\n",
    "    n = len(num)\n",
    "    arya_score, mario_score, arya_moves, mario_moves = LLM_game(num)\n",
    "    print(\"Arya's best score:\", arya_score)\n",
    "    print(\"Arya best strategy is to take, in sequence\", arya_moves)\n",
    "    print()\n"
   ]
  },
  {
   "cell_type": "markdown",
   "metadata": {},
   "source": [
    "**Computational time analysis**: The optimized_game function efficiently computes Arya's and Mario's scores and their respective moves using a dynamic programming approach.\n",
    "\n",
    "The algorithm is composed of:\n",
    "- Initialization of dp table, that takes ***O(n<sup>2</sup>)*** to fill the table with zeros, where n is the size of the list of numbers. \n",
    "- A for loop that iterates ***O(n)*** times to fill the diagonal of the table to initialize single subarrays tuples.\n",
    "- Two for loop that iterates almost *n* times each, so this nested loops runs in ***O(n<sup>2</sup>)*** time complexity.\n",
    "- Final variable, *final_scores_and_moves*, is created in O(n) time due to iteration over all columns of the table.\n",
    "\n",
    "\n",
    "So, the overall time complexity is ***O(n<sup>2</sup>)***, polynomial complexity.\n",
    "\n",
    "**Correctness**: The proposed approach uses dynamic programming to simulate the optimal strategy for Arya. Each player's optimal choices are taken into account, and the base case and recurrence relation correctly model the dynamics of the game. The solution ensures that Arya plays optimally, assuming that both players make the best possible moves at every step.\n",
    "\n",
    "**Validation**: To validate the results of these 3 algorithms, let's graph the success percentage on the same sets of lists of numbers. Since the 3 lines are overlapping, this means that they maximize the score in the same way."
   ]
  },
  {
   "cell_type": "code",
   "execution_count": null,
   "metadata": {},
   "outputs": [
    {
     "data": {
      "image/png": "[encoded data removed]",
      "text/plain": [
       "<Figure size 2000x600 with 1 Axes>"
      ]
     },
     "metadata": {},
     "output_type": "display_data"
    }
   ],
   "source": [
    "import matplotlib.pyplot as plt\n",
    "import random\n",
    "\n",
    "# Function to test the strategies\n",
    "def test_strategies(maxListSize, iterations=100):\n",
    "    results = {\n",
    "        \"recursive_strategy\": [],\n",
    "        \"optimized_strategy\": [],\n",
    "        \"LLM_strategy\": []\n",
    "    }\n",
    "\n",
    "    # Test different size list of numbers\n",
    "    for n in range(3, maxListSize):\n",
    "        # Variables to track each strategie number of Arya's win over Mario\n",
    "        rec_wins = 0\n",
    "        optim_wins = 0\n",
    "        llm_wins = 0\n",
    "\n",
    "        # Create multiple lists of different sizes to be tested\n",
    "        nums = [[random.randint(1, 100) for _ in range(n)] for i in range(iterations)]\n",
    "\n",
    "        for num in nums:\n",
    "            # Recursive Strategy\n",
    "            arya_score, mario_score, arya_moves, mario_moves = recursive_strategy(num.copy())\n",
    "            if arya_score > mario_score: \n",
    "                rec_wins += 1\n",
    "\n",
    "            # Optimized Strategy\n",
    "            arya_score, mario_score, arya_moves, mario_moves = optimized_game(num.copy(), len(num))\n",
    "            if arya_score > mario_score: \n",
    "                optim_wins += 1\n",
    "\n",
    "            # LLM Strategy\n",
    "            arya_score, mario_score, arya_moves, mario_moves = LLM_game(num.copy())\n",
    "            if arya_score > mario_score: \n",
    "                llm_wins += 1\n",
    "                \n",
    "\n",
    "        # Calculate the win percentages\n",
    "        results[\"recursive_strategy\"].append(rec_wins / iterations * 100)\n",
    "        results[\"optimized_strategy\"].append(optim_wins / iterations * 100)\n",
    "        results[\"LLM_strategy\"].append(llm_wins / iterations * 100)\n",
    "\n",
    "    return results\n",
    "\n",
    "# Lists max size\n",
    "maxListSize = 15\n",
    "# Number of tests for each size\n",
    "iterations = 10  \n",
    "\n",
    "# Test the strategies\n",
    "results = test_strategies(maxListSize, iterations)\n",
    "\n",
    "# Plot the results\n",
    "plt.figure(figsize=(20, 6))\n",
    "\n",
    "plt.plot(nums, results[\"recursive_strategy\"], label=\"Recursive\", marker=\"o\", color=\"blue\", linestyle=\"-\")\n",
    "plt.plot(nums, results[\"optimized_strategy\"], label=\"Optimized\", marker=\"*\", color=\"green\", linestyle=\"--\")\n",
    "plt.plot(nums, results[\"LLM_strategy\"], label=\"LLM\", marker=\"x\", color=\"red\", linestyle=\":\")\n",
    "\n",
    "plt.title(\"Performance of strategies based on array size\")\n",
    "plt.xlabel(\"Array size\")\n",
    "plt.ylabel(\"Win percentage (%)\")\n",
    "plt.legend()\n",
    "plt.grid(True)\n",
    "plt.tight_layout()  # To avoid label cutting\n",
    "plt.show()\n"
   ]
  }
 ],
 "metadata": {
  "kernelspec": {
   "display_name": "base",
   "language": "python",
   "name": "python3"
  },
  "language_info": {
   "codemirror_mode": {
    "name": "ipython",
    "version": 3
   },
   "file_extension": ".py",
   "mimetype": "text/x-python",
   "name": "python",
   "nbconvert_exporter": "python",
   "pygments_lexer": "ipython3",
   "version": "3.12.3"
  }
 },
 "nbformat": 4,
 "nbformat_minor": 2
}
