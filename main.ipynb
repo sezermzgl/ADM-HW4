{
 "cells": [
  {
   "cell_type": "code",
   "execution_count": 1,
   "metadata": {},
   "outputs": [],
   "source": [
    "import pandas as pd\n",
    "import random\n"
   ]
  },
  {
   "cell_type": "markdown",
   "metadata": {},
   "source": [
    "### Prime Number Functions\n",
    "\n",
    "**`is_prime(n)`**  \n",
    "- Checks if a number `n` is prime.\n",
    "- Returns `True` if `n > 1` and divisible only by 1 and itself, else `False`.\n",
    "\n",
    "**`next_prime(n)`**  \n",
    "- Finds the next prime number ≥ `n`.\n",
    "- Uses `is_prime` to incrementally check numbers until a prime is found.\n"
   ]
  },
  {
   "cell_type": "code",
   "execution_count": 2,
   "metadata": {},
   "outputs": [],
   "source": [
    "def is_prime(n):\n",
    "    if n <= 1:\n",
    "        return False\n",
    "    for i in range(2, int(n**0.5) + 1):\n",
    "        if n % i == 0:\n",
    "            return False\n",
    "    return True\n",
    "\n",
    "def next_prime(n):\n",
    "    while not is_prime(n):\n",
    "        n += 1\n",
    "    return n\n"
   ]
  },
  {
   "cell_type": "markdown",
   "metadata": {},
   "source": [
    "### Loading and Merging Datasets\n",
    "\n",
    "1. **Load Datasets**  \n",
    "   - `ratings`: Contains user ratings for movies (`rating.csv`).  \n",
    "   - `movies`: Contains movie information (`movie.csv`).\n",
    "\n",
    "2. **Merge Datasets**  \n",
    "   - Combine `ratings` and `movies` on the `movieId` column using an inner join.  \n",
    "   - Result: A unified DataFrame `df` with movie ratings and details.\n",
    "\n",
    "3. **Preview the Data**  \n",
    "   - Display the first few rows of the merged DataFrame using `df.head()`.\n"
   ]
  },
  {
   "cell_type": "code",
   "execution_count": null,
   "metadata": {},
   "outputs": [],
   "source": [
    "ratings = pd.read_csv('rating.csv')  \n",
    "movies = pd.read_csv('movie.csv')    \n",
    "\n",
    "df = pd.merge(ratings, movies, on='movieId', how='inner')\n"
   ]
  },
  {
   "cell_type": "code",
   "execution_count": null,
   "metadata": {},
   "outputs": [],
   "source": [
    "df.head()"
   ]
  },
  {
   "cell_type": "code",
   "execution_count": null,
   "metadata": {},
   "outputs": [],
   "source": [
    "df.isnull().sum()"
   ]
  },
  {
   "cell_type": "code",
   "execution_count": null,
   "metadata": {},
   "outputs": [],
   "source": [
    "df.info()\n"
   ]
  },
  {
   "cell_type": "code",
   "execution_count": null,
   "metadata": {},
   "outputs": [],
   "source": [
    "df.nunique()"
   ]
  },
  {
   "cell_type": "markdown",
   "metadata": {},
   "source": [
    "### MinHash Implementation from Scratch\n",
    "\n",
    "**`minhash_scratch(user_movie_dict, perm)`**\n",
    "\n",
    "1. **Purpose**  \n",
    "   - Generate MinHash signatures for each user based on the movies they have rated.  \n",
    "\n",
    "2. **Parameters**  \n",
    "   - `user_movie_dict`: Dictionary where keys are users and values are lists of movie IDs.  \n",
    "   - `perm`: Number of hash functions (permutations) to use for the MinHash computation.\n",
    "\n",
    "3. **Logic**  \n",
    "   - **Generate Unique Movie Set:** Extract all unique movie IDs across all users.  \n",
    "   - **Hash Functions:**  \n",
    "     - Generate `perm` random coefficients `a` and `b` for hash functions.  \n",
    "     - Use a prime number `p` greater than the total number of movies to ensure good hashing.  \n",
    "   - **Initialization:** Create a dictionary to store MinHash signatures (`user_sign`), initialized with infinity (`float('inf')`) for each permutation.  \n",
    "   - **Hash Computation:**  \n",
    "     - For each user and their rated movies:  \n",
    "       - Compute the hash value for each movie using \\( \\text{hash} = (a \\cdot \\text{movieId} + b) \\% p \\).  \n",
    "       - Update the user's MinHash signature with the smallest hash value for each permutation.\n",
    "\n",
    "4. **Return**  \n",
    "   - `user_sign`: Dictionary containing MinHash signatures for each user.\n",
    "\n"
   ]
  },
  {
   "cell_type": "code",
   "execution_count": 8,
   "metadata": {},
   "outputs": [],
   "source": [
    "def minhash_scratch(user_movie_dict, perm):\n",
    "    all_movies = set(movie for movies in user_movie_dict.values() for movie in movies)\n",
    "\n",
    "    a_vals = [random.randint(1,len(all_movies)) for i in range(perm)]\n",
    "    b_vals = [random.randint(0,len(all_movies)) for i in range(perm)]\n",
    "\n",
    "    p = next_prime(len(all_movies) + 1)\n",
    "\n",
    "    user_sign = {user : [float('inf')] * perm for user in user_movie_dict}\n",
    "\n",
    "    for user, movies in user_movie_dict.items():\n",
    "        for movie in movies:\n",
    "            for i in range(perm):\n",
    "                hash_value = (a_vals[i] * movie + b_vals[i]) % p ## Why we need the smallest hash values??\n",
    "                if hash_value < user_sign[user][i]:\n",
    "                    user_sign[user][i] = hash_value\n",
    "    \n",
    "    return user_sign"
   ]
  },
  {
   "cell_type": "markdown",
   "metadata": {},
   "source": [
    "### Creating `user_movie_dict`\n",
    "\n",
    "- **Group by `userId`:** Groups the DataFrame by users.\n",
    "- **Extract `movieId`:** Collects all movie IDs each user has rated.\n",
    "- **Convert to List:** Combines the movie IDs into lists for each user.\n",
    "- **Convert to Dictionary:** Creates a dictionary where:\n",
    "  - Keys: `userId` (user identifiers).\n",
    "  - Values: Lists of `movieId` (movies rated by the user).\n",
    "\n",
    "**Result:**  \n",
    "A dictionary `user_movie_dict` where each user is associated with the list of movies they have rated.\n"
   ]
  },
  {
   "cell_type": "code",
   "execution_count": 9,
   "metadata": {},
   "outputs": [],
   "source": [
    "user_movie_dict = df.groupby('userId')['movieId'].apply(list).to_dict()"
   ]
  },
  {
   "cell_type": "code",
   "execution_count": null,
   "metadata": {},
   "outputs": [],
   "source": [
    "user_movie_dict"
   ]
  },
  {
   "cell_type": "markdown",
   "metadata": {},
   "source": [
    "### Locality-Sensitive Hashing (LSH) from Scratch\n",
    "\n",
    "**`lsh_scratch(minhash_signatures, num_bands, rows_per_band)`**\n",
    "\n",
    "1. **Purpose**  \n",
    "   - Implements the LSH algorithm to group users with similar MinHash signatures into the same buckets and identify candidate pairs for similarity checks.\n",
    "\n",
    "2. **Parameters**  \n",
    "   - `minhash_signatures`: Dictionary of users and their MinHash signatures.  \n",
    "   - `num_bands`: Number of bands to divide the signatures into.  \n",
    "   - `rows_per_band`: Number of rows in each band.\n",
    "\n",
    "3. **Logic**  \n",
    "   - **Assertion Check:** Ensures the total number of rows in bands matches the signature length.  \n",
    "   - **Initialization:**\n",
    "     - `buckets`: Stores all users grouped by their bucket hash.\n",
    "     - `candidate_pairs`: Holds all user pairs identified as candidates for similarity.  \n",
    "   - **Band Processing:**  \n",
    "     - For each band, slice the signature into sub-sections (`start_idx:end_idx`).  \n",
    "     - Hash each band to a `band_hash` and group users with the same hash into `band_buckets`.\n",
    "     - Print debug information: Band number, hash, and grouped users.\n",
    "   - **Update Buckets:**  \n",
    "     - Add the users in `band_buckets` to the global `buckets` structure.  \n",
    "   - **Identify Candidate Pairs:**  \n",
    "     - For users in the same `band_buckets` group, generate all possible user pairs.\n",
    "\n",
    "4. **Return Values**  \n",
    "   - `buckets`: Dictionary containing users grouped by bucket hash.  \n",
    "   - `candidate_pairs`: Set of user pairs identified as candidates for further similarity evaluation.\n",
    "\n",
    "5. **Key Steps:**\n",
    "   - **Band Hashing:**  \n",
    "     Users with similar MinHash signatures fall into the same bucket, increasing the likelihood of finding similar users.\n",
    "   - **Candidate Pair Generation:**  \n",
    "     User pairs in the same bucket are flagged as potentially similar for detailed similarity checks.\n",
    "\n",
    "**Debugging Output:**  \n",
    "For each band, the band index, hash values, and associated users are printed for tracking progress.\n"
   ]
  },
  {
   "cell_type": "code",
   "execution_count": 13,
   "metadata": {},
   "outputs": [],
   "source": [
    "from collections import defaultdict\n",
    "\n",
    "def lsh_scratch(minhash_signatures, num_bands, rows_per_band):\n",
    "    assert num_bands * rows_per_band == len(list(minhash_signatures.values())[0]), \\\n",
    "        \"ERROR: num_bands * rows_per_band does not match the signature length.\"\n",
    "\n",
    "    buckets = defaultdict(list)\n",
    "    candidate_pairs = set()\n",
    "\n",
    "    for band_idx in range(num_bands):\n",
    "        band_buckets = defaultdict(list)\n",
    "\n",
    "        for user, signature in minhash_signatures.items():\n",
    "            start_idx = band_idx * rows_per_band\n",
    "            end_idx = start_idx + rows_per_band\n",
    "            band = tuple(signature[start_idx:end_idx])\n",
    "\n",
    "            band_hash = hash(band)  # Built-in Python hash\n",
    "            band_buckets[band_hash].append(user)\n",
    "\n",
    "            print(f\"Band {band_idx}, Hash {band_hash}: {band_buckets[band_hash]}\")\n",
    "\n",
    "        # Add users to general buckets\n",
    "        for band_hash, users in band_buckets.items():\n",
    "            buckets[band_hash].extend(users)\n",
    "\n",
    "        # Check for candidate pairs\n",
    "        for bucket_users in band_buckets.values():\n",
    "            if len(bucket_users) > 1:\n",
    "                for i in range(len(bucket_users)):\n",
    "                    for j in range(i + 1, len(bucket_users)):\n",
    "                        candidate_pairs.add((bucket_users[i], bucket_users[j]))\n",
    "\n",
    "    return buckets, candidate_pairs\n"
   ]
  },
  {
   "cell_type": "code",
   "execution_count": 11,
   "metadata": {},
   "outputs": [],
   "source": [
    "minhash_signatures = minhash_scratch(user_movie_dict, 32)"
   ]
  },
  {
   "cell_type": "code",
   "execution_count": null,
   "metadata": {},
   "outputs": [],
   "source": [
    "minhash_signatures"
   ]
  },
  {
   "cell_type": "code",
   "execution_count": null,
   "metadata": {},
   "outputs": [],
   "source": [
    "num_bands = 8\n",
    "rows_per_band = 4\n",
    "\n",
    "buckets, candidate_pairs = lsh_scratch(minhash_signatures, num_bands, rows_per_band)\n",
    "\n"
   ]
  },
  {
   "cell_type": "code",
   "execution_count": null,
   "metadata": {},
   "outputs": [],
   "source": [
    "buckets"
   ]
  },
  {
   "cell_type": "code",
   "execution_count": null,
   "metadata": {},
   "outputs": [],
   "source": [
    "candidate_pairs"
   ]
  },
  {
   "cell_type": "code",
   "execution_count": null,
   "metadata": {},
   "outputs": [],
   "source": [
    "len(buckets)"
   ]
  },
  {
   "cell_type": "code",
   "execution_count": null,
   "metadata": {},
   "outputs": [],
   "source": [
    "len(candidate_pairs)"
   ]
  },
  {
   "cell_type": "markdown",
   "metadata": {},
   "source": [
    "### Finding Similar Users\n",
    "\n",
    "**Function:** `find_similar_users(candidate_pairs, user_movie_dict)`\n",
    "\n",
    "This function identifies and ranks similar users based on the number of movies they have in common, leveraging the candidate pairs generated by the LSH algorithm.\n",
    "\n",
    "---\n",
    "\n",
    "#### **1. Parameters**\n",
    "- **`candidate_pairs`**: Set of user pairs identified as potentially similar.  \n",
    "- **`user_movie_dict`**: Dictionary mapping users to the list of movies they have rated.\n",
    "\n",
    "---\n",
    "\n",
    "#### **2. Logic**\n",
    "- **Step 1: Calculate Common Movies**  \n",
    "  - For each user pair in `candidate_pairs`:  \n",
    "    - Retrieve their respective movie lists and convert them into sets.  \n",
    "    - Compute the intersection of the sets to find common movies.  \n",
    "    - If the intersection is non-empty, add the pair to the `similar_users` dictionary, along with the count of common movies.  \n",
    "\n",
    "- **Step 2: Sort Similar Users**  \n",
    "  - For each user, sort their list of similar users in descending order of the number of common movies.\n",
    "\n",
    "---\n",
    "\n",
    "#### **3. Return Value**\n",
    "- **`similar_users`**:  \n",
    "  A dictionary where each user is mapped to a list of tuples.  \n",
    "  - Each tuple contains:  \n",
    "    1. A similar user.  \n",
    "    2. The number of movies they have in common.  \n",
    "  - The list is sorted by the number of common movies (highest first).\n",
    "\n",
    "---\n",
    "\n",
    "#### **4. Example Workflow**\n",
    "\n",
    "**Input:**  \n",
    "```python\n",
    "candidate_pairs = {('User1', 'User2'), ('User1', 'User3')}\n",
    "user_movie_dict = {\n",
    "    'User1': [101, 102, 103],\n",
    "    'User2': [101, 103, 104],\n",
    "    'User3': [102, 105]\n",
    "}\n",
    "\n"
   ]
  },
  {
   "cell_type": "markdown",
   "metadata": {},
   "source": [
    "---"
   ]
  },
  {
   "cell_type": "markdown",
   "metadata": {},
   "source": [
    "**Output:**  \n",
    "```python\n",
    "{\n",
    "    'User1': [('User2', 2), ('User3', 1)],\n",
    "    'User2': [('User1', 2)],\n",
    "    'User3': [('User1', 1)]\n",
    "}\n"
   ]
  },
  {
   "cell_type": "code",
   "execution_count": 23,
   "metadata": {},
   "outputs": [],
   "source": [
    "def find_similar_users(candidate_pairs, user_movie_dict):\n",
    "    similar_users = defaultdict(list)  \n",
    "\n",
    "    for user1, user2 in candidate_pairs:\n",
    "        movies_user1 = set(user_movie_dict[user1])\n",
    "        movies_user2 = set(user_movie_dict[user2])\n",
    "        \n",
    "        common_movies = movies_user1.intersection(movies_user2)\n",
    "        \n",
    "        if len(common_movies) > 0:\n",
    "            similar_users[user1].append((user2, len(common_movies)))\n",
    "            similar_users[user2].append((user1, len(common_movies)))\n",
    "\n",
    "    for user in similar_users:\n",
    "        similar_users[user] = sorted(similar_users[user], key=lambda x: x[1], reverse=True)\n",
    "    \n",
    "    return similar_users\n"
   ]
  },
  {
   "cell_type": "markdown",
   "metadata": {},
   "source": [
    "### Movie Recommendation Function\n",
    "\n",
    "**Function:** `recommend_movies(user, similar_users, user_movie_dict, rating_dict, max_recommendations=5)`\n",
    "\n",
    "This function recommends movies to a user based on the preferences of similar users.\n",
    "\n",
    "---\n",
    "\n",
    "#### **1. Parameters**\n",
    "- **`user`**: The target user for whom the recommendations are generated.  \n",
    "- **`similar_users`**: A dictionary mapping users to their similar users and the number of common movies.  \n",
    "- **`user_movie_dict`**: A dictionary mapping users to the list of movies they have rated.  \n",
    "- **`rating_dict`**: A dictionary mapping users to their movie ratings as `{movieId: rating}`.  \n",
    "- **`max_recommendations`**: The maximum number of movies to recommend (default is 5).\n",
    "\n",
    "---\n",
    "\n",
    "#### **2. Logic**\n",
    "1. **Identify Movies Already Watched**  \n",
    "   - Extract the list of movies the target user has already watched to avoid recommending these.\n",
    "\n",
    "2. **Iterate Over Similar Users**  \n",
    "   - For each similar user:\n",
    "     - Identify the movies they have watched but the target user has not (`unseen_movies`).\n",
    "\n",
    "3. **Aggregate Ratings for Unseen Movies**  \n",
    "   - For each unseen movie:\n",
    "     - If it is not already in the recommendation list, add it with the similar user's rating.\n",
    "     - If it is already in the list, add the rating to its existing score.  \n",
    "   - This ensures that movies recommended by multiple similar users receive a higher score.\n",
    "\n",
    "4. **Sort Recommendations**  \n",
    "   - Sort the unseen movies by their aggregated scores in descending order.\n",
    "\n",
    "5. **Return Top Recommendations**  \n",
    "   - Return the top `max_recommendations` movies from the sorted list.\n",
    "\n",
    "---\n",
    "\n",
    "#### **3. Return Value**\n",
    "- A list of movie IDs representing the top recommended movies, sorted by their scores.\n",
    "\n",
    "---\n",
    "\n",
    "#### **4. Example Workflow**\n",
    "\n",
    "**Input:**  \n",
    "```python\n",
    "user = 'User1'\n",
    "similar_users = {\n",
    "    'User1': [('User2', 5), ('User3', 3)]\n",
    "}\n",
    "user_movie_dict = {\n",
    "    'User1': [101, 102],\n",
    "    'User2': [102, 103],\n",
    "    'User3': [103, 104]\n",
    "}\n",
    "rating_dict = {\n",
    "    'User2': {102: 4, 103: 5},\n",
    "    'User3': {103: 3, 104: 4}\n",
    "}\n"
   ]
  },
  {
   "cell_type": "markdown",
   "metadata": {},
   "source": [
    "---"
   ]
  },
  {
   "cell_type": "markdown",
   "metadata": {},
   "source": [
    "**Output:**  \n",
    "```python\n",
    "[103, 104]\n"
   ]
  },
  {
   "cell_type": "code",
   "execution_count": 20,
   "metadata": {},
   "outputs": [],
   "source": [
    "def recommend_movies(user, similar_users, user_movie_dict, rating_dict, max_recommendations=5):\n",
    "    user_movies = set(user_movie_dict[user]) \n",
    "    recommendations = {}\n",
    "\n",
    "    if user not in similar_users:\n",
    "        return []  \n",
    "    \n",
    "    for similar_user, _ in similar_users[user]:\n",
    "        similar_user_movies = set(user_movie_dict[similar_user])\n",
    "        \n",
    "        unseen_movies = similar_user_movies - user_movies\n",
    "        \n",
    "        for movie in unseen_movies:\n",
    "            if movie not in recommendations:\n",
    "                recommendations[movie] = rating_dict[similar_user].get(movie, 0)  \n",
    "            else:\n",
    "                recommendations[movie] += rating_dict[similar_user].get(movie, 0) \n",
    "    \n",
    "    sorted_recommendations = sorted(recommendations.items(), key=lambda x: x[1], reverse=True)\n",
    "    \n",
    "    return [movie for movie, _ in sorted_recommendations[:max_recommendations]]\n"
   ]
  },
  {
   "cell_type": "markdown",
   "metadata": {},
   "source": [
    "### Creating `rating_dict`\n",
    "\n",
    "**Purpose:**  \n",
    "Creates a dictionary mapping each `userId` to their rated `movieId` and corresponding `rating`.\n",
    "\n",
    "**Steps:**  \n",
    "1. **Group by `userId`:** Groups movies and ratings for each user.  \n",
    "2. **`zip` and `dict`:** Combines `movieId` and `rating` into a dictionary for each user.  \n",
    "3. **Convert to `dict`:** Creates a nested dictionary.\n",
    "\n",
    "**Result:**  \n",
    "A dictionary in the format:\n",
    "```python\n",
    "{\n",
    "    'User1': {101: 4.0, 102: 5.0},\n",
    "    'User2': {103: 3.5, 104: 4.0},\n",
    "    ...\n",
    "}\n"
   ]
  },
  {
   "cell_type": "code",
   "execution_count": 21,
   "metadata": {},
   "outputs": [],
   "source": [
    "rating_dict = (\n",
    "    df.groupby('userId')\n",
    "    .apply(lambda x: dict(zip(x['movieId'], x['rating'])))\n",
    "    .to_dict()\n",
    ")\n"
   ]
  },
  {
   "cell_type": "code",
   "execution_count": 24,
   "metadata": {},
   "outputs": [],
   "source": [
    "similar_users = find_similar_users(candidate_pairs, user_movie_dict)"
   ]
  },
  {
   "cell_type": "code",
   "execution_count": null,
   "metadata": {},
   "outputs": [],
   "source": [
    "similar_users"
   ]
  },
  {
   "cell_type": "code",
   "execution_count": null,
   "metadata": {},
   "outputs": [],
   "source": [
    "user_id = 2 \n",
    "recommended_movies = recommend_movies(user_id, similar_users, user_movie_dict, rating_dict)\n",
    "\n",
    "print(f\"Recommended Movies for User {user_id}: {recommended_movies}\")"
   ]
  },
  {
   "cell_type": "code",
   "execution_count": null,
   "metadata": {},
   "outputs": [],
   "source": [
    "user_id = 1 \n",
    "recommended_movies = recommend_movies(user_id, similar_users, user_movie_dict, rating_dict)\n",
    "\n",
    "print(f\"Recommended Movies for User {user_id}: {recommended_movies}\")"
   ]
  },
  {
   "cell_type": "code",
   "execution_count": null,
   "metadata": {},
   "outputs": [],
   "source": []
  }
 ],
 "metadata": {
  "kernelspec": {
   "display_name": "tf_m1",
   "language": "python",
   "name": "python3"
  },
  "language_info": {
   "codemirror_mode": {
    "name": "ipython",
    "version": 3
   },
   "file_extension": ".py",
   "mimetype": "text/x-python",
   "name": "python",
   "nbconvert_exporter": "python",
   "pygments_lexer": "ipython3",
   "version": "3.10.11"
  }
 },
 "nbformat": 4,
 "nbformat_minor": 2
}
